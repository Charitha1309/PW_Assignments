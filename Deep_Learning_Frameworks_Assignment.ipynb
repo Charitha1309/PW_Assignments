{
 "cells": [
  {
   "cell_type": "markdown",
   "id": "103c75c4",
   "metadata": {},
   "source": [
    "#                         Deep Learning Frameworks - Assignment Answers"
   ]
  },
  {
   "cell_type": "markdown",
   "id": "83c3ddab-1c05-410b-86bb-8ef02adbf8cc",
   "metadata": {},
   "source": [
    "## 1. What is TensorFlow 2.0, and how is it different from TensorFlow 1.x"
   ]
  },
  {
   "cell_type": "markdown",
   "id": "c3f69f54-853e-44f2-b31d-4747ef9e23cc",
   "metadata": {},
   "source": [
    "'''TensorFlow 2.0 is an open-source deep learning framework that simplifies model development and deployment. Unlike TensorFlow 1.x, it uses eager execution by default, making debugging and prototyping easier. It also integrates the Keras API for high-level model building and simplifies APIs for better usability.'''"
   ]
  },
  {
   "cell_type": "markdown",
   "id": "b8e27582-e3f4-4800-b8ad-8ab6d32105d6",
   "metadata": {},
   "source": [
    "## 2. How do you install TensorFlow 2.0?"
   ]
  },
  {
   "cell_type": "markdown",
   "id": "e4ecdfd2-f079-43b6-b0c5-05f0836d49b4",
   "metadata": {},
   "source": [
    "'''To install TensorFlow 2.0, run the following command:\n",
    "pip install tensorflow==2.0.0\n",
    "This command installs TensorFlow 2.0 along with its dependencies, enabling you to use the framework for deep learning projects.'''"
   ]
  },
  {
   "cell_type": "markdown",
   "id": "9cb3433a-d9bf-40f8-a5d5-aad50c4cd25f",
   "metadata": {},
   "source": [
    "## 3. What is the primary function of the tf.function in TensorFlow 2.0?"
   ]
  },
  {
   "cell_type": "markdown",
   "id": "bd8af899-58d7-4b2e-abec-1f9ac6f30a92",
   "metadata": {},
   "source": [
    "'''\n",
    "The tf.function converts a Python function into a TensorFlow graph for performance optimization and faster execution.\n",
    "'''"
   ]
  },
  {
   "cell_type": "markdown",
   "id": "b4403788-02b4-4013-bc91-56e9cebc982e",
   "metadata": {},
   "source": [
    "## 4. What is the purpose of the Model class in TensorFlow 2.0?"
   ]
  },
  {
   "cell_type": "markdown",
   "id": "88e932f3-1269-4e7f-8458-a1a95ae12a91",
   "metadata": {},
   "source": [
    "'''\n",
    "The Model class provides a way to define, train, and evaluate machine learning models. It is part of the Keras API in TensorFlow 2.0.\n",
    "'''"
   ]
  },
  {
   "cell_type": "markdown",
   "id": "892d7ce5-bdde-4e80-ba21-6b3d7ec1f7b5",
   "metadata": {},
   "source": [
    "# 5. How do you create a neural network using TensorFlow 2.0?"
   ]
  },
  {
   "cell_type": "markdown",
   "id": "25f70dff-7f7f-464d-a501-1e993afae2ea",
   "metadata": {},
   "source": [
    "'''\n",
    "To create a neural network using TensorFlow 2.0, you typically use the Sequential API from the Keras module. Here is the step-by-step process:\n",
    "Import Necessary Libraries: Import TensorFlow and relevant Keras modules like Sequential and Dense.\n",
    "Define the Model: Use the Sequential class to stack layers in a linear way.\n",
    "                   Add input, hidden, and output layers using the Dense layer class.\n",
    "Compile the Model: Specify the optimizer (e.g., Adam), loss function (e.g., binary crossentropy), and evaluation metrics (e.g., accuracy).\n",
    "Train the Model: Use the fit method to train the model on the training data.\n",
    "\n",
    "Example:\n",
    "\n",
    "import tensorflow as tf  \n",
    "from tensorflow.keras import Sequential  \n",
    "from tensorflow.keras.layers import Dense \n",
    "\n",
    "#Define the model  \n",
    "model = Sequential([  \n",
    "    Dense(16, activation='relu', input_shape=(10,)),  #Input layer with 10 features  \n",
    "    Dense(8, activation='relu'),                     #Hidden layer  \n",
    "    Dense(1, activation='sigmoid')                  #Output layer  \n",
    "])  \n",
    "\n",
    "#Compile the model  \n",
    "model.compile(optimizer='adam', loss='binary_crossentropy', metrics=['accuracy'])  \n",
    "\n",
    "#Train the model  \n",
    "#model.fit(x_train, y_train, epochs=10, batch_size=32)  \n",
    "This process demonstrates how to create, configure, and prepare a simple neural network for training in TensorFlow 2.0.\n",
    "'''"
   ]
  },
  {
   "cell_type": "markdown",
   "id": "b755e7e1-0589-44ee-a99f-593832d93a5f",
   "metadata": {},
   "source": [
    "## 6. What is the importance of Tensor Space in TensorFlow?"
   ]
  },
  {
   "cell_type": "markdown",
   "id": "c3bedb70-0bd2-4511-8d39-f9b96098eab1",
   "metadata": {},
   "source": [
    "'''\n",
    "Tensor Space allows efficient representation and computation of multidimensional data, which is fundamental for deep learning tasks.\n",
    "'''"
   ]
  },
  {
   "cell_type": "markdown",
   "id": "99699b4b-7ac3-4599-99a7-4a6ac77a48bc",
   "metadata": {},
   "source": [
    "## 7. How can TensorBoard be integrated with TensorFlow 2.0?"
   ]
  },
  {
   "cell_type": "markdown",
   "id": "41bc6895-1413-4792-a7c5-d1d1b75a9136",
   "metadata": {},
   "source": [
    "'''\n",
    "TensorBoard can be integrated by adding a tf.keras.callbacks.TensorBoard callback during model training. It provides real-time visualizations of metrics such as loss and accuracy.\n",
    "'''"
   ]
  },
  {
   "cell_type": "markdown",
   "id": "55599d29-257d-4a42-bdbe-481e9b52d02a",
   "metadata": {},
   "source": [
    "## 8. What is the purpose of TensorFlow Playground?"
   ]
  },
  {
   "cell_type": "markdown",
   "id": "01077c5c-8d1d-4e6f-8c2f-7499b9aaec0d",
   "metadata": {},
   "source": [
    "'''\n",
    "TensorFlow Playground is an interactive tool that allows users to experiment with simple neural networks and gain a better understanding of their behavior.\n",
    "'''"
   ]
  },
  {
   "cell_type": "markdown",
   "id": "54cc1988-a776-4fe5-9be5-3945b4f1487c",
   "metadata": {},
   "source": [
    "## 9. What is Netron, and how is it useful for deep learning models?"
   ]
  },
  {
   "cell_type": "markdown",
   "id": "d2a7b542-ca1c-4a71-ba69-1e60fc35f1b5",
   "metadata": {},
   "source": [
    "'''\n",
    "Netron is a visualizer for deep learning models. It allows users to inspect the architecture, layers, and parameters of models in formats like ONNX, TensorFlow, and PyTorch.\n",
    "'''"
   ]
  },
  {
   "cell_type": "markdown",
   "id": "149a931d-cd43-441d-bc50-0427f59f72f8",
   "metadata": {},
   "source": [
    "## 10. What is the difference between TensorFlow and PyTorch?"
   ]
  },
  {
   "cell_type": "markdown",
   "id": "ad906061-13c1-4e2a-aa06-7bbaef056cdf",
   "metadata": {},
   "source": [
    "'''\n",
    "TensorFlow offers static graph computation and has built-in deployment tools.\n",
    "\n",
    "PyTorch provides dynamic graph computation, making it more intuitive and easier for research.\n",
    "'''"
   ]
  },
  {
   "cell_type": "markdown",
   "id": "8b82b3fd-7d5c-4848-b1ff-eae118f13cae",
   "metadata": {},
   "source": [
    "## 11. How do you install PyTorch?"
   ]
  },
  {
   "cell_type": "markdown",
   "id": "55977b9a-c46d-4d83-a8a5-610f0408ac5e",
   "metadata": {},
   "source": [
    "'''\n",
    "To install PyTorch, visit the official PyTorch website and follow the instructions based on your platform, Python version, and CUDA configuration.\n",
    "'''"
   ]
  },
  {
   "cell_type": "markdown",
   "id": "7890241d-bb59-4404-9cd5-dbd22baa2205",
   "metadata": {},
   "source": [
    "## 12. What is the basic structure of a PyTorch neural network?"
   ]
  },
  {
   "cell_type": "markdown",
   "id": "404b09ce-5342-4a5b-90e0-d46f40371149",
   "metadata": {},
   "source": [
    "'''\n",
    "The basic structure of a PyTorch neural network is built by defining a class that inherits from torch.nn.Module. \n",
    "This class contains:\n",
    "\n",
    "__init__ Method: Used to define the layers of the neural network as class attributes.\n",
    "\n",
    "forward Method: Implements the forward pass of the neural network, specifying how the input data flows through the defined layers.\n",
    "For example, a simple neural network structure:\n",
    "import torch.nn as nn  \n",
    "\n",
    "class SimpleNN(nn.Module):  \n",
    "    def __init__(self):  \n",
    "        super(SimpleNN, self).__init__()  \n",
    "        self.fc1 = nn.Linear(10, 16)  # Fully connected layer 1  \n",
    "        self.fc2 = nn.Linear(16, 1)   # Fully connected layer 2  \n",
    "\n",
    "    def forward(self, x):  \n",
    "        x = torch.relu(self.fc1(x))  # Apply ReLU activation  \n",
    "        x = torch.sigmoid(self.fc2(x))  # Apply Sigmoid activation  \n",
    "        return x  \n",
    "This example demonstrates the use of fully connected layers (nn.Linear) and activation functions like ReLU and Sigmoid. The forward method dictates how data is processed through the network.\n",
    "'''"
   ]
  },
  {
   "cell_type": "markdown",
   "id": "f3fefacf-4cc1-40ea-b199-bbb739b07195",
   "metadata": {},
   "source": [
    "## 13. What is the significance of tensors in PyTorch?"
   ]
  },
  {
   "cell_type": "markdown",
   "id": "094c317a-8bb5-4220-b08e-a54485b9118c",
   "metadata": {},
   "source": [
    "'''\n",
    "Tensors are the fundamental data structures in PyTorch, enabling efficient computations on GPUs for deep learning tasks.\n",
    "'''"
   ]
  },
  {
   "cell_type": "markdown",
   "id": "d9b10cb0-3e87-429c-9d40-15d20eded4f1",
   "metadata": {},
   "source": [
    "## 14. What is the difference between torch.Tensor and torch.cuda.Tensor in PyTorch?"
   ]
  },
  {
   "cell_type": "markdown",
   "id": "846447f5-776e-453d-aa9c-8b05c3cc7092",
   "metadata": {},
   "source": [
    "'''\n",
    "torch.Tensor resides in the CPU memory.\n",
    "\n",
    "torch.cuda.Tensor is stored on the GPU, allowing faster computations.\n",
    "'''"
   ]
  },
  {
   "cell_type": "markdown",
   "id": "efb5b66e-4991-42df-9107-485e53c23611",
   "metadata": {},
   "source": [
    "## 15. What is the purpose of the torch.optim module in PyTorch?"
   ]
  },
  {
   "cell_type": "markdown",
   "id": "80b59ff5-feb9-447d-9e95-b9c4d2b0c40b",
   "metadata": {},
   "source": [
    "'''\n",
    "The torch.optim module provides optimization algorithms like SGD and Adam for training neural networks.\n",
    "'''"
   ]
  },
  {
   "cell_type": "markdown",
   "id": "21e14143-28e2-413a-84fc-a67d1ae8664d",
   "metadata": {},
   "source": [
    "## 16. What are some common activation functions used in neural networks?"
   ]
  },
  {
   "cell_type": "markdown",
   "id": "01b7c0ec-9ea7-4b08-8712-8b6ebea8b793",
   "metadata": {},
   "source": [
    "'''\n",
    "ReLU\n",
    "\n",
    "Sigmoid\n",
    "\n",
    "Tanh\n",
    "\n",
    "Softmax\n",
    "\n",
    "Leaky ReLU\n",
    "'''"
   ]
  },
  {
   "cell_type": "markdown",
   "id": "355b0dd9-439f-409c-a01f-dac53f060001",
   "metadata": {},
   "source": [
    "## 17. What is the difference between torch.nn.Module and torch.nn.Sequential in PyTorch?"
   ]
  },
  {
   "cell_type": "markdown",
   "id": "dc7fa437-5139-4f2e-96b1-9182fa058d7e",
   "metadata": {},
   "source": [
    "'''\n",
    "torch.nn.Module allows for flexible, custom model definitions.\n",
    "\n",
    "torch.nn.Sequential stacks layers sequentially for simpler models.\n",
    "'''"
   ]
  },
  {
   "cell_type": "markdown",
   "id": "eb6744f6-4bf3-4f17-afbe-3854b994df3f",
   "metadata": {},
   "source": [
    "## 18. How can you monitor training progress in TensorFlow 2.0?"
   ]
  },
  {
   "cell_type": "markdown",
   "id": "aa56ae44-4dc9-4372-ab99-856d8f4efa0a",
   "metadata": {},
   "source": [
    "'''\n",
    "Use callbacks like tf.keras.callbacks.TensorBoard or tf.keras.callbacks.EarlyStopping to monitor and control training.\n",
    "'''"
   ]
  },
  {
   "cell_type": "markdown",
   "id": "e92d1119-4dc4-4885-8f46-91ba28c73882",
   "metadata": {},
   "source": [
    "## 19. How does the Keras API fit into TensorFlow 2.0?"
   ]
  },
  {
   "cell_type": "markdown",
   "id": "05bbdac9-f9e8-4f40-a986-88a2a9c039de",
   "metadata": {},
   "source": [
    "'''\n",
    "The Keras API is tightly integrated into TensorFlow 2.0, providing a high-level framework for building and training models.\n",
    "'''"
   ]
  },
  {
   "cell_type": "markdown",
   "id": "fd98faa7-b7fc-41b6-8593-ea5e7b31cdd6",
   "metadata": {},
   "source": [
    "## 20. What is an example of a deep learning project that can be implemented using TensorFlow 2.0?"
   ]
  },
  {
   "cell_type": "markdown",
   "id": "8ac614af-deba-4dc2-a10c-823d8483f4d6",
   "metadata": {},
   "source": [
    "'''\n",
    "A project to classify handwritten digits using the MNIST dataset can be implemented with TensorFlow 2.0.\n",
    "'''"
   ]
  },
  {
   "cell_type": "markdown",
   "id": "19b0f6f6-bf8c-4f60-b749-a3bd960ea86f",
   "metadata": {},
   "source": [
    "## 21. What is the main advantage of using pre-trained models in TensorFlow and PyTorch?"
   ]
  },
  {
   "cell_type": "markdown",
   "id": "ed18c71e-2015-4991-a9e9-77aed6ad6802",
   "metadata": {},
   "source": [
    "'''\n",
    "Pre-trained models save time and resources by leveraging knowledge from existing models, improving accuracy and reducing training costs.\n",
    "'''"
   ]
  },
  {
   "cell_type": "markdown",
   "id": "a4fe3c10-0383-45e2-a625-f9cecf79f1de",
   "metadata": {},
   "source": [
    "# Pratical"
   ]
  },
  {
   "cell_type": "markdown",
   "id": "eb932386-b04d-4456-9101-910a39e0a488",
   "metadata": {},
   "source": [
    "## 1. How do you install and verify that TensorFlow 2.0 was installed successfully?"
   ]
  },
  {
   "cell_type": "code",
   "execution_count": 154,
   "id": "1c7e4b05-774f-4955-99c4-e49251cbac08",
   "metadata": {},
   "outputs": [
    {
     "name": "stderr",
     "output_type": "stream",
     "text": [
      "ERROR: Could not find a version that satisfies the requirement tensorflow==2.0.0 (from versions: 2.16.0rc0, 2.16.1, 2.16.2, 2.17.0rc0, 2.17.0rc1, 2.17.0, 2.17.1, 2.18.0rc0, 2.18.0rc1, 2.18.0rc2, 2.18.0)\n",
      "ERROR: No matching distribution found for tensorflow==2.0.0\n"
     ]
    }
   ],
   "source": [
    "!pip install tensorflow==2.0.0  "
   ]
  },
  {
   "cell_type": "code",
   "execution_count": 156,
   "id": "c56bced2-92f0-4135-bbdc-b4b32d649113",
   "metadata": {},
   "outputs": [
    {
     "name": "stdout",
     "output_type": "stream",
     "text": [
      "2.18.0\n"
     ]
    }
   ],
   "source": [
    "import tensorflow as tf  \n",
    "print(tf.__version__)  # This should print 2.0.0  "
   ]
  },
  {
   "cell_type": "markdown",
   "id": "02fea482-28dc-4848-98a9-055fc6100a1b",
   "metadata": {},
   "source": [
    "## 2. How can you define a simple function in TensorFlow 2.0 to perform addition?"
   ]
  },
  {
   "cell_type": "code",
   "execution_count": 152,
   "id": "05c737bf-f6fe-4a56-b7f3-c19fafa70f8a",
   "metadata": {},
   "outputs": [
    {
     "name": "stdout",
     "output_type": "stream",
     "text": [
      "8\n"
     ]
    }
   ],
   "source": [
    "import tensorflow as tf  \n",
    "\n",
    "@tf.function  \n",
    "def add_numbers(a, b):  \n",
    "    return a + b  \n",
    "\n",
    "result = add_numbers(3, 5)  \n",
    "print(result.numpy())  # Output: 8  "
   ]
  },
  {
   "cell_type": "markdown",
   "id": "bb5e091c-1785-4720-89e7-5f95256dd441",
   "metadata": {},
   "source": [
    "## 3. How can you create a simple neural network in TensorFlow 2.0 with one hidden layer?"
   ]
  },
  {
   "cell_type": "code",
   "execution_count": 170,
   "id": "dbf8f1c8-73f8-4d50-a876-1cac09a6625a",
   "metadata": {},
   "outputs": [
    {
     "name": "stdout",
     "output_type": "stream",
     "text": [
      "Epoch 1/5\n",
      "\u001b[1m10/10\u001b[0m \u001b[32m━━━━━━━━━━━━━━━━━━━━\u001b[0m\u001b[37m\u001b[0m \u001b[1m1s\u001b[0m 8ms/step - accuracy: 0.5273 - loss: 0.6966\n",
      "Epoch 2/5\n",
      "\u001b[1m10/10\u001b[0m \u001b[32m━━━━━━━━━━━━━━━━━━━━\u001b[0m\u001b[37m\u001b[0m \u001b[1m0s\u001b[0m 6ms/step - accuracy: 0.4626 - loss: 0.7023 \n",
      "Epoch 3/5\n",
      "\u001b[1m10/10\u001b[0m \u001b[32m━━━━━━━━━━━━━━━━━━━━\u001b[0m\u001b[37m\u001b[0m \u001b[1m0s\u001b[0m 6ms/step - accuracy: 0.4295 - loss: 0.7075 \n",
      "Epoch 4/5\n",
      "\u001b[1m10/10\u001b[0m \u001b[32m━━━━━━━━━━━━━━━━━━━━\u001b[0m\u001b[37m\u001b[0m \u001b[1m0s\u001b[0m 6ms/step - accuracy: 0.4591 - loss: 0.6912 \n",
      "Epoch 5/5\n",
      "\u001b[1m10/10\u001b[0m \u001b[32m━━━━━━━━━━━━━━━━━━━━\u001b[0m\u001b[37m\u001b[0m \u001b[1m0s\u001b[0m 6ms/step - accuracy: 0.5157 - loss: 0.6725 \n"
     ]
    },
    {
     "data": {
      "text/plain": [
       "<keras.src.callbacks.history.History at 0x22cb11577a0>"
      ]
     },
     "execution_count": 170,
     "metadata": {},
     "output_type": "execute_result"
    }
   ],
   "source": [
    "import tensorflow as tf  \n",
    "from tensorflow.keras import Sequential  \n",
    "from tensorflow.keras.layers import Dense  \n",
    "import numpy as np  \n",
    "\n",
    "# Generate dummy data  \n",
    "x_train = np.random.random((100, 10))  \n",
    "y_train = np.random.randint(0, 2, (100,))  \n",
    "\n",
    "# Define the model  \n",
    "model = Sequential([  \n",
    "    Dense(16, activation='relu', input_shape=(10,)),  # Hidden layer  \n",
    "    Dense(1, activation='sigmoid')                   # Output layer  \n",
    "])  \n",
    "model.compile(optimizer='adam', loss='binary_crossentropy', metrics=['accuracy'])  \n",
    "\n",
    "# Train the model  \n",
    "model.fit(x_train, y_train, epochs=5, batch_size=10)  \n"
   ]
  },
  {
   "cell_type": "markdown",
   "id": "4e46bc8d-65c9-401c-bb23-7c74aed176bb",
   "metadata": {},
   "source": [
    "## 4. How can you visualize the training progress using TensorFlow and Matplotlib?"
   ]
  },
  {
   "cell_type": "code",
   "execution_count": 172,
   "id": "b6f1edbd-ce9b-46b0-bc02-e18470bd6d28",
   "metadata": {},
   "outputs": [
    {
     "name": "stdout",
     "output_type": "stream",
     "text": [
      "Epoch 1/5\n",
      "\u001b[1m10/10\u001b[0m \u001b[32m━━━━━━━━━━━━━━━━━━━━\u001b[0m\u001b[37m\u001b[0m \u001b[1m0s\u001b[0m 32ms/step - accuracy: 0.4762 - loss: 0.6934 - val_accuracy: 0.4000 - val_loss: 0.7181\n",
      "Epoch 2/5\n",
      "\u001b[1m10/10\u001b[0m \u001b[32m━━━━━━━━━━━━━━━━━━━━\u001b[0m\u001b[37m\u001b[0m \u001b[1m0s\u001b[0m 12ms/step - accuracy: 0.5144 - loss: 0.6992 - val_accuracy: 0.4000 - val_loss: 0.7188\n",
      "Epoch 3/5\n",
      "\u001b[1m10/10\u001b[0m \u001b[32m━━━━━━━━━━━━━━━━━━━━\u001b[0m\u001b[37m\u001b[0m \u001b[1m0s\u001b[0m 18ms/step - accuracy: 0.5053 - loss: 0.6930 - val_accuracy: 0.4000 - val_loss: 0.7192\n",
      "Epoch 4/5\n",
      "\u001b[1m10/10\u001b[0m \u001b[32m━━━━━━━━━━━━━━━━━━━━\u001b[0m\u001b[37m\u001b[0m \u001b[1m0s\u001b[0m 15ms/step - accuracy: 0.5280 - loss: 0.6852 - val_accuracy: 0.4000 - val_loss: 0.7207\n",
      "Epoch 5/5\n",
      "\u001b[1m10/10\u001b[0m \u001b[32m━━━━━━━━━━━━━━━━━━━━\u001b[0m\u001b[37m\u001b[0m \u001b[1m0s\u001b[0m 14ms/step - accuracy: 0.6070 - loss: 0.6776 - val_accuracy: 0.4000 - val_loss: 0.7228\n"
     ]
    },
    {
     "data": {
      "image/png": "[encoded data removed]",
      "text/plain": [
       "<Figure size 640x480 with 1 Axes>"
      ]
     },
     "metadata": {},
     "output_type": "display_data"
    },
    {
     "data": {
      "image/png": "[encoded data removed]",
      "text/plain": [
       "<Figure size 640x480 with 1 Axes>"
      ]
     },
     "metadata": {},
     "output_type": "display_data"
    }
   ],
   "source": [
    "import matplotlib.pyplot as plt  \n",
    "\n",
    "# Generate dummy validation data  \n",
    "x_val = np.random.random((20, 10))  \n",
    "y_val = np.random.randint(0, 2, (20,))  \n",
    "\n",
    "# Train the model and store history  \n",
    "history = model.fit(x_train, y_train, validation_data=(x_val, y_val), epochs=5, batch_size=10)  \n",
    "\n",
    "# Plot accuracy  \n",
    "plt.plot(history.history['accuracy'], label='Train Accuracy')  \n",
    "plt.plot(history.history['val_accuracy'], label='Validation Accuracy')  \n",
    "plt.xlabel('Epochs')  \n",
    "plt.ylabel('Accuracy')  \n",
    "plt.legend()  \n",
    "plt.title('Training Progress: Accuracy')  \n",
    "plt.show()  \n",
    "\n",
    "# Plot loss  \n",
    "plt.plot(history.history['loss'], label='Train Loss')  \n",
    "plt.plot(history.history['val_loss'], label='Validation Loss')  \n",
    "plt.xlabel('Epochs')  \n",
    "plt.ylabel('Loss')  \n",
    "plt.legend()  \n",
    "plt.title('Training Progress: Loss')  \n",
    "plt.show()  \n"
   ]
  },
  {
   "cell_type": "markdown",
   "id": "251ee1b5-1a80-4492-9f33-55f95f78f77c",
   "metadata": {},
   "source": [
    "## 5. How do you install PyTorch and verify the PyTorch installation?"
   ]
  },
  {
   "cell_type": "code",
   "execution_count": 174,
   "id": "a5a60296-f8e4-44e3-acad-44225904399f",
   "metadata": {},
   "outputs": [
    {
     "name": "stdout",
     "output_type": "stream",
     "text": [
      "Requirement already satisfied: torch in d:\\softwares\\lib\\site-packages (2.5.1)\n",
      "Collecting torchvision\n",
      "  Downloading torchvision-0.20.1-cp312-cp312-win_amd64.whl.metadata (6.2 kB)\n",
      "Collecting torchaudio\n",
      "  Downloading torchaudio-2.5.1-cp312-cp312-win_amd64.whl.metadata (6.5 kB)\n",
      "Requirement already satisfied: filelock in d:\\softwares\\lib\\site-packages (from torch) (3.13.1)\n",
      "Requirement already satisfied: typing-extensions>=4.8.0 in d:\\softwares\\lib\\site-packages (from torch) (4.11.0)\n",
      "Requirement already satisfied: networkx in d:\\softwares\\lib\\site-packages (from torch) (3.3)\n",
      "Requirement already satisfied: jinja2 in d:\\softwares\\lib\\site-packages (from torch) (3.1.4)\n",
      "Requirement already satisfied: fsspec in d:\\softwares\\lib\\site-packages (from torch) (2024.6.1)\n",
      "Requirement already satisfied: setuptools in d:\\softwares\\lib\\site-packages (from torch) (75.1.0)\n",
      "Requirement already satisfied: sympy==1.13.1 in d:\\softwares\\lib\\site-packages (from torch) (1.13.1)\n",
      "Requirement already satisfied: mpmath<1.4,>=1.1.0 in d:\\softwares\\lib\\site-packages (from sympy==1.13.1->torch) (1.3.0)\n",
      "Requirement already satisfied: numpy in d:\\softwares\\lib\\site-packages (from torchvision) (1.26.4)\n",
      "Requirement already satisfied: pillow!=8.3.*,>=5.3.0 in d:\\softwares\\lib\\site-packages (from torchvision) (10.4.0)\n",
      "Requirement already satisfied: MarkupSafe>=2.0 in d:\\softwares\\lib\\site-packages (from jinja2->torch) (2.1.3)\n",
      "Downloading torchvision-0.20.1-cp312-cp312-win_amd64.whl (1.6 MB)\n",
      "   ---------------------------------------- 0.0/1.6 MB ? eta -:--:--\n",
      "   ------ --------------------------------- 0.3/1.6 MB ? eta -:--:--\n",
      "   ------ --------------------------------- 0.3/1.6 MB ? eta -:--:--\n",
      "   ------------- -------------------------- 0.5/1.6 MB 599.9 kB/s eta 0:00:02\n",
      "   ------------- -------------------------- 0.5/1.6 MB 599.9 kB/s eta 0:00:02\n",
      "   -------------------- ------------------- 0.8/1.6 MB 645.7 kB/s eta 0:00:02\n",
      "   -------------------- ------------------- 0.8/1.6 MB 645.7 kB/s eta 0:00:02\n",
      "   -------------------------- ------------- 1.0/1.6 MB 689.9 kB/s eta 0:00:01\n",
      "   --------------------------------- ------ 1.3/1.6 MB 762.6 kB/s eta 0:00:01\n",
      "   ---------------------------------------- 1.6/1.6 MB 832.4 kB/s eta 0:00:00\n",
      "Downloading torchaudio-2.5.1-cp312-cp312-win_amd64.whl (2.4 MB)\n",
      "   ---------------------------------------- 0.0/2.4 MB ? eta -:--:--\n",
      "   ---------------------------------------- 0.0/2.4 MB ? eta -:--:--\n",
      "   ------------ --------------------------- 0.8/2.4 MB 2.4 MB/s eta 0:00:01\n",
      "   --------------------- ------------------ 1.3/2.4 MB 2.8 MB/s eta 0:00:01\n",
      "   ------------------------------ --------- 1.8/2.4 MB 2.8 MB/s eta 0:00:01\n",
      "   ---------------------------------------- 2.4/2.4 MB 2.7 MB/s eta 0:00:00\n",
      "Installing collected packages: torchvision, torchaudio\n",
      "Successfully installed torchaudio-2.5.1 torchvision-0.20.1\n",
      "Note: you may need to restart the kernel to use updated packages.\n"
     ]
    }
   ],
   "source": [
    "pip install torch torchvision torchaudio  "
   ]
  },
  {
   "cell_type": "code",
   "execution_count": 176,
   "id": "8616b1f9-bf5f-4d8d-a3df-ef7331b540cc",
   "metadata": {},
   "outputs": [
    {
     "name": "stdout",
     "output_type": "stream",
     "text": [
      "2.5.1+cpu\n",
      "False\n"
     ]
    }
   ],
   "source": [
    "import torch  \n",
    "print(torch.__version__)  # Prints the installed PyTorch version  \n",
    "print(torch.cuda.is_available())  # Checks GPU availability  "
   ]
  },
  {
   "cell_type": "markdown",
   "id": "726a9389-e1a9-4271-802b-2e08d439388e",
   "metadata": {},
   "source": [
    "## 6. How do you create a simple neural network in PyTorch?"
   ]
  },
  {
   "cell_type": "code",
   "execution_count": 178,
   "id": "e457d201-f4c1-4fb1-85c1-e4f619d1acac",
   "metadata": {},
   "outputs": [
    {
     "name": "stdout",
     "output_type": "stream",
     "text": [
      "SimpleNN(\n",
      "  (fc1): Linear(in_features=10, out_features=16, bias=True)\n",
      "  (fc2): Linear(in_features=16, out_features=1, bias=True)\n",
      ")\n"
     ]
    }
   ],
   "source": [
    "import torch  \n",
    "import torch.nn as nn  \n",
    "import torch.optim as optim  \n",
    "\n",
    "# Define the neural network  \n",
    "class SimpleNN(nn.Module):  \n",
    "    def __init__(self):  \n",
    "        super(SimpleNN, self).__init__()  \n",
    "        self.fc1 = nn.Linear(10, 16)  \n",
    "        self.fc2 = nn.Linear(16, 1)  \n",
    "\n",
    "    def forward(self, x):  \n",
    "        x = torch.relu(self.fc1(x))  \n",
    "        x = torch.sigmoid(self.fc2(x))  \n",
    "        return x  \n",
    "\n",
    "# Instantiate the model  \n",
    "model = SimpleNN()  \n",
    "\n",
    "# Print model architecture  \n",
    "print(model)  \n"
   ]
  },
  {
   "cell_type": "markdown",
   "id": "bfdef0b1-43bd-4942-b936-e560ff61c72d",
   "metadata": {},
   "source": [
    "## 7. How do you define a loss function and optimizer in PyTorch?"
   ]
  },
  {
   "cell_type": "code",
   "execution_count": 180,
   "id": "e6231bc1-549d-4f9b-a9a5-444c82652c1e",
   "metadata": {},
   "outputs": [
    {
     "name": "stdout",
     "output_type": "stream",
     "text": [
      "Loss Value: 0.6610117554664612\n"
     ]
    }
   ],
   "source": [
    "loss_fn = nn.BCELoss()  # Binary Cross Entropy Loss  \n",
    "optimizer = optim.Adam(model.parameters(), lr=0.001)  \n",
    "\n",
    "# Example input and output tensors  \n",
    "inputs = torch.rand(10, 10)  \n",
    "targets = torch.randint(0, 2, (10, 1)).float()  \n",
    "\n",
    "# Forward pass  \n",
    "outputs = model(inputs)  \n",
    "\n",
    "# Compute loss  \n",
    "loss = loss_fn(outputs, targets)  \n",
    "print(\"Loss Value:\", loss.item())  \n"
   ]
  },
  {
   "cell_type": "markdown",
   "id": "4127b92f-5724-417d-9c89-7a2d2016ab3b",
   "metadata": {},
   "source": [
    "## 8. How do you implement a custom loss function in PyTorch?"
   ]
  },
  {
   "cell_type": "code",
   "execution_count": 182,
   "id": "4a9f8566-cb41-428d-ac06-93898f015c8b",
   "metadata": {},
   "outputs": [
    {
     "name": "stdout",
     "output_type": "stream",
     "text": [
      "Custom Loss Value: 0.2339744120836258\n"
     ]
    }
   ],
   "source": [
    "def custom_loss(output, target):  \n",
    "    return torch.mean((output - target) ** 2)  # Mean Squared Error  \n",
    "\n",
    "# Usage  \n",
    "loss = custom_loss(outputs, targets)  \n",
    "print(\"Custom Loss Value:\", loss.item())  \n"
   ]
  },
  {
   "cell_type": "markdown",
   "id": "580f06a1-501f-4721-ae26-33aadb19ac42",
   "metadata": {},
   "source": [
    "## 9. How do you save and load a TensorFlow model?"
   ]
  },
  {
   "cell_type": "code",
   "execution_count": 207,
   "id": "d5b7b69b-890a-4d5a-9912-8eda82b00e7a",
   "metadata": {},
   "outputs": [
    {
     "name": "stdout",
     "output_type": "stream",
     "text": [
      "Model saved successfully.\n",
      "Model loaded successfull# y.\n"
     ]
    }
   ],
   "source": [
    "# Save the model  \n",
    "model.save('my_model.h5')  \n",
    "print(\"Model saved successfully.\")  \n",
    "\n",
    "#Load the model  \n",
    "from tensorflow.keras.models import load_model  \n",
    "loaded_model = load_model('my_model.h5')  \n",
    "print(\"Model loaded successfull# y.\")  \n"
   ]
  }
 ],
 "metadata": {
  "kernelspec": {
   "display_name": "Python 3 (ipykernel)",
   "language": "python",
   "name": "python3"
  },
  "language_info": {
   "codemirror_mode": {
    "name": "ipython",
    "version": 3
   },
   "file_extension": ".py",
   "mimetype": "text/x-python",
   "name": "python",
   "nbconvert_exporter": "python",
   "pygments_lexer": "ipython3",
   "version": "3.12.7"
  }
 },
 "nbformat": 4,
 "nbformat_minor": 5
}
