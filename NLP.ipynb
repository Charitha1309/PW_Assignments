{
 "cells": [
  {
   "cell_type": "code",
   "execution_count": 1,
   "id": "9e35bf3c-afa5-410c-9bcb-e4149d68641c",
   "metadata": {},
   "outputs": [
    {
     "data": {
      "text/plain": [
       "'The primary goal of Natural Language Processing (NLP) is to enable computers to understand, interpret, generate, and respond to human language in a way that is both meaningful and useful. It bridges the gap between human communication (natural language) and computer systems, making it possible for machines to process and analyze large volumes of text or speech.\\n\\nKey objectives include:\\n\\nLanguage Understanding: Enabling computers to comprehend the meaning and context of written or spoken language.\\nLanguage Generation: Producing human-like text or speech based on data and input.\\nInformation Extraction: Deriving structured information (e.g., entities, relationships) from unstructured text.\\nSentiment Analysis: Understanding emotions, opinions, or sentiments expressed in text.\\nText Summarization: Condensing large pieces of text into shorter summaries.\\nMachine Translation: Translating text or speech from one language to another.\\nSpeech Recognition: Converting spoken language into text.\\nQuestion Answering: Providing precise answers to user queries.'"
      ]
     },
     "execution_count": 1,
     "metadata": {},
     "output_type": "execute_result"
    }
   ],
   "source": [
    "#1).What is the primary goal of Natural Language Processing (NLP)?\n",
    "'''The primary goal of Natural Language Processing (NLP) is to enable computers to understand, interpret, generate, and respond to human language in a way that is both meaningful and useful. It bridges the gap between human communication (natural language) and computer systems, making it possible for machines to process and analyze large volumes of text or speech.\n",
    "\n",
    "Key objectives include:\n",
    "\n",
    "Language Understanding: Enabling computers to comprehend the meaning and context of written or spoken language.\n",
    "Language Generation: Producing human-like text or speech based on data and input.\n",
    "Information Extraction: Deriving structured information (e.g., entities, relationships) from unstructured text.\n",
    "Sentiment Analysis: Understanding emotions, opinions, or sentiments expressed in text.\n",
    "Text Summarization: Condensing large pieces of text into shorter summaries.\n",
    "Machine Translation: Translating text or speech from one language to another.\n",
    "Speech Recognition: Converting spoken language into text.\n",
    "Question Answering: Providing precise answers to user queries.'''"
   ]
  },
  {
   "cell_type": "code",
   "execution_count": 2,
   "id": "c144ffd8-c6f7-4e88-9b9e-8513b4d42286",
   "metadata": {},
   "outputs": [
    {
     "data": {
      "text/plain": [
       "'2)What does \"tokenization\" refer to in text processing?\\nTokenization is the process of breaking a text into smaller units called tokens, which can be words, phrases, or sentences. These tokens are the building blocks for text analysis and are used to prepare the text for further processing, such as lemmatization or part-of-speech tagging.\\nExample:\\nText: \"Natural Language Processing is exciting.\"\\nWord Tokenization: [\"Natural\", \"Language\", \"Processing\", \"is\", \"exciting\"]\\nSentence Tokenization: [\"Natural Language Processing is exciting.\"]'"
      ]
     },
     "execution_count": 2,
     "metadata": {},
     "output_type": "execute_result"
    }
   ],
   "source": [
    "'''2)What does \"tokenization\" refer to in text processing?\n",
    "Tokenization is the process of breaking a text into smaller units called tokens, which can be words, phrases, or sentences. These tokens are the building blocks for text analysis and are used to prepare the text for further processing, such as lemmatization or part-of-speech tagging.\n",
    "Example:\n",
    "Text: \"Natural Language Processing is exciting.\"\n",
    "Word Tokenization: [\"Natural\", \"Language\", \"Processing\", \"is\", \"exciting\"]\n",
    "Sentence Tokenization: [\"Natural Language Processing is exciting.\"]'''\n"
   ]
  },
  {
   "cell_type": "code",
   "execution_count": 3,
   "id": "08db7448-4912-4fe9-addb-2c033681c701",
   "metadata": {},
   "outputs": [
    {
     "data": {
      "text/plain": [
       "'3)What is the difference between lemmatization and stemming?\\n\\nLemmatization: Reduces words to their base or dictionary form (lemma) while considering the word\\'s context and grammar.\\nExample: \"running\" → \"run\" (verb), \"better\" → \"good\".\\nStemming: Reduces words to their root form by chopping off suffixes or prefixes without considering the word\\'s context.\\nExample: \"running\" → \"run\", \"studies\" → \"studi\".\\nLemmatization is more accurate but computationally intensive compared to stemming.'"
      ]
     },
     "execution_count": 3,
     "metadata": {},
     "output_type": "execute_result"
    }
   ],
   "source": [
    "'''3)What is the difference between lemmatization and stemming?\n",
    "\n",
    "Lemmatization: Reduces words to their base or dictionary form (lemma) while considering the word's context and grammar.\n",
    "Example: \"running\" → \"run\" (verb), \"better\" → \"good\".\n",
    "Stemming: Reduces words to their root form by chopping off suffixes or prefixes without considering the word's context.\n",
    "Example: \"running\" → \"run\", \"studies\" → \"studi\".\n",
    "Lemmatization is more accurate but computationally intensive compared to stemming.'''"
   ]
  },
  {
   "cell_type": "code",
   "execution_count": 5,
   "id": "fd290220-45fe-4209-a7fe-14068a649502",
   "metadata": {},
   "outputs": [
    {
     "name": "stderr",
     "output_type": "stream",
     "text": [
      "<>:1: SyntaxWarning: invalid escape sequence '\\.'\n",
      "<>:1: SyntaxWarning: invalid escape sequence '\\.'\n",
      "C:\\Users\\HP\\AppData\\Local\\Temp\\ipykernel_6052\\130480477.py:1: SyntaxWarning: invalid escape sequence '\\.'\n",
      "  '''4)What is the role of regular expressions (regex) in text processing?\n"
     ]
    },
    {
     "data": {
      "text/plain": [
       "'4)What is the role of regular expressions (regex) in text processing?\\nRegular expressions (regex) are patterns used for searching, matching, and manipulating text. In text processing, regex is useful for tasks like:\\nIdentifying patterns (e.g., email addresses, dates, phone numbers).\\nRemoving unwanted characters (e.g., punctuation, HTML tags).\\nExtracting specific text fragments.\\nExample: Extracting email addresses: \\x08[A-Za-z0-9._%+-]+@[A-Za-z0-9.-]+\\\\.[A-Z|a-z]{2,}\\x08.'"
      ]
     },
     "execution_count": 5,
     "metadata": {},
     "output_type": "execute_result"
    }
   ],
   "source": [
    "'''4)What is the role of regular expressions (regex) in text processing?\n",
    "Regular expressions (regex) are patterns used for searching, matching, and manipulating text. In text processing, regex is useful for tasks like:\n",
    "Identifying patterns (e.g., email addresses, dates, phone numbers).\n",
    "Removing unwanted characters (e.g., punctuation, HTML tags).\n",
    "Extracting specific text fragments.\n",
    "Example: Extracting email addresses: \\b[A-Za-z0-9._%+-]+@[A-Za-z0-9.-]+\\.[A-Z|a-z]{2,}\\b.'''"
   ]
  },
  {
   "cell_type": "code",
   "execution_count": 6,
   "id": "dbbf2a7c-08c5-46ee-84b3-bcae99db6518",
   "metadata": {},
   "outputs": [
    {
     "data": {
      "text/plain": [
       "'5)What is Word2Vec and how does it represent words in a vector space?\\nWord2Vec is a neural network-based algorithm that represents words as dense vectors in a continuous vector space, capturing semantic relationships. It uses two architectures:\\nSkip-gram: Predicts surrounding words given a target word.\\nCBOW (Continuous Bag of Words): Predicts a target word based on its surrounding context.\\nThe resulting vectors place semantically similar words closer in the vector space.\\nExample: The words \"king\" and \"queen\" will have similar vectors, and vector arithmetic can capture analogies like:\\nvector(\"king\") - vector(\"man\") + vector(\"woman\") ≈ vector(\"queen\").'"
      ]
     },
     "execution_count": 6,
     "metadata": {},
     "output_type": "execute_result"
    }
   ],
   "source": [
    "'''5)What is Word2Vec and how does it represent words in a vector space?\n",
    "Word2Vec is a neural network-based algorithm that represents words as dense vectors in a continuous vector space, capturing semantic relationships. It uses two architectures:\n",
    "Skip-gram: Predicts surrounding words given a target word.\n",
    "CBOW (Continuous Bag of Words): Predicts a target word based on its surrounding context.\n",
    "The resulting vectors place semantically similar words closer in the vector space.\n",
    "Example: The words \"king\" and \"queen\" will have similar vectors, and vector arithmetic can capture analogies like:\n",
    "vector(\"king\") - vector(\"man\") + vector(\"woman\") ≈ vector(\"queen\").'''"
   ]
  },
  {
   "cell_type": "code",
   "execution_count": 7,
   "id": "565373cf-03b7-44ce-9440-f2d70ac9c5fd",
   "metadata": {},
   "outputs": [
    {
     "data": {
      "text/plain": [
       "'6)How does frequency distribution help in text analysis?\\nFrequency distribution shows how often each word or token appears in a text. This helps:\\n\\nIdentify common terms and stopwords.\\nUnderstand the overall theme of a document.\\nPerform feature engineering for NLP models.\\nExample: In a news article, frequent words like \"economy\", \"growth\", and \"market\" might indicate the article is about financial trends.'"
      ]
     },
     "execution_count": 7,
     "metadata": {},
     "output_type": "execute_result"
    }
   ],
   "source": [
    "'''6)How does frequency distribution help in text analysis?\n",
    "Frequency distribution shows how often each word or token appears in a text. This helps:\n",
    "\n",
    "Identify common terms and stopwords.\n",
    "Understand the overall theme of a document.\n",
    "Perform feature engineering for NLP models.\n",
    "Example: In a news article, frequent words like \"economy\", \"growth\", and \"market\" might indicate the article is about financial trends.'''"
   ]
  },
  {
   "cell_type": "code",
   "execution_count": 8,
   "id": "21013727-bc29-4f82-ad50-120bfc3a2e97",
   "metadata": {},
   "outputs": [
    {
     "data": {
      "text/plain": [
       "'7)Why is text normalization important in NLP?\\nText normalization ensures consistency in text data by converting it into a standard form. This helps reduce noise and improves the performance of NLP models. Common normalization steps include:\\n\\nLowercasing: Converts all text to lowercase.\\nRemoving punctuation and stopwords.\\nExpanding contractions (e.g., \"don\\'t\" → \"do not\").\\nConverting numbers into words (e.g., \"3\" → \"three\").'"
      ]
     },
     "execution_count": 8,
     "metadata": {},
     "output_type": "execute_result"
    }
   ],
   "source": [
    "'''7)Why is text normalization important in NLP?\n",
    "Text normalization ensures consistency in text data by converting it into a standard form. This helps reduce noise and improves the performance of NLP models. Common normalization steps include:\n",
    "\n",
    "Lowercasing: Converts all text to lowercase.\n",
    "Removing punctuation and stopwords.\n",
    "Expanding contractions (e.g., \"don't\" → \"do not\").\n",
    "Converting numbers into words (e.g., \"3\" → \"three\").'''"
   ]
  },
  {
   "cell_type": "code",
   "execution_count": 9,
   "id": "eaf4b065-1da1-4fe4-a45e-6e2236125960",
   "metadata": {},
   "outputs": [
    {
     "data": {
      "text/plain": [
       "'8)What is the difference between sentence tokenization and word tokenization?\\n\\nSentence Tokenization: Splits text into sentences. Useful for tasks like summarization and sentiment analysis at the sentence level.\\nExample: \"I love NLP. It is fascinating.\" → [\"I love NLP.\", \"It is fascinating.\"]\\nWord Tokenization: Splits sentences into individual words. Used for tasks like word frequency analysis and text classification.\\nExample: \"I love NLP.\" → [\"I\", \"love\", \"NLP\", \".\"]'"
      ]
     },
     "execution_count": 9,
     "metadata": {},
     "output_type": "execute_result"
    }
   ],
   "source": [
    "'''8)What is the difference between sentence tokenization and word tokenization?\n",
    "\n",
    "Sentence Tokenization: Splits text into sentences. Useful for tasks like summarization and sentiment analysis at the sentence level.\n",
    "Example: \"I love NLP. It is fascinating.\" → [\"I love NLP.\", \"It is fascinating.\"]\n",
    "Word Tokenization: Splits sentences into individual words. Used for tasks like word frequency analysis and text classification.\n",
    "Example: \"I love NLP.\" → [\"I\", \"love\", \"NLP\", \".\"]'''"
   ]
  },
  {
   "cell_type": "code",
   "execution_count": 10,
   "id": "9d07de66-ab6f-46b8-89f8-92aeaee18551",
   "metadata": {},
   "outputs": [
    {
     "data": {
      "text/plain": [
       "'9)What are co-occurrence vectors in NLP?\\nCo-occurrence vectors are representations of words based on their co-occurrence with other words in a corpus. They are used in distributional semantics, which assumes that words appearing in similar contexts have similar meanings.\\nExample: A co-occurrence matrix for \"dog\" might count how often \"dog\" appears near words like \"bark\", \"puppy\", or \"pet\".'"
      ]
     },
     "execution_count": 10,
     "metadata": {},
     "output_type": "execute_result"
    }
   ],
   "source": [
    "'''9)What are co-occurrence vectors in NLP?\n",
    "Co-occurrence vectors are representations of words based on their co-occurrence with other words in a corpus. They are used in distributional semantics, which assumes that words appearing in similar contexts have similar meanings.\n",
    "Example: A co-occurrence matrix for \"dog\" might count how often \"dog\" appears near words like \"bark\", \"puppy\", or \"pet\".'''"
   ]
  },
  {
   "cell_type": "code",
   "execution_count": 11,
   "id": "0a758729-86ea-46ce-96d8-ce7983debc13",
   "metadata": {},
   "outputs": [
    {
     "data": {
      "text/plain": [
       "'10)What is the significance of lemmatization in improving NLP tasks?\\nLemmatization improves NLP tasks by:\\n\\nReducing inflected forms of words to their base form, ensuring consistency.\\nImproving model accuracy by reducing the dimensionality of the vocabulary.\\nEnabling better context-based understanding in tasks like machine translation, information retrieval, and sentiment analysis.\\nExample: Without lemmatization, \"runs\", \"running\", and \"ran\" would be treated as separate words, increasing complexity.'"
      ]
     },
     "execution_count": 11,
     "metadata": {},
     "output_type": "execute_result"
    }
   ],
   "source": [
    "'''10)What is the significance of lemmatization in improving NLP tasks?\n",
    "Lemmatization improves NLP tasks by:\n",
    "\n",
    "Reducing inflected forms of words to their base form, ensuring consistency.\n",
    "Improving model accuracy by reducing the dimensionality of the vocabulary.\n",
    "Enabling better context-based understanding in tasks like machine translation, information retrieval, and sentiment analysis.\n",
    "Example: Without lemmatization, \"runs\", \"running\", and \"ran\" would be treated as separate words, increasing complexity.'''"
   ]
  },
  {
   "cell_type": "code",
   "execution_count": 12,
   "id": "881244da-8a32-4455-bc83-be19644fa085",
   "metadata": {},
   "outputs": [
    {
     "data": {
      "text/plain": [
       "'11. What is the primary use of word embeddings in NLP?\\nWord embeddings are used to represent words in a continuous vector space, capturing their semantic and syntactic relationships. These dense, low-dimensional vectors help:\\n\\nIdentify word similarities (e.g., \"king\" and \"queen\").\\nImprove performance in NLP tasks like sentiment analysis, machine translation, and question-answering.\\nThey allow models to leverage contextual meaning instead of treating words as isolated tokens.'"
      ]
     },
     "execution_count": 12,
     "metadata": {},
     "output_type": "execute_result"
    }
   ],
   "source": [
    "'''11. What is the primary use of word embeddings in NLP?\n",
    "Word embeddings are used to represent words in a continuous vector space, capturing their semantic and syntactic relationships. These dense, low-dimensional vectors help:\n",
    "\n",
    "Identify word similarities (e.g., \"king\" and \"queen\").\n",
    "Improve performance in NLP tasks like sentiment analysis, machine translation, and question-answering.\n",
    "They allow models to leverage contextual meaning instead of treating words as isolated tokens.'''"
   ]
  },
  {
   "cell_type": "code",
   "execution_count": 13,
   "id": "a55f3d15-2a5f-4509-a7d4-09dc52797499",
   "metadata": {},
   "outputs": [
    {
     "data": {
      "text/plain": [
       "'12. What is an annotator in NLP?\\nAn annotator in NLP is a tool or process that labels text with metadata or tags to enhance understanding. For example:\\n\\nPart-of-speech (POS) tagging annotates each word with its grammatical role (e.g., noun, verb).\\nNamed Entity Recognition (NER) annotates entities like names, locations, or dates.\\nAnnotations are crucial for supervised learning and corpus analysis.'"
      ]
     },
     "execution_count": 13,
     "metadata": {},
     "output_type": "execute_result"
    }
   ],
   "source": [
    "'''12. What is an annotator in NLP?\n",
    "An annotator in NLP is a tool or process that labels text with metadata or tags to enhance understanding. For example:\n",
    "\n",
    "Part-of-speech (POS) tagging annotates each word with its grammatical role (e.g., noun, verb).\n",
    "Named Entity Recognition (NER) annotates entities like names, locations, or dates.\n",
    "Annotations are crucial for supervised learning and corpus analysis.'''"
   ]
  },
  {
   "cell_type": "code",
   "execution_count": 14,
   "id": "eec610c7-f5a2-4584-a080-9f1ad7e025fb",
   "metadata": {},
   "outputs": [
    {
     "data": {
      "text/plain": [
       "'13. What are the key steps in text processing before applying machine learning models?\\nKey steps in text preprocessing include:\\n\\nText Cleaning: Removing noise (e.g., punctuation, HTML tags, or special characters).\\nTokenization: Breaking text into words or sentences.\\nLowercasing: Standardizing case to reduce dimensionality.\\nStopword Removal: Removing common but non-informative words (e.g., \"the\", \"is\").\\nStemming/Lemmatization: Reducing words to their base forms.\\nVectorization: Converting text into numerical formats (e.g., TF-IDF, word embeddings).\\nThese steps ensure consistency, reduce noise, and enhance model performance.'"
      ]
     },
     "execution_count": 14,
     "metadata": {},
     "output_type": "execute_result"
    }
   ],
   "source": [
    "'''13. What are the key steps in text processing before applying machine learning models?\n",
    "Key steps in text preprocessing include:\n",
    "\n",
    "Text Cleaning: Removing noise (e.g., punctuation, HTML tags, or special characters).\n",
    "Tokenization: Breaking text into words or sentences.\n",
    "Lowercasing: Standardizing case to reduce dimensionality.\n",
    "Stopword Removal: Removing common but non-informative words (e.g., \"the\", \"is\").\n",
    "Stemming/Lemmatization: Reducing words to their base forms.\n",
    "Vectorization: Converting text into numerical formats (e.g., TF-IDF, word embeddings).\n",
    "These steps ensure consistency, reduce noise, and enhance model performance.'''"
   ]
  },
  {
   "cell_type": "code",
   "execution_count": 15,
   "id": "c96e35ae-f9f9-4ecb-b040-98b0f5ab2e1c",
   "metadata": {},
   "outputs": [
    {
     "data": {
      "text/plain": [
       "'14. What is the history of NLP and how has it evolved?\\nNLP has evolved in the following stages:\\n\\n1950s–1970s: Rule-based systems and symbolic NLP, inspired by linguistics. Early systems like ELIZA relied on pattern matching.\\n1980s–1990s: Statistical NLP emerged with the availability of corpora and probabilistic models like Hidden Markov Models (HMMs).\\n2000s: Machine learning became dominant, with techniques like SVMs and logistic regression applied to NLP tasks.\\n2010s–Present: Deep learning revolutionized NLP with neural networks, leading to word embeddings (e.g., Word2Vec) and transformers (e.g., BERT, GPT). Current systems achieve state-of-the-art results in tasks like machine translation and conversational AI.'"
      ]
     },
     "execution_count": 15,
     "metadata": {},
     "output_type": "execute_result"
    }
   ],
   "source": [
    "'''14. What is the history of NLP and how has it evolved?\n",
    "NLP has evolved in the following stages:\n",
    "\n",
    "1950s–1970s: Rule-based systems and symbolic NLP, inspired by linguistics. Early systems like ELIZA relied on pattern matching.\n",
    "1980s–1990s: Statistical NLP emerged with the availability of corpora and probabilistic models like Hidden Markov Models (HMMs).\n",
    "2000s: Machine learning became dominant, with techniques like SVMs and logistic regression applied to NLP tasks.\n",
    "2010s–Present: Deep learning revolutionized NLP with neural networks, leading to word embeddings (e.g., Word2Vec) and transformers (e.g., BERT, GPT). Current systems achieve state-of-the-art results in tasks like machine translation and conversational AI.'''"
   ]
  },
  {
   "cell_type": "code",
   "execution_count": 16,
   "id": "33bd9d07-7eac-4239-96b6-305238a90527",
   "metadata": {},
   "outputs": [
    {
     "data": {
      "text/plain": [
       "'15. Why is sentence processing important in NLP?\\nSentence processing ensures that the meaning and structure of a sentence are correctly analyzed. It is important for tasks like:\\n\\nSentiment analysis (e.g., identifying the sentiment of each sentence).\\nSummarization (e.g., generating concise summaries).\\nMachine translation (e.g., preserving context and grammar).\\nSentence-level context provides a richer understanding compared to isolated words.'"
      ]
     },
     "execution_count": 16,
     "metadata": {},
     "output_type": "execute_result"
    }
   ],
   "source": [
    "'''15. Why is sentence processing important in NLP?\n",
    "Sentence processing ensures that the meaning and structure of a sentence are correctly analyzed. It is important for tasks like:\n",
    "\n",
    "Sentiment analysis (e.g., identifying the sentiment of each sentence).\n",
    "Summarization (e.g., generating concise summaries).\n",
    "Machine translation (e.g., preserving context and grammar).\n",
    "Sentence-level context provides a richer understanding compared to isolated words.'''"
   ]
  },
  {
   "cell_type": "code",
   "execution_count": 17,
   "id": "f040692e-3b87-4af9-a327-a3935b0e6e33",
   "metadata": {},
   "outputs": [
    {
     "data": {
      "text/plain": [
       "'16. How do word embeddings improve the understanding of language semantics in NLP?\\nWord embeddings capture semantic relationships by placing similar words close to each other in a vector space. This improves understanding by:\\n\\nEncoding context and similarity (e.g., \"king\" and \"queen\").\\nSupporting analogies (e.g., \"Paris - France + Italy ≈ Rome\").\\nHandling polysemy by learning context-dependent representations (e.g., different meanings of \"bank\").\\nOverall, embeddings provide a foundation for language understanding in modern NLP.'"
      ]
     },
     "execution_count": 17,
     "metadata": {},
     "output_type": "execute_result"
    }
   ],
   "source": [
    "'''16. How do word embeddings improve the understanding of language semantics in NLP?\n",
    "Word embeddings capture semantic relationships by placing similar words close to each other in a vector space. This improves understanding by:\n",
    "\n",
    "Encoding context and similarity (e.g., \"king\" and \"queen\").\n",
    "Supporting analogies (e.g., \"Paris - France + Italy ≈ Rome\").\n",
    "Handling polysemy by learning context-dependent representations (e.g., different meanings of \"bank\").\n",
    "Overall, embeddings provide a foundation for language understanding in modern NLP.'''"
   ]
  },
  {
   "cell_type": "code",
   "execution_count": 18,
   "id": "96a0b568-562a-4034-b368-38d469ba20df",
   "metadata": {},
   "outputs": [
    {
     "data": {
      "text/plain": [
       "'17. How does the frequency distribution of words help in text classification?\\nFrequency distribution identifies common and rare terms, which helps:\\n\\nFeature selection: Removing low-information words (e.g., stopwords).\\nIdentifying domain-specific keywords (e.g., \"virus\" in medical texts).\\nCreating input features for models (e.g., Bag-of-Words or TF-IDF).\\nIt ensures that the most relevant terms contribute to classification.'"
      ]
     },
     "execution_count": 18,
     "metadata": {},
     "output_type": "execute_result"
    }
   ],
   "source": [
    "'''17. How does the frequency distribution of words help in text classification?\n",
    "Frequency distribution identifies common and rare terms, which helps:\n",
    "\n",
    "Feature selection: Removing low-information words (e.g., stopwords).\n",
    "Identifying domain-specific keywords (e.g., \"virus\" in medical texts).\n",
    "Creating input features for models (e.g., Bag-of-Words or TF-IDF).\n",
    "It ensures that the most relevant terms contribute to classification.'''"
   ]
  },
  {
   "cell_type": "code",
   "execution_count": 19,
   "id": "1e8c42cb-ae9b-41a9-9f21-921b00c991f5",
   "metadata": {},
   "outputs": [
    {
     "name": "stderr",
     "output_type": "stream",
     "text": [
      "<>:1: SyntaxWarning: invalid escape sequence '\\d'\n",
      "<>:1: SyntaxWarning: invalid escape sequence '\\d'\n",
      "C:\\Users\\HP\\AppData\\Local\\Temp\\ipykernel_6052\\184785604.py:1: SyntaxWarning: invalid escape sequence '\\d'\n",
      "  '''18. What are the advantages of using regex in text cleaning?\n"
     ]
    },
    {
     "data": {
      "text/plain": [
       "'18. What are the advantages of using regex in text cleaning?\\nRegex (Regular Expressions) is highly flexible and efficient for text cleaning. Advantages include:\\n\\nPattern Matching: Identifying text formats like emails, dates, or phone numbers.\\nText Replacement: Removing or replacing unwanted characters.\\nCustom Filters: Building tailored rules for specific text-processing needs.\\nExample: Removing numbers from text: \\\\d+.'"
      ]
     },
     "execution_count": 19,
     "metadata": {},
     "output_type": "execute_result"
    }
   ],
   "source": [
    "'''18. What are the advantages of using regex in text cleaning?\n",
    "Regex (Regular Expressions) is highly flexible and efficient for text cleaning. Advantages include:\n",
    "\n",
    "Pattern Matching: Identifying text formats like emails, dates, or phone numbers.\n",
    "Text Replacement: Removing or replacing unwanted characters.\n",
    "Custom Filters: Building tailored rules for specific text-processing needs.\n",
    "Example: Removing numbers from text: \\d+.'''"
   ]
  },
  {
   "cell_type": "code",
   "execution_count": 20,
   "id": "0a074bc4-d360-4df8-8a58-77b91a016932",
   "metadata": {},
   "outputs": [
    {
     "data": {
      "text/plain": [
       "'19. What is the difference between Word2Vec and Doc2Vec?\\n\\nWord2Vec: Represents individual words as vectors, focusing on word-level semantic similarity.\\nDoc2Vec: Extends Word2Vec to represent entire documents or sentences as vectors, capturing document-level context.\\nDoc2Vec is useful for tasks like document classification and clustering, while Word2Vec is used for word-level tasks.'"
      ]
     },
     "execution_count": 20,
     "metadata": {},
     "output_type": "execute_result"
    }
   ],
   "source": [
    "'''19. What is the difference between Word2Vec and Doc2Vec?\n",
    "\n",
    "Word2Vec: Represents individual words as vectors, focusing on word-level semantic similarity.\n",
    "Doc2Vec: Extends Word2Vec to represent entire documents or sentences as vectors, capturing document-level context.\n",
    "Doc2Vec is useful for tasks like document classification and clustering, while Word2Vec is used for word-level tasks.'''"
   ]
  },
  {
   "cell_type": "code",
   "execution_count": 21,
   "id": "e499b55a-9520-4789-b790-40d0bf5c0d6f",
   "metadata": {},
   "outputs": [
    {
     "data": {
      "text/plain": [
       "'20. Why is understanding text normalization important in NLP?\\nText normalization ensures consistency and reduces noise, which is critical for NLP tasks. Benefits include:\\n\\nImproving model accuracy by standardizing inputs (e.g., \"USA\" and \"us\" → \"usa\").\\nReducing vocabulary size (e.g., converting \"running\" and \"ran\" to \"run\").\\nEnhancing feature engineering for machine learning.\\nWithout normalization, models may struggle with inconsistencies and miss relationships between similar text elements.'"
      ]
     },
     "execution_count": 21,
     "metadata": {},
     "output_type": "execute_result"
    }
   ],
   "source": [
    "'''20. Why is understanding text normalization important in NLP?\n",
    "Text normalization ensures consistency and reduces noise, which is critical for NLP tasks. Benefits include:\n",
    "\n",
    "Improving model accuracy by standardizing inputs (e.g., \"USA\" and \"us\" → \"usa\").\n",
    "Reducing vocabulary size (e.g., converting \"running\" and \"ran\" to \"run\").\n",
    "Enhancing feature engineering for machine learning.\n",
    "Without normalization, models may struggle with inconsistencies and miss relationships between similar text elements.'''"
   ]
  },
  {
   "cell_type": "code",
   "execution_count": 22,
   "id": "a7a8a398-cec5-4554-a73f-c1e009995347",
   "metadata": {},
   "outputs": [
    {
     "data": {
      "text/plain": [
       "'21. How does word count help in text analysis?\\nWord count provides insights into the importance or relevance of specific terms within a text. It helps:\\n\\nIdentify frequently used terms to understand the main topics or themes.\\nSpot stopwords or domain-specific terms.\\nMeasure text length for readability analysis.\\nFor example, analyzing word frequency can reveal the key focus of a document'"
      ]
     },
     "execution_count": 22,
     "metadata": {},
     "output_type": "execute_result"
    }
   ],
   "source": [
    "'''21. How does word count help in text analysis?\n",
    "Word count provides insights into the importance or relevance of specific terms within a text. It helps:\n",
    "\n",
    "Identify frequently used terms to understand the main topics or themes.\n",
    "Spot stopwords or domain-specific terms.\n",
    "Measure text length for readability analysis.\n",
    "For example, analyzing word frequency can reveal the key focus of a document'''"
   ]
  },
  {
   "cell_type": "code",
   "execution_count": 23,
   "id": "4fb23ba7-01b5-436a-bcbb-8feaa901b19f",
   "metadata": {},
   "outputs": [
    {
     "data": {
      "text/plain": [
       "'22. How does lemmatization help in NLP tasks like search engines and chatbots?\\nLemmatization reduces words to their base form (lemma), improving consistency. In search engines and chatbots, it:\\n\\nEnhances search accuracy by matching queries with indexed content more effectively.\\n(e.g., \"running\", \"ran\" → \"run\").\\nImproves response relevance by understanding user intent regardless of word variations.\\nReduces vocabulary size for faster processing and storage.'"
      ]
     },
     "execution_count": 23,
     "metadata": {},
     "output_type": "execute_result"
    }
   ],
   "source": [
    "'''22. How does lemmatization help in NLP tasks like search engines and chatbots?\n",
    "Lemmatization reduces words to their base form (lemma), improving consistency. In search engines and chatbots, it:\n",
    "\n",
    "Enhances search accuracy by matching queries with indexed content more effectively.\n",
    "(e.g., \"running\", \"ran\" → \"run\").\n",
    "Improves response relevance by understanding user intent regardless of word variations.\n",
    "Reduces vocabulary size for faster processing and storage.'''"
   ]
  },
  {
   "cell_type": "code",
   "execution_count": 24,
   "id": "78285856-3d15-45d8-9fca-3909647e60f5",
   "metadata": {},
   "outputs": [
    {
     "data": {
      "text/plain": [
       "'23. What is the purpose of using Doc2Vec in text processing?\\nDoc2Vec generates vector representations for entire documents, capturing their semantic meaning. It is useful for:\\n\\nDocument classification or clustering.\\nInformation retrieval (e.g., finding similar documents).\\nText summarization and recommendation systems.\\nDoc2Vec considers both word context and document-level context.'"
      ]
     },
     "execution_count": 24,
     "metadata": {},
     "output_type": "execute_result"
    }
   ],
   "source": [
    "'''23. What is the purpose of using Doc2Vec in text processing?\n",
    "Doc2Vec generates vector representations for entire documents, capturing their semantic meaning. It is useful for:\n",
    "\n",
    "Document classification or clustering.\n",
    "Information retrieval (e.g., finding similar documents).\n",
    "Text summarization and recommendation systems.\n",
    "Doc2Vec considers both word context and document-level context.'''"
   ]
  },
  {
   "cell_type": "code",
   "execution_count": 25,
   "id": "973d1255-5a6c-4938-9a70-3c7143f1ea4c",
   "metadata": {},
   "outputs": [
    {
     "data": {
      "text/plain": [
       "'24. What is the importance of sentence processing in NLP?\\nSentence processing is critical because sentences convey complete thoughts. It:\\n\\nPreserves grammatical structures and context.\\nImproves understanding for tasks like translation, summarization, and question-answering.\\nEnsures that models consider sentence boundaries to avoid misinterpretation of meaning.\\n'"
      ]
     },
     "execution_count": 25,
     "metadata": {},
     "output_type": "execute_result"
    }
   ],
   "source": [
    "'''24. What is the importance of sentence processing in NLP?\n",
    "Sentence processing is critical because sentences convey complete thoughts. It:\n",
    "\n",
    "Preserves grammatical structures and context.\n",
    "Improves understanding for tasks like translation, summarization, and question-answering.\n",
    "Ensures that models consider sentence boundaries to avoid misinterpretation of meaning.\n",
    "'''"
   ]
  },
  {
   "cell_type": "code",
   "execution_count": 26,
   "id": "c5ee4704-6f85-4967-80fb-c09b2f0bb9c6",
   "metadata": {},
   "outputs": [
    {
     "data": {
      "text/plain": [
       "'25. What is text normalization, and what are the common techniques used in it?\\nText normalization standardizes text into a consistent format for analysis. Common techniques include:\\n\\nLowercasing: Converts all text to lowercase.\\nRemoving punctuation: Eliminates unnecessary characters.\\nExpanding contractions: Converts \"don\\'t\" → \"do not\".\\nStemming/Lemmatization: Reduces words to their base form.\\nRemoving stopwords: Removes words like \"the\", \"is\", etc.\\nNormalization reduces noise and improves model performance.'"
      ]
     },
     "execution_count": 26,
     "metadata": {},
     "output_type": "execute_result"
    }
   ],
   "source": [
    "'''25. What is text normalization, and what are the common techniques used in it?\n",
    "Text normalization standardizes text into a consistent format for analysis. Common techniques include:\n",
    "\n",
    "Lowercasing: Converts all text to lowercase.\n",
    "Removing punctuation: Eliminates unnecessary characters.\n",
    "Expanding contractions: Converts \"don't\" → \"do not\".\n",
    "Stemming/Lemmatization: Reduces words to their base form.\n",
    "Removing stopwords: Removes words like \"the\", \"is\", etc.\n",
    "Normalization reduces noise and improves model performance.'''"
   ]
  },
  {
   "cell_type": "code",
   "execution_count": 27,
   "id": "fe05a4ec-3a8b-4148-92b6-274f0ab11d8c",
   "metadata": {},
   "outputs": [
    {
     "data": {
      "text/plain": [
       "'26. Why is word tokenization important in NLP?\\nWord tokenization breaks text into individual words, which are fundamental units for analysis. It is important for:\\n\\nCreating input features for machine learning models.\\nEnabling tasks like POS tagging, word embeddings, and frequency analysis.\\nPreparing data for downstream tasks like sentiment analysis and language translation.'"
      ]
     },
     "execution_count": 27,
     "metadata": {},
     "output_type": "execute_result"
    }
   ],
   "source": [
    "'''26. Why is word tokenization important in NLP?\n",
    "Word tokenization breaks text into individual words, which are fundamental units for analysis. It is important for:\n",
    "\n",
    "Creating input features for machine learning models.\n",
    "Enabling tasks like POS tagging, word embeddings, and frequency analysis.\n",
    "Preparing data for downstream tasks like sentiment analysis and language translation.'''"
   ]
  },
  {
   "cell_type": "code",
   "execution_count": 28,
   "id": "25e342a2-cb72-4eec-b82e-23d7d2f01d8c",
   "metadata": {},
   "outputs": [
    {
     "data": {
      "text/plain": [
       "'27. How does sentence tokenization differ from word tokenization in NLP?\\n\\nSentence Tokenization: Splits text into sentences. Useful for tasks like summarization and sentiment analysis at the sentence level.\\nExample: \"NLP is fun. It is exciting.\" → [\"NLP is fun.\", \"It is exciting.\"]\\nWord Tokenization: Splits sentences into words. Used for tasks like word frequency analysis and POS tagging.\\nExample: \"NLP is fun.\" → [\"NLP\", \"is\", \"fun\"].'"
      ]
     },
     "execution_count": 28,
     "metadata": {},
     "output_type": "execute_result"
    }
   ],
   "source": [
    "'''27. How does sentence tokenization differ from word tokenization in NLP?\n",
    "\n",
    "Sentence Tokenization: Splits text into sentences. Useful for tasks like summarization and sentiment analysis at the sentence level.\n",
    "Example: \"NLP is fun. It is exciting.\" → [\"NLP is fun.\", \"It is exciting.\"]\n",
    "Word Tokenization: Splits sentences into words. Used for tasks like word frequency analysis and POS tagging.\n",
    "Example: \"NLP is fun.\" → [\"NLP\", \"is\", \"fun\"].'''"
   ]
  },
  {
   "cell_type": "code",
   "execution_count": 29,
   "id": "f4b8fb4d-570b-40fb-a0e1-cb500916b91a",
   "metadata": {},
   "outputs": [
    {
     "data": {
      "text/plain": [
       "'28. What is the primary purpose of text processing in NLP?\\nThe primary purpose of text processing is to clean and prepare raw text data for analysis or modeling. It reduces noise, standardizes input, and extracts meaningful features, enabling efficient and accurate text-based predictions or insights.'"
      ]
     },
     "execution_count": 29,
     "metadata": {},
     "output_type": "execute_result"
    }
   ],
   "source": [
    "'''28. What is the primary purpose of text processing in NLP?\n",
    "The primary purpose of text processing is to clean and prepare raw text data for analysis or modeling. It reduces noise, standardizes input, and extracts meaningful features, enabling efficient and accurate text-based predictions or insights.'''"
   ]
  },
  {
   "cell_type": "code",
   "execution_count": 30,
   "id": "9d7fa3f6-f197-4765-9731-d021beff2432",
   "metadata": {},
   "outputs": [
    {
     "data": {
      "text/plain": [
       "'29. What are the key challenges in NLP?\\nKey challenges in NLP include:\\n\\nAmbiguity: Words and sentences can have multiple meanings (e.g., polysemy).\\nContext Understanding: Capturing long-range dependencies and context.\\nSarcasm/Irony Detection: Understanding nuanced language.\\nLow-Resource Languages: Lack of annotated data for some languages.\\nScalability: Processing large-scale text efficiently.\\nEthical Issues: Avoiding biases in data and models.'"
      ]
     },
     "execution_count": 30,
     "metadata": {},
     "output_type": "execute_result"
    }
   ],
   "source": [
    "'''29. What are the key challenges in NLP?\n",
    "Key challenges in NLP include:\n",
    "\n",
    "Ambiguity: Words and sentences can have multiple meanings (e.g., polysemy).\n",
    "Context Understanding: Capturing long-range dependencies and context.\n",
    "Sarcasm/Irony Detection: Understanding nuanced language.\n",
    "Low-Resource Languages: Lack of annotated data for some languages.\n",
    "Scalability: Processing large-scale text efficiently.\n",
    "Ethical Issues: Avoiding biases in data and models.'''"
   ]
  },
  {
   "cell_type": "code",
   "execution_count": 31,
   "id": "ec23e641-884e-4507-95e4-0dd997fbfbea",
   "metadata": {},
   "outputs": [
    {
     "data": {
      "text/plain": [
       "'30. How do co-occurrence vectors represent relationships between words?\\nCo-occurrence vectors are constructed by counting how often words appear near each other in a corpus. They represent semantic relationships by encoding contextual similarity.\\nFor example: If \"doctor\" frequently co-occurs with \"hospital\" and \"patient\", the vector for \"doctor\" will reflect this relationship, indicating relevance.'"
      ]
     },
     "execution_count": 31,
     "metadata": {},
     "output_type": "execute_result"
    }
   ],
   "source": [
    "'''30. How do co-occurrence vectors represent relationships between words?\n",
    "Co-occurrence vectors are constructed by counting how often words appear near each other in a corpus. They represent semantic relationships by encoding contextual similarity.\n",
    "For example: If \"doctor\" frequently co-occurs with \"hospital\" and \"patient\", the vector for \"doctor\" will reflect this relationship, indicating relevance.'''"
   ]
  },
  {
   "cell_type": "code",
   "execution_count": 32,
   "id": "2029c209-4b96-4542-a580-dce602a4a0cd",
   "metadata": {},
   "outputs": [
    {
     "data": {
      "text/plain": [
       "'31. What is the role of frequency distribution in text analysis?\\nFrequency distribution identifies the occurrence of each word in a corpus. Its role includes:\\n\\nHighlighting key terms or topics in the text.\\nGuiding feature selection by focusing on frequent or rare words.\\nAssisting in building word-based models like Bag-of-Words and TF-IDF.'"
      ]
     },
     "execution_count": 32,
     "metadata": {},
     "output_type": "execute_result"
    }
   ],
   "source": [
    "'''31. What is the role of frequency distribution in text analysis?\n",
    "Frequency distribution identifies the occurrence of each word in a corpus. Its role includes:\n",
    "\n",
    "Highlighting key terms or topics in the text.\n",
    "Guiding feature selection by focusing on frequent or rare words.\n",
    "Assisting in building word-based models like Bag-of-Words and TF-IDF.'''"
   ]
  },
  {
   "cell_type": "code",
   "execution_count": 33,
   "id": "1d237a0f-872d-42dd-b7c4-00c8de889882",
   "metadata": {},
   "outputs": [
    {
     "data": {
      "text/plain": [
       "'32. What is the impact of word embeddings on NLP tasks?\\nWord embeddings revolutionized NLP by providing dense, semantic representations of words, enabling:\\n\\nBetter understanding of word relationships and analogies.\\nImproved accuracy in tasks like sentiment analysis, machine translation, and question-answering.\\nEfficient use of computational resources due to lower-dimensional representations.'"
      ]
     },
     "execution_count": 33,
     "metadata": {},
     "output_type": "execute_result"
    }
   ],
   "source": [
    "'''32. What is the impact of word embeddings on NLP tasks?\n",
    "Word embeddings revolutionized NLP by providing dense, semantic representations of words, enabling:\n",
    "\n",
    "Better understanding of word relationships and analogies.\n",
    "Improved accuracy in tasks like sentiment analysis, machine translation, and question-answering.\n",
    "Efficient use of computational resources due to lower-dimensional representations.'''"
   ]
  },
  {
   "cell_type": "code",
   "execution_count": 34,
   "id": "807863c9-3246-4211-878f-6ce8fdfba328",
   "metadata": {},
   "outputs": [
    {
     "data": {
      "text/plain": [
       "'33. What is the purpose of using lemmatization in text preprocessing?\\nThe purpose of lemmatization is to reduce words to their canonical form (lemma), improving consistency. This helps:\\n\\nMinimize vocabulary size by grouping similar words (e.g., \"running\", \"ran\" → \"run\").\\nEnhance the performance of search engines, chatbots, and classifiers by focusing on core meanings.\\nLemmatization ensures that variations of a word are treated as a single entity.'"
      ]
     },
     "execution_count": 34,
     "metadata": {},
     "output_type": "execute_result"
    }
   ],
   "source": [
    "'''33. What is the purpose of using lemmatization in text preprocessing?\n",
    "The purpose of lemmatization is to reduce words to their canonical form (lemma), improving consistency. This helps:\n",
    "\n",
    "Minimize vocabulary size by grouping similar words (e.g., \"running\", \"ran\" → \"run\").\n",
    "Enhance the performance of search engines, chatbots, and classifiers by focusing on core meanings.\n",
    "Lemmatization ensures that variations of a word are treated as a single entity.'''"
   ]
  },
  {
   "cell_type": "markdown",
   "id": "cacb36aa-b26a-4146-8742-8abe69f9511a",
   "metadata": {},
   "source": [
    "# practical"
   ]
  },
  {
   "cell_type": "code",
   "execution_count": 85,
   "id": "87fdf90f-237e-4988-bf1a-fd2cb892d3ff",
   "metadata": {},
   "outputs": [
    {
     "name": "stdout",
     "output_type": "stream",
     "text": [
      "['Natural', 'Language', 'Processing', 'is', 'fun', '!']\n"
     ]
    },
    {
     "name": "stderr",
     "output_type": "stream",
     "text": [
      "[nltk_data] Downloading package punkt_tab to\n",
      "[nltk_data]     C:\\Users\\HP\\AppData\\Roaming\\nltk_data...\n",
      "[nltk_data]   Package punkt_tab is already up-to-date!\n",
      "[nltk_data] Downloading package punkt to\n",
      "[nltk_data]     C:\\Users\\HP\\AppData\\Roaming\\nltk_data...\n",
      "[nltk_data]   Package punkt is already up-to-date!\n"
     ]
    }
   ],
   "source": [
    "#1).How can you perform word tokenization using NLTK?\n",
    "import nltk\n",
    "nltk.download('punkt_tab')\n",
    "\n",
    "import nltk\n",
    "from nltk.tokenize import word_tokenize\n",
    "\n",
    "nltk.download('punkt')\n",
    "text = \"Natural Language Processing is fun!\"\n",
    "tokens = word_tokenize(text)\n",
    "print(tokens)\n"
   ]
  },
  {
   "cell_type": "code",
   "execution_count": 86,
   "id": "e85163c9-7aaa-4c48-8928-3a3e2a8cc684",
   "metadata": {},
   "outputs": [
    {
     "name": "stdout",
     "output_type": "stream",
     "text": [
      "['Natural Language Processing is fun.', 'It helps machines understand human language.']\n"
     ]
    }
   ],
   "source": [
    "#2)How can you perform sentence tokenization using NLTK\n",
    "from nltk.tokenize import sent_tokenize\n",
    "\n",
    "text = \"Natural Language Processing is fun. It helps machines understand human language.\"\n",
    "sentences = sent_tokenize(text)\n",
    "print(sentences)\n"
   ]
  },
  {
   "cell_type": "code",
   "execution_count": 87,
   "id": "97a7d88b-c1d1-4338-aeb1-b2a8c28e9e55",
   "metadata": {},
   "outputs": [
    {
     "name": "stdout",
     "output_type": "stream",
     "text": [
      "['example', 'sentence', 'demonstrating', 'stopword', 'removal', '.']\n"
     ]
    },
    {
     "name": "stderr",
     "output_type": "stream",
     "text": [
      "[nltk_data] Downloading package stopwords to\n",
      "[nltk_data]     C:\\Users\\HP\\AppData\\Roaming\\nltk_data...\n",
      "[nltk_data]   Package stopwords is already up-to-date!\n"
     ]
    }
   ],
   "source": [
    "#3)How can you remove stopwords from a sentence?\n",
    "from nltk.corpus import stopwords\n",
    "from nltk.tokenize import word_tokenize\n",
    "\n",
    "nltk.download('stopwords')\n",
    "text = \"This is an example sentence demonstrating stopword removal.\"\n",
    "tokens = word_tokenize(text)\n",
    "filtered_tokens = [word for word in tokens if word.lower() not in stopwords.words('english')]\n",
    "print(filtered_tokens)\n"
   ]
  },
  {
   "cell_type": "code",
   "execution_count": 88,
   "id": "4afecb33-23c7-4970-a9ed-7706ef1a726b",
   "metadata": {},
   "outputs": [
    {
     "name": "stdout",
     "output_type": "stream",
     "text": [
      "run\n"
     ]
    }
   ],
   "source": [
    "#4)How can you perform stemming on a word?\n",
    "from nltk.stem import PorterStemmer\n",
    "\n",
    "stemmer = PorterStemmer()\n",
    "word = \"running\"\n",
    "stemmed_word = stemmer.stem(word)\n",
    "print(stemmed_word)\n"
   ]
  },
  {
   "cell_type": "code",
   "execution_count": 89,
   "id": "5704fafd-caa9-4334-ac2c-c08edc5f0a2c",
   "metadata": {},
   "outputs": [
    {
     "name": "stdout",
     "output_type": "stream",
     "text": [
      "run\n"
     ]
    },
    {
     "name": "stderr",
     "output_type": "stream",
     "text": [
      "[nltk_data] Downloading package wordnet to\n",
      "[nltk_data]     C:\\Users\\HP\\AppData\\Roaming\\nltk_data...\n",
      "[nltk_data]   Package wordnet is already up-to-date!\n"
     ]
    }
   ],
   "source": [
    "#5)How can you perform lemmatization on a word?\n",
    "from nltk.stem import WordNetLemmatizer\n",
    "\n",
    "nltk.download('wordnet')\n",
    "lemmatizer = WordNetLemmatizer()\n",
    "word = \"running\"\n",
    "lemma = lemmatizer.lemmatize(word, pos='v')  # 'v' for verb\n",
    "print(lemma)\n"
   ]
  },
  {
   "cell_type": "code",
   "execution_count": 90,
   "id": "5df7725f-3b4f-4566-9e0c-47ff7aab37b8",
   "metadata": {},
   "outputs": [
    {
     "name": "stdout",
     "output_type": "stream",
     "text": [
      "hello nlp is exciting\n"
     ]
    }
   ],
   "source": [
    "#6)How can you normalize a text by converting it to lowercase and removing punctuation?\n",
    "import string\n",
    "\n",
    "text = \"Hello, NLP is exciting!\"\n",
    "normalized_text = text.lower().translate(str.maketrans('', '', string.punctuation))\n",
    "print(normalized_text)\n"
   ]
  },
  {
   "cell_type": "code",
   "execution_count": 91,
   "id": "49f46e5e-9483-4348-9964-4575088600b4",
   "metadata": {},
   "outputs": [
    {
     "name": "stdout",
     "output_type": "stream",
     "text": [
      "Counter({('I', 'love'): 1, ('love', 'NLP'): 1, ('NLP', 'is'): 1, ('is', 'fun'): 1, ('I', 'enjoy'): 1, ('enjoy', 'learning'): 1, ('learning', 'NLP'): 1})\n"
     ]
    }
   ],
   "source": [
    "#7)How can you create a co-occurrence matrix for words in a corpus?\n",
    "from collections import Counter\n",
    "from itertools import combinations\n",
    "\n",
    "corpus = [\"I love NLP\", \"NLP is fun\", \"I enjoy learning NLP\"]\n",
    "window_size = 2\n",
    "co_occurrence = Counter()\n",
    "\n",
    "for sentence in corpus:\n",
    "    tokens = sentence.split()\n",
    "    for i in range(len(tokens) - window_size + 1):\n",
    "        window = tokens[i:i + window_size]\n",
    "        for pair in combinations(window, 2):\n",
    "            co_occurrence[pair] += 1\n",
    "\n",
    "print(co_occurrence)\n"
   ]
  },
  {
   "cell_type": "code",
   "execution_count": 92,
   "id": "8e981b19-e528-4494-9fd8-f6d8049f200c",
   "metadata": {},
   "outputs": [
    {
     "name": "stdout",
     "output_type": "stream",
     "text": [
      "['support@example.com', 'sales@example.org']\n"
     ]
    }
   ],
   "source": [
    "#8)How can you apply a regular expression to extract all email addresses from a text?\n",
    "import re\n",
    "\n",
    "text = \"Contact us at support@example.com or sales@example.org.\"\n",
    "emails = re.findall(r'[a-zA-Z0-9._%+-]+@[a-zA-Z0-9.-]+\\.[a-zA-Z]{2,}', text)\n",
    "print(emails)\n"
   ]
  },
  {
   "cell_type": "code",
   "execution_count": 74,
   "id": "598f4904-1943-43fc-86b9-a4f510a43a7b",
   "metadata": {},
   "outputs": [
    {
     "name": "stdout",
     "output_type": "stream",
     "text": [
      "Collecting gensim\n",
      "  Downloading gensim-4.3.3-cp312-cp312-win_amd64.whl.metadata (8.2 kB)\n",
      "Collecting numpy<2.0,>=1.18.5 (from gensim)\n",
      "  Downloading numpy-1.26.4-cp312-cp312-win_amd64.whl.metadata (61 kB)\n",
      "Collecting scipy<1.14.0,>=1.7.0 (from gensim)\n",
      "  Downloading scipy-1.13.1-cp312-cp312-win_amd64.whl.metadata (60 kB)\n",
      "Collecting smart-open>=1.8.1 (from gensim)\n",
      "  Downloading smart_open-7.1.0-py3-none-any.whl.metadata (24 kB)\n",
      "Requirement already satisfied: wrapt in c:\\users\\hp\\appdata\\local\\programs\\python\\python312\\lib\\site-packages (from smart-open>=1.8.1->gensim) (1.17.0)\n",
      "Downloading gensim-4.3.3-cp312-cp312-win_amd64.whl (24.0 MB)\n",
      "   ---------------------------------------- 0.0/24.0 MB ? eta -:--:--\n",
      "   - -------------------------------------- 1.0/24.0 MB 6.3 MB/s eta 0:00:04\n",
      "   -- ------------------------------------- 1.6/24.0 MB 3.5 MB/s eta 0:00:07\n",
      "   ---- ----------------------------------- 2.6/24.0 MB 4.3 MB/s eta 0:00:05\n",
      "   ----- ---------------------------------- 3.1/24.0 MB 3.7 MB/s eta 0:00:06\n",
      "   ------ --------------------------------- 3.9/24.0 MB 3.7 MB/s eta 0:00:06\n",
      "   ------- -------------------------------- 4.7/24.0 MB 3.7 MB/s eta 0:00:06\n",
      "   --------- ------------------------------ 5.5/24.0 MB 3.7 MB/s eta 0:00:06\n",
      "   ---------- ----------------------------- 6.3/24.0 MB 3.7 MB/s eta 0:00:05\n",
      "   ----------- ---------------------------- 7.1/24.0 MB 3.7 MB/s eta 0:00:05\n",
      "   ------------- -------------------------- 8.1/24.0 MB 3.7 MB/s eta 0:00:05\n",
      "   -------------- ------------------------- 8.9/24.0 MB 3.7 MB/s eta 0:00:05\n",
      "   ---------------- ----------------------- 9.7/24.0 MB 3.8 MB/s eta 0:00:04\n",
      "   ----------------- ---------------------- 10.5/24.0 MB 3.8 MB/s eta 0:00:04\n",
      "   ------------------ --------------------- 11.3/24.0 MB 3.8 MB/s eta 0:00:04\n",
      "   -------------------- ------------------- 12.1/24.0 MB 3.8 MB/s eta 0:00:04\n",
      "   --------------------- ------------------ 13.1/24.0 MB 3.8 MB/s eta 0:00:03\n",
      "   ---------------------- ----------------- 13.6/24.0 MB 3.8 MB/s eta 0:00:03\n",
      "   ------------------------ --------------- 14.7/24.0 MB 3.8 MB/s eta 0:00:03\n",
      "   ------------------------- -------------- 15.5/24.0 MB 3.8 MB/s eta 0:00:03\n",
      "   --------------------------- ------------ 16.3/24.0 MB 3.8 MB/s eta 0:00:03\n",
      "   ---------------------------- ----------- 17.0/24.0 MB 3.8 MB/s eta 0:00:02\n",
      "   ----------------------------- ---------- 17.8/24.0 MB 3.8 MB/s eta 0:00:02\n",
      "   ------------------------------- -------- 18.9/24.0 MB 3.8 MB/s eta 0:00:02\n",
      "   -------------------------------- ------- 19.7/24.0 MB 3.8 MB/s eta 0:00:02\n",
      "   ---------------------------------- ----- 20.4/24.0 MB 3.8 MB/s eta 0:00:01\n",
      "   ----------------------------------- ---- 21.2/24.0 MB 3.8 MB/s eta 0:00:01\n",
      "   ------------------------------------ --- 22.0/24.0 MB 3.8 MB/s eta 0:00:01\n",
      "   ------------------------------------- -- 22.8/24.0 MB 3.8 MB/s eta 0:00:01\n",
      "   ---------------------------------------  23.6/24.0 MB 3.8 MB/s eta 0:00:01\n",
      "   ---------------------------------------- 24.0/24.0 MB 3.7 MB/s eta 0:00:00\n",
      "Downloading numpy-1.26.4-cp312-cp312-win_amd64.whl (15.5 MB)\n",
      "   ---------------------------------------- 0.0/15.5 MB ? eta -:--:--\n",
      "   -- ------------------------------------- 1.0/15.5 MB 5.6 MB/s eta 0:00:03\n",
      "   ---- ----------------------------------- 1.8/15.5 MB 4.6 MB/s eta 0:00:03\n",
      "   ------ --------------------------------- 2.6/15.5 MB 4.3 MB/s eta 0:00:03\n",
      "   -------- ------------------------------- 3.4/15.5 MB 4.2 MB/s eta 0:00:03\n",
      "   ---------- ----------------------------- 4.2/15.5 MB 4.1 MB/s eta 0:00:03\n",
      "   ------------- -------------------------- 5.2/15.5 MB 4.0 MB/s eta 0:00:03\n",
      "   --------------- ------------------------ 6.0/15.5 MB 4.0 MB/s eta 0:00:03\n",
      "   ----------------- ---------------------- 6.8/15.5 MB 4.0 MB/s eta 0:00:03\n",
      "   ------------------- -------------------- 7.6/15.5 MB 4.0 MB/s eta 0:00:02\n",
      "   --------------------- ------------------ 8.4/15.5 MB 3.9 MB/s eta 0:00:02\n",
      "   ----------------------- ---------------- 9.2/15.5 MB 3.9 MB/s eta 0:00:02\n",
      "   ------------------------- -------------- 10.0/15.5 MB 3.9 MB/s eta 0:00:02\n",
      "   --------------------------- ------------ 10.7/15.5 MB 3.9 MB/s eta 0:00:02\n",
      "   ------------------------------ --------- 11.8/15.5 MB 3.9 MB/s eta 0:00:01\n",
      "   -------------------------------- ------- 12.6/15.5 MB 3.9 MB/s eta 0:00:01\n",
      "   ---------------------------------- ----- 13.4/15.5 MB 3.9 MB/s eta 0:00:01\n",
      "   ------------------------------------ --- 14.2/15.5 MB 3.9 MB/s eta 0:00:01\n",
      "   -------------------------------------- - 14.9/15.5 MB 3.9 MB/s eta 0:00:01\n",
      "   ---------------------------------------- 15.5/15.5 MB 3.8 MB/s eta 0:00:00\n",
      "Downloading scipy-1.13.1-cp312-cp312-win_amd64.whl (45.9 MB)\n",
      "   ---------------------------------------- 0.0/45.9 MB ? eta -:--:--\n",
      "    --------------------------------------- 1.0/45.9 MB 5.6 MB/s eta 0:00:09\n",
      "   - -------------------------------------- 1.8/45.9 MB 4.6 MB/s eta 0:00:10\n",
      "   -- ------------------------------------- 2.6/45.9 MB 4.3 MB/s eta 0:00:11\n",
      "   -- ------------------------------------- 3.4/45.9 MB 4.2 MB/s eta 0:00:11\n",
      "   --- ------------------------------------ 4.2/45.9 MB 4.1 MB/s eta 0:00:11\n",
      "   ---- ----------------------------------- 5.0/45.9 MB 4.0 MB/s eta 0:00:11\n",
      "   ----- ---------------------------------- 6.0/45.9 MB 4.0 MB/s eta 0:00:10\n",
      "   ----- ---------------------------------- 6.8/45.9 MB 4.0 MB/s eta 0:00:10\n",
      "   ------ --------------------------------- 7.6/45.9 MB 4.0 MB/s eta 0:00:10\n",
      "   ------- -------------------------------- 8.4/45.9 MB 3.9 MB/s eta 0:00:10\n",
      "   ------- -------------------------------- 9.2/45.9 MB 3.9 MB/s eta 0:00:10\n",
      "   -------- ------------------------------- 10.0/45.9 MB 3.9 MB/s eta 0:00:10\n",
      "   --------- ------------------------------ 10.7/45.9 MB 3.9 MB/s eta 0:00:09\n",
      "   ---------- ----------------------------- 11.5/45.9 MB 3.9 MB/s eta 0:00:09\n",
      "   ---------- ----------------------------- 12.6/45.9 MB 3.9 MB/s eta 0:00:09\n",
      "   ----------- ---------------------------- 13.4/45.9 MB 3.9 MB/s eta 0:00:09\n",
      "   ------------ --------------------------- 14.2/45.9 MB 3.9 MB/s eta 0:00:09\n",
      "   ------------- -------------------------- 14.9/45.9 MB 3.9 MB/s eta 0:00:08\n",
      "   ------------- -------------------------- 15.7/45.9 MB 3.9 MB/s eta 0:00:08\n",
      "   -------------- ------------------------- 16.5/45.9 MB 3.9 MB/s eta 0:00:08\n",
      "   --------------- ------------------------ 17.3/45.9 MB 3.9 MB/s eta 0:00:08\n",
      "   --------------- ------------------------ 18.1/45.9 MB 3.9 MB/s eta 0:00:08\n",
      "   ---------------- ----------------------- 18.9/45.9 MB 3.9 MB/s eta 0:00:07\n",
      "   ----------------- ---------------------- 19.9/45.9 MB 3.9 MB/s eta 0:00:07\n",
      "   ------------------ --------------------- 20.7/45.9 MB 3.9 MB/s eta 0:00:07\n",
      "   ------------------ --------------------- 21.5/45.9 MB 3.9 MB/s eta 0:00:07\n",
      "   ------------------- -------------------- 22.3/45.9 MB 3.9 MB/s eta 0:00:07\n",
      "   -------------------- ------------------- 23.1/45.9 MB 3.9 MB/s eta 0:00:06\n",
      "   -------------------- ------------------- 23.9/45.9 MB 3.9 MB/s eta 0:00:06\n",
      "   --------------------- ------------------ 24.9/45.9 MB 3.9 MB/s eta 0:00:06\n",
      "   ---------------------- ----------------- 25.7/45.9 MB 3.9 MB/s eta 0:00:06\n",
      "   ----------------------- ---------------- 26.5/45.9 MB 3.9 MB/s eta 0:00:06\n",
      "   ----------------------- ---------------- 27.3/45.9 MB 3.9 MB/s eta 0:00:05\n",
      "   ------------------------ --------------- 28.0/45.9 MB 3.9 MB/s eta 0:00:05\n",
      "   ------------------------- -------------- 28.8/45.9 MB 3.9 MB/s eta 0:00:05\n",
      "   -------------------------- ------------- 29.9/45.9 MB 3.9 MB/s eta 0:00:05\n",
      "   -------------------------- ------------- 30.4/45.9 MB 3.9 MB/s eta 0:00:05\n",
      "   --------------------------- ------------ 31.5/45.9 MB 3.9 MB/s eta 0:00:04\n",
      "   ---------------------------- ----------- 32.2/45.9 MB 3.9 MB/s eta 0:00:04\n",
      "   ---------------------------- ----------- 33.0/45.9 MB 3.9 MB/s eta 0:00:04\n",
      "   ----------------------------- ---------- 33.8/45.9 MB 3.9 MB/s eta 0:00:04\n",
      "   ------------------------------ --------- 34.6/45.9 MB 3.9 MB/s eta 0:00:03\n",
      "   ------------------------------ --------- 35.4/45.9 MB 3.8 MB/s eta 0:00:03\n",
      "   ------------------------------- -------- 36.2/45.9 MB 3.9 MB/s eta 0:00:03\n",
      "   -------------------------------- ------- 37.2/45.9 MB 3.9 MB/s eta 0:00:03\n",
      "   --------------------------------- ------ 38.0/45.9 MB 3.8 MB/s eta 0:00:03\n",
      "   --------------------------------- ------ 38.8/45.9 MB 3.8 MB/s eta 0:00:02\n",
      "   ---------------------------------- ----- 39.6/45.9 MB 3.8 MB/s eta 0:00:02\n",
      "   ----------------------------------- ---- 40.4/45.9 MB 3.8 MB/s eta 0:00:02\n",
      "   ----------------------------------- ---- 41.2/45.9 MB 3.8 MB/s eta 0:00:02\n",
      "   ------------------------------------ --- 41.9/45.9 MB 3.8 MB/s eta 0:00:02\n",
      "   ------------------------------------- -- 42.7/45.9 MB 3.8 MB/s eta 0:00:01\n",
      "   -------------------------------------- - 43.8/45.9 MB 3.8 MB/s eta 0:00:01\n",
      "   -------------------------------------- - 44.6/45.9 MB 3.8 MB/s eta 0:00:01\n",
      "   ---------------------------------------  45.4/45.9 MB 3.8 MB/s eta 0:00:01\n",
      "   ---------------------------------------  45.9/45.9 MB 3.8 MB/s eta 0:00:01\n",
      "   ---------------------------------------- 45.9/45.9 MB 3.8 MB/s eta 0:00:00\n",
      "Downloading smart_open-7.1.0-py3-none-any.whl (61 kB)\n",
      "Installing collected packages: smart-open, numpy, scipy, gensim\n",
      "  Attempting uninstall: numpy\n",
      "    Found existing installation: numpy 2.0.2\n",
      "    Uninstalling numpy-2.0.2:\n",
      "      Successfully uninstalled numpy-2.0.2\n",
      "  Attempting uninstall: scipy\n",
      "    Found existing installation: scipy 1.14.0\n",
      "    Uninstalling scipy-1.14.0:\n",
      "      Successfully uninstalled scipy-1.14.0\n",
      "Successfully installed gensim-4.3.3 numpy-1.26.4 scipy-1.13.1 smart-open-7.1.0\n",
      "Note: you may need to restart the kernel to use updated packages.\n"
     ]
    },
    {
     "name": "stderr",
     "output_type": "stream",
     "text": [
      "  WARNING: Failed to remove contents in a temporary directory 'C:\\Users\\HP\\AppData\\Local\\Programs\\Python\\Python312\\Lib\\site-packages\\~~mpy.libs'.\n",
      "  You can safely remove it manually.\n",
      "  WARNING: Failed to remove contents in a temporary directory 'C:\\Users\\HP\\AppData\\Local\\Programs\\Python\\Python312\\Lib\\site-packages\\~~mpy'.\n",
      "  You can safely remove it manually.\n",
      "  WARNING: Failed to remove contents in a temporary directory 'C:\\Users\\HP\\AppData\\Local\\Programs\\Python\\Python312\\Lib\\site-packages\\~cipy.libs'.\n",
      "  You can safely remove it manually.\n",
      "  WARNING: Failed to remove contents in a temporary directory 'C:\\Users\\HP\\AppData\\Local\\Programs\\Python\\Python312\\Lib\\site-packages\\~cipy'.\n",
      "  You can safely remove it manually.\n",
      "ERROR: pip's dependency resolver does not currently take into account all the packages that are installed. This behaviour is the source of the following dependency conflicts.\n",
      "streamlit 1.28.0 requires protobuf<5,>=3.20, but you have protobuf 5.27.3 which is incompatible.\n",
      "\n",
      "[notice] A new release of pip is available: 24.3.1 -> 25.0\n",
      "[notice] To update, run: python.exe -m pip install --upgrade pip\n"
     ]
    }
   ],
   "source": [
    "pip install gensim"
   ]
  },
  {
   "cell_type": "code",
   "execution_count": 97,
   "id": "14d0084c-d7b2-4845-89f1-bb9aee40fe42",
   "metadata": {},
   "outputs": [
    {
     "name": "stdout",
     "output_type": "stream",
     "text": [
      "Collecting gensim==4.3.0\n",
      "  Downloading gensim-4.3.0.tar.gz (23.3 MB)\n",
      "     ---------------------------------------- 0.0/23.3 MB ? eta -:--:--\n",
      "     - -------------------------------------- 1.0/23.3 MB 7.2 MB/s eta 0:00:04\n",
      "     --- ------------------------------------ 1.8/23.3 MB 5.0 MB/s eta 0:00:05\n",
      "     ---- ----------------------------------- 2.6/23.3 MB 4.6 MB/s eta 0:00:05\n",
      "     ----- ---------------------------------- 3.4/23.3 MB 4.4 MB/s eta 0:00:05\n",
      "     ------- -------------------------------- 4.2/23.3 MB 4.3 MB/s eta 0:00:05\n",
      "     --------- ------------------------------ 5.2/23.3 MB 4.2 MB/s eta 0:00:05\n",
      "     ---------- ----------------------------- 6.0/23.3 MB 4.1 MB/s eta 0:00:05\n",
      "     ----------- ---------------------------- 6.8/23.3 MB 4.1 MB/s eta 0:00:04\n",
      "     ------------- -------------------------- 7.6/23.3 MB 4.1 MB/s eta 0:00:04\n",
      "     -------------- ------------------------- 8.7/23.3 MB 4.1 MB/s eta 0:00:04\n",
      "     ---------------- ----------------------- 9.4/23.3 MB 4.1 MB/s eta 0:00:04\n",
      "     ----------------- ---------------------- 10.2/23.3 MB 4.0 MB/s eta 0:00:04\n",
      "     ------------------ --------------------- 11.0/23.3 MB 4.0 MB/s eta 0:00:04\n",
      "     -------------------- ------------------- 11.8/23.3 MB 4.0 MB/s eta 0:00:03\n",
      "     ---------------------- ----------------- 12.8/23.3 MB 4.0 MB/s eta 0:00:03\n",
      "     ----------------------- ---------------- 13.6/23.3 MB 4.0 MB/s eta 0:00:03\n",
      "     ------------------------ --------------- 14.4/23.3 MB 4.0 MB/s eta 0:00:03\n",
      "     -------------------------- ------------- 15.2/23.3 MB 4.0 MB/s eta 0:00:03\n",
      "     --------------------------- ------------ 16.0/23.3 MB 4.0 MB/s eta 0:00:02\n",
      "     ---------------------------- ----------- 16.8/23.3 MB 3.9 MB/s eta 0:00:02\n",
      "     ------------------------------ --------- 17.8/23.3 MB 4.0 MB/s eta 0:00:02\n",
      "     -------------------------------- ------- 18.6/23.3 MB 4.0 MB/s eta 0:00:02\n",
      "     --------------------------------- ------ 19.4/23.3 MB 4.0 MB/s eta 0:00:01\n",
      "     ---------------------------------- ----- 20.2/23.3 MB 4.0 MB/s eta 0:00:01\n",
      "     ------------------------------------ --- 21.0/23.3 MB 4.0 MB/s eta 0:00:01\n",
      "     ------------------------------------- -- 22.0/23.3 MB 3.9 MB/s eta 0:00:01\n",
      "     ---------------------------------------  22.8/23.3 MB 3.9 MB/s eta 0:00:01\n",
      "     ---------------------------------------- 23.3/23.3 MB 3.9 MB/s eta 0:00:00\n",
      "  Preparing metadata (setup.py): started\n",
      "  Preparing metadata (setup.py): finished with status 'done'\n",
      "Collecting numpy==1.23.5\n",
      "  Downloading numpy-1.23.5.tar.gz (10.7 MB)\n",
      "     ---------------------------------------- 0.0/10.7 MB ? eta -:--:--\n",
      "     --- ------------------------------------ 1.0/10.7 MB 5.6 MB/s eta 0:00:02\n",
      "     ------ --------------------------------- 1.8/10.7 MB 4.6 MB/s eta 0:00:02\n",
      "     ---------- ----------------------------- 2.9/10.7 MB 4.3 MB/s eta 0:00:02\n",
      "     ------------- -------------------------- 3.7/10.7 MB 4.2 MB/s eta 0:00:02\n",
      "     ---------------- ----------------------- 4.5/10.7 MB 4.1 MB/s eta 0:00:02\n",
      "     ------------------- -------------------- 5.2/10.7 MB 4.1 MB/s eta 0:00:02\n",
      "     ---------------------- ----------------- 6.0/10.7 MB 4.1 MB/s eta 0:00:02\n",
      "     ------------------------- -------------- 6.8/10.7 MB 4.0 MB/s eta 0:00:01\n",
      "     ---------------------------- ----------- 7.6/10.7 MB 4.0 MB/s eta 0:00:01\n",
      "     -------------------------------- ------- 8.7/10.7 MB 4.0 MB/s eta 0:00:01\n",
      "     ----------------------------------- ---- 9.4/10.7 MB 4.0 MB/s eta 0:00:01\n",
      "     -------------------------------------- - 10.2/10.7 MB 4.0 MB/s eta 0:00:01\n",
      "     ---------------------------------------- 10.7/10.7 MB 3.9 MB/s eta 0:00:00\n",
      "  Installing build dependencies: started\n",
      "  Installing build dependencies: finished with status 'done'\n",
      "  Getting requirements to build wheel: started\n",
      "  Getting requirements to build wheel: finished with status 'error'\n",
      "Note: you may need to restart the kernel to use updated packages.\n"
     ]
    },
    {
     "name": "stderr",
     "output_type": "stream",
     "text": [
      "  error: subprocess-exited-with-error\n",
      "  \n",
      "  Getting requirements to build wheel did not run successfully.\n",
      "  exit code: 1\n",
      "  \n",
      "  [33 lines of output]\n",
      "  Traceback (most recent call last):\n",
      "    File \"C:\\Users\\HP\\AppData\\Local\\Programs\\Python\\Python312\\Lib\\site-packages\\pip\\_vendor\\pyproject_hooks\\_in_process\\_in_process.py\", line 353, in <module>\n",
      "      main()\n",
      "    File \"C:\\Users\\HP\\AppData\\Local\\Programs\\Python\\Python312\\Lib\\site-packages\\pip\\_vendor\\pyproject_hooks\\_in_process\\_in_process.py\", line 335, in main\n",
      "      json_out['return_val'] = hook(**hook_input['kwargs'])\n",
      "                               ^^^^^^^^^^^^^^^^^^^^^^^^^^^^\n",
      "    File \"C:\\Users\\HP\\AppData\\Local\\Programs\\Python\\Python312\\Lib\\site-packages\\pip\\_vendor\\pyproject_hooks\\_in_process\\_in_process.py\", line 112, in get_requires_for_build_wheel\n",
      "      backend = _build_backend()\n",
      "                ^^^^^^^^^^^^^^^^\n",
      "    File \"C:\\Users\\HP\\AppData\\Local\\Programs\\Python\\Python312\\Lib\\site-packages\\pip\\_vendor\\pyproject_hooks\\_in_process\\_in_process.py\", line 77, in _build_backend\n",
      "      obj = import_module(mod_path)\n",
      "            ^^^^^^^^^^^^^^^^^^^^^^^\n",
      "    File \"C:\\Users\\HP\\AppData\\Local\\Programs\\Python\\Python312\\Lib\\importlib\\__init__.py\", line 90, in import_module\n",
      "      return _bootstrap._gcd_import(name[level:], package, level)\n",
      "             ^^^^^^^^^^^^^^^^^^^^^^^^^^^^^^^^^^^^^^^^^^^^^^^^^^^^\n",
      "    File \"<frozen importlib._bootstrap>\", line 1387, in _gcd_import\n",
      "    File \"<frozen importlib._bootstrap>\", line 1360, in _find_and_load\n",
      "    File \"<frozen importlib._bootstrap>\", line 1310, in _find_and_load_unlocked\n",
      "    File \"<frozen importlib._bootstrap>\", line 488, in _call_with_frames_removed\n",
      "    File \"<frozen importlib._bootstrap>\", line 1387, in _gcd_import\n",
      "    File \"<frozen importlib._bootstrap>\", line 1360, in _find_and_load\n",
      "    File \"<frozen importlib._bootstrap>\", line 1331, in _find_and_load_unlocked\n",
      "    File \"<frozen importlib._bootstrap>\", line 935, in _load_unlocked\n",
      "    File \"<frozen importlib._bootstrap_external>\", line 995, in exec_module\n",
      "    File \"<frozen importlib._bootstrap>\", line 488, in _call_with_frames_removed\n",
      "    File \"C:\\Users\\HP\\AppData\\Local\\Temp\\pip-build-env-u8398rtu\\overlay\\Lib\\site-packages\\setuptools\\__init__.py\", line 16, in <module>\n",
      "      import setuptools.version\n",
      "    File \"C:\\Users\\HP\\AppData\\Local\\Temp\\pip-build-env-u8398rtu\\overlay\\Lib\\site-packages\\setuptools\\version.py\", line 1, in <module>\n",
      "      import pkg_resources\n",
      "    File \"C:\\Users\\HP\\AppData\\Local\\Temp\\pip-build-env-u8398rtu\\overlay\\Lib\\site-packages\\pkg_resources\\__init__.py\", line 2172, in <module>\n",
      "      register_finder(pkgutil.ImpImporter, find_on_path)\n",
      "                      ^^^^^^^^^^^^^^^^^^^\n",
      "  AttributeError: module 'pkgutil' has no attribute 'ImpImporter'. Did you mean: 'zipimporter'?\n",
      "  [end of output]\n",
      "  \n",
      "  note: This error originates from a subprocess, and is likely not a problem with pip.\n",
      "\n",
      "[notice] A new release of pip is available: 24.3.1 -> 25.0\n",
      "[notice] To update, run: python.exe -m pip install --upgrade pip\n",
      "error: subprocess-exited-with-error\n",
      "\n",
      "Getting requirements to build wheel did not run successfully.\n",
      "exit code: 1\n",
      "\n",
      "See above for output.\n",
      "\n",
      "note: This error originates from a subprocess, and is likely not a problem with pip.\n"
     ]
    }
   ],
   "source": [
    "pip install gensim==4.3.0 numpy==1.23.5"
   ]
  },
  {
   "cell_type": "code",
   "execution_count": 104,
   "id": "85d06578-0bf6-437a-9491-093d883c8a5b",
   "metadata": {},
   "outputs": [
    {
     "name": "stdout",
     "output_type": "stream",
     "text": [
      "Collecting cython\n",
      "  Using cached Cython-3.0.11-cp312-cp312-win_amd64.whl.metadata (3.2 kB)\n",
      "Using cached Cython-3.0.11-cp312-cp312-win_amd64.whl (2.8 MB)\n",
      "Installing collected packages: cython\n",
      "Successfully installed cython-3.0.11\n"
     ]
    },
    {
     "name": "stderr",
     "output_type": "stream",
     "text": [
      "\n",
      "[notice] A new release of pip is available: 24.3.1 -> 25.0\n",
      "[notice] To update, run: python.exe -m pip install --upgrade pip\n"
     ]
    },
    {
     "name": "stdout",
     "output_type": "stream",
     "text": [
      "Collecting gensim\n",
      "  Using cached gensim-4.3.3-cp312-cp312-win_amd64.whl.metadata (8.2 kB)\n",
      "Collecting numpy<2.0,>=1.18.5 (from gensim)\n",
      "  Using cached numpy-1.26.4-cp312-cp312-win_amd64.whl.metadata (61 kB)\n",
      "Collecting scipy<1.14.0,>=1.7.0 (from gensim)\n",
      "  Using cached scipy-1.13.1-cp312-cp312-win_amd64.whl.metadata (60 kB)\n",
      "Collecting smart-open>=1.8.1 (from gensim)\n",
      "  Using cached smart_open-7.1.0-py3-none-any.whl.metadata (24 kB)\n",
      "Collecting wrapt (from smart-open>=1.8.1->gensim)\n",
      "  Downloading wrapt-1.17.2-cp312-cp312-win_amd64.whl.metadata (6.5 kB)\n",
      "Using cached gensim-4.3.3-cp312-cp312-win_amd64.whl (24.0 MB)\n",
      "Using cached numpy-1.26.4-cp312-cp312-win_amd64.whl (15.5 MB)\n",
      "Using cached scipy-1.13.1-cp312-cp312-win_amd64.whl (45.9 MB)\n",
      "Using cached smart_open-7.1.0-py3-none-any.whl (61 kB)\n",
      "Downloading wrapt-1.17.2-cp312-cp312-win_amd64.whl (38 kB)\n",
      "Installing collected packages: wrapt, numpy, smart-open, scipy, gensim\n",
      "  Attempting uninstall: wrapt\n",
      "    Found existing installation: wrapt 1.17.0\n",
      "    Uninstalling wrapt-1.17.0:\n",
      "      Successfully uninstalled wrapt-1.17.0\n",
      "  Attempting uninstall: numpy\n",
      "    Found existing installation: numpy 1.26.4\n",
      "    Uninstalling numpy-1.26.4:\n",
      "      Successfully uninstalled numpy-1.26.4\n",
      "  Attempting uninstall: smart-open\n",
      "    Found existing installation: smart-open 7.1.0\n",
      "    Uninstalling smart-open-7.1.0:\n",
      "      Successfully uninstalled smart-open-7.1.0\n",
      "  Attempting uninstall: scipy\n",
      "    Found existing installation: scipy 1.13.1\n",
      "    Uninstalling scipy-1.13.1:\n",
      "      Successfully uninstalled scipy-1.13.1\n",
      "  Attempting uninstall: gensim\n",
      "    Found existing installation: gensim 4.3.3\n",
      "    Uninstalling gensim-4.3.3:\n",
      "      Successfully uninstalled gensim-4.3.3\n",
      "Successfully installed gensim-4.3.3 numpy-1.26.4 scipy-1.13.1 smart-open-7.1.0 wrapt-1.17.2\n"
     ]
    },
    {
     "name": "stderr",
     "output_type": "stream",
     "text": [
      "  WARNING: Failed to remove contents in a temporary directory 'C:\\Users\\HP\\AppData\\Local\\Programs\\Python\\Python312\\Lib\\site-packages\\~rapt'.\n",
      "  You can safely remove it manually.\n",
      "  WARNING: Failed to remove contents in a temporary directory 'C:\\Users\\HP\\AppData\\Local\\Programs\\Python\\Python312\\Lib\\site-packages\\~ensim'.\n",
      "  You can safely remove it manually.\n",
      "ERROR: pip's dependency resolver does not currently take into account all the packages that are installed. This behaviour is the source of the following dependency conflicts.\n",
      "streamlit 1.28.0 requires protobuf<5,>=3.20, but you have protobuf 5.27.3 which is incompatible.\n",
      "\n",
      "[notice] A new release of pip is available: 24.3.1 -> 25.0\n",
      "[notice] To update, run: python.exe -m pip install --upgrade pip\n"
     ]
    }
   ],
   "source": [
    "!pip install cython\n",
    "!pip install --force-reinstall gensim"
   ]
  },
  {
   "cell_type": "code",
   "execution_count": 111,
   "id": "3093788b-e0f0-4349-be2f-e5b52261aeb2",
   "metadata": {},
   "outputs": [
    {
     "name": "stdout",
     "output_type": "stream",
     "text": [
      "Requirement already satisfied: nltk in c:\\users\\hp\\appdata\\local\\programs\\python\\python312\\lib\\site-packages (3.8.2)\n",
      "Requirement already satisfied: click in c:\\users\\hp\\appdata\\local\\programs\\python\\python312\\lib\\site-packages (from nltk) (8.1.7)\n",
      "Requirement already satisfied: joblib in c:\\users\\hp\\appdata\\local\\programs\\python\\python312\\lib\\site-packages (from nltk) (1.4.2)\n",
      "Requirement already satisfied: regex>=2021.8.3 in c:\\users\\hp\\appdata\\local\\programs\\python\\python312\\lib\\site-packages (from nltk) (2024.7.24)\n",
      "Requirement already satisfied: tqdm in c:\\users\\hp\\appdata\\local\\programs\\python\\python312\\lib\\site-packages (from nltk) (4.66.5)\n",
      "Requirement already satisfied: colorama in c:\\users\\hp\\appdata\\local\\programs\\python\\python312\\lib\\site-packages (from click->nltk) (0.4.6)\n",
      "Note: you may need to restart the kernel to use updated packages.\n"
     ]
    },
    {
     "name": "stderr",
     "output_type": "stream",
     "text": [
      "\n",
      "[notice] A new release of pip is available: 24.3.1 -> 25.0\n",
      "[notice] To update, run: python.exe -m pip install --upgrade pip\n"
     ]
    }
   ],
   "source": [
    "pip install nltk"
   ]
  },
  {
   "cell_type": "code",
   "execution_count": 79,
   "id": "f79bd2b0-dfbb-42aa-9831-35c505e9f81a",
   "metadata": {},
   "outputs": [
    {
     "name": "stdout",
     "output_type": "stream",
     "text": [
      "[[0.26055567]]\n"
     ]
    }
   ],
   "source": [
    "#12)How can you find the similarity between two sentences using cosine similarity?\n",
    "from sklearn.feature_extraction.text import TfidfVectorizer\n",
    "from sklearn.metrics.pairwise import cosine_similarity\n",
    "\n",
    "sentences = [\"I love NLP\", \"NLP is amazing\"]\n",
    "vectorizer = TfidfVectorizer()\n",
    "vectors = vectorizer.fit_transform(sentences)\n",
    "similarity = cosine_similarity(vectors[0], vectors[1])\n",
    "print(similarity)\n"
   ]
  },
  {
   "cell_type": "code",
   "execution_count": 81,
   "id": "7fb92f59-89f1-465e-a267-8342e06334b0",
   "metadata": {},
   "outputs": [
    {
     "name": "stdout",
     "output_type": "stream",
     "text": [
      "[['This is a large document.', 'It has multiple sentences.'], [\"Let's split it.\"]]\n"
     ]
    }
   ],
   "source": [
    "#14)How can you split a large document into smaller chunks of text?\n",
    "text = \"This is a large document. It has multiple sentences. Let's split it.\"\n",
    "chunk_size = 2\n",
    "sentences = sent_tokenize(text)\n",
    "chunks = [sentences[i:i + chunk_size] for i in range(0, len(sentences), chunk_size)]\n",
    "print(chunks)\n"
   ]
  },
  {
   "cell_type": "code",
   "execution_count": 82,
   "id": "ed084de8-3abe-43e3-b0f1-d9b69fef4941",
   "metadata": {},
   "outputs": [
    {
     "name": "stdout",
     "output_type": "stream",
     "text": [
      "[[0.         0.         0.         0.         0.861037   0.50854232]\n",
      " [0.         0.65249088 0.65249088 0.         0.         0.38537163]\n",
      " [0.65249088 0.         0.         0.65249088 0.         0.38537163]]\n"
     ]
    }
   ],
   "source": [
    "#15)How can you calculate the TF-IDF (Term Frequency - Inverse Document Frequency) for a set of documents?\n",
    "from sklearn.feature_extraction.text import TfidfVectorizer\n",
    "\n",
    "documents = [\"I love NLP\", \"NLP is fun\", \"I enjoy learning NLP\"]\n",
    "vectorizer = TfidfVectorizer()\n",
    "tfidf_matrix = vectorizer.fit_transform(documents)\n",
    "print(tfidf_matrix.toarray())  # TF-IDF values\n"
   ]
  },
  {
   "cell_type": "code",
   "execution_count": 83,
   "id": "00d4ad63-f3a0-457b-b035-15ca0ea434a3",
   "metadata": {},
   "outputs": [
    {
     "name": "stdout",
     "output_type": "stream",
     "text": [
      "['simpl', 'nlp', 'exampl', 'show', 'combin', 'preprocess', 'step', '.']\n"
     ]
    }
   ],
   "source": [
    "#16)How can you apply tokenization, stopword removal, and stemming in one go?\n",
    "text = \"This is a simple NLP example showing how to combine preprocessing steps.\"\n",
    "tokens = word_tokenize(text)\n",
    "filtered_tokens = [stemmer.stem(word) for word in tokens if word.lower() not in stopwords.words('english')]\n",
    "print(filtered_tokens)\n"
   ]
  },
  {
   "cell_type": "code",
   "execution_count": 84,
   "id": "ea8c3994-f345-44b4-bf6b-0d1132d73da7",
   "metadata": {},
   "outputs": [
    {
     "data": {
      "text/plain": [
       "<Axes: title={'center': 'Word Frequency Distribution'}, xlabel='Samples', ylabel='Counts'>"
      ]
     },
     "execution_count": 84,
     "metadata": {},
     "output_type": "execute_result"
    },
    {
     "data": {
      "image/png": "[encoded data removed]",
      "text/plain": [
       "<Figure size 640x480 with 1 Axes>"
      ]
     },
     "metadata": {},
     "output_type": "display_data"
    }
   ],
   "source": [
    "#17)How can you visualize the frequency distribution of words in a sentence?\n",
    "import matplotlib.pyplot as plt\n",
    "from nltk.probability import FreqDist\n",
    "\n",
    "text = \"NLP is fun. NLP is powerful. NLP is the future!\"\n",
    "tokens = word_tokenize(text)\n",
    "freq_dist = FreqDist(tokens)\n",
    "freq_dist.plot(10, title=\"Word Frequency Distribution\")\n"
   ]
  },
  {
   "cell_type": "code",
   "execution_count": null,
   "id": "49b42fb8-d44e-4ff3-a5a9-5498e8c4a699",
   "metadata": {},
   "outputs": [],
   "source": []
  }
 ],
 "metadata": {
  "kernelspec": {
   "display_name": "Python 3 (ipykernel)",
   "language": "python",
   "name": "python3"
  },
  "language_info": {
   "codemirror_mode": {
    "name": "ipython",
    "version": 3
   },
   "file_extension": ".py",
   "mimetype": "text/x-python",
   "name": "python",
   "nbconvert_exporter": "python",
   "pygments_lexer": "ipython3",
   "version": "3.12.5"
  }
 },
 "nbformat": 4,
 "nbformat_minor": 5
}
