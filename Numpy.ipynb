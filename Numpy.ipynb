{
 "cells": [
  {
   "cell_type": "code",
   "execution_count": 17,
   "id": "3a471e6d-f237-46cb-9718-161f1acdf51e",
   "metadata": {},
   "outputs": [],
   "source": [
    "#1. Create a NumPy array 'arr' of integers from 0 to 5 and print its data type."
   ]
  },
  {
   "cell_type": "code",
   "execution_count": 18,
   "id": "36db4f8f-e8f3-4acc-bedb-716fdd1e4e61",
   "metadata": {},
   "outputs": [
    {
     "name": "stdout",
     "output_type": "stream",
     "text": [
      "Data type of array: int64\n"
     ]
    }
   ],
   "source": [
    "import numpy as np\n",
    "\n",
    "arr = np.arange(6)\n",
    "print(\"Data type of array:\", arr.dtype)\n"
   ]
  },
  {
   "cell_type": "code",
   "execution_count": 19,
   "id": "c6ec82a2-9644-4157-afe0-76e5fe5e2e0a",
   "metadata": {},
   "outputs": [],
   "source": [
    "#2Check if the data type of a given NumPy array 'arr' is float64."
   ]
  },
  {
   "cell_type": "code",
   "execution_count": 20,
   "id": "4616a711-b047-4a20-a1b7-886b6eb2337a",
   "metadata": {},
   "outputs": [
    {
     "name": "stdout",
     "output_type": "stream",
     "text": [
      "The data type is float64.\n"
     ]
    }
   ],
   "source": [
    "arr = np.array([1.5, 2.6, 3.7])\n",
    "if arr.dtype == np.float64:\n",
    "    print(\"The data type is float64.\")\n",
    "else:\n",
    "    print(\"The data type is not float64.\")\n"
   ]
  },
  {
   "cell_type": "code",
   "execution_count": 21,
   "id": "6df1b23b-71ac-4568-b2fc-7fd8bcfe94e9",
   "metadata": {},
   "outputs": [],
   "source": [
    "#3. Create a NumPy array 'arr' with a data type of complex128 containing three complex numbers."
   ]
  },
  {
   "cell_type": "code",
   "execution_count": 22,
   "id": "7476b7b2-0f17-4869-bfa0-62e5b8495a80",
   "metadata": {},
   "outputs": [
    {
     "name": "stdout",
     "output_type": "stream",
     "text": [
      "[1.+2.j 3.+4.j 5.+6.j]\n"
     ]
    }
   ],
   "source": [
    "arr = np.array([1+2j, 3+4j, 5+6j], dtype=np.complex128)\n",
    "print(arr)"
   ]
  },
  {
   "cell_type": "code",
   "execution_count": 23,
   "id": "85719e2c-ca03-4fdc-a21c-7d98a163bdd2",
   "metadata": {},
   "outputs": [],
   "source": [
    "#4. Convert an existing NumPy array 'arr' of integers to float32 data type"
   ]
  },
  {
   "cell_type": "code",
   "execution_count": 24,
   "id": "074e7987-333a-48dd-ae6c-2585d5eb0693",
   "metadata": {},
   "outputs": [
    {
     "name": "stdout",
     "output_type": "stream",
     "text": [
      "[1. 3. 5.]\n"
     ]
    },
    {
     "name": "stderr",
     "output_type": "stream",
     "text": [
      "C:\\Users\\HP\\AppData\\Local\\Temp\\ipykernel_3848\\1919599306.py:1: ComplexWarning: Casting complex values to real discards the imaginary part\n",
      "  arr_float = arr.astype(np.float32)\n"
     ]
    }
   ],
   "source": [
    "arr_float = arr.astype(np.float32)\n",
    "print(arr_float)\n"
   ]
  },
  {
   "cell_type": "code",
   "execution_count": 25,
   "id": "f6f4c68f-4d6c-4e31-9626-d07f4f4024d9",
   "metadata": {},
   "outputs": [],
   "source": [
    "#5. Given a NumPy array 'arr' with float64 data type, convert it to float32 to reduce decimal precision"
   ]
  },
  {
   "cell_type": "code",
   "execution_count": 26,
   "id": "73400a16-26e5-47f1-a457-e022d7fdb876",
   "metadata": {},
   "outputs": [
    {
     "name": "stdout",
     "output_type": "stream",
     "text": [
      "[1. 3. 5.]\n"
     ]
    },
    {
     "name": "stderr",
     "output_type": "stream",
     "text": [
      "C:\\Users\\HP\\AppData\\Local\\Temp\\ipykernel_3848\\3492615239.py:1: ComplexWarning: Casting complex values to real discards the imaginary part\n",
      "  arr_float32 = arr.astype(np.float32)\n"
     ]
    }
   ],
   "source": [
    "arr_float32 = arr.astype(np.float32)\n",
    "print(arr_float32)\n"
   ]
  },
  {
   "cell_type": "code",
   "execution_count": 27,
   "id": "87616499-fd69-4508-8987-76cd5ccffe96",
   "metadata": {},
   "outputs": [],
   "source": [
    "#6. Write a function array_attributes that takes a NumPy array as input and returns its shape, size, and data type."
   ]
  },
  {
   "cell_type": "code",
   "execution_count": 33,
   "id": "1afe4d41-2697-4357-a602-5408f02e2925",
   "metadata": {},
   "outputs": [
    {
     "name": "stdout",
     "output_type": "stream",
     "text": [
      "Array: [1 2 3 4 5]\n",
      "Attributes (Shape, Size, Dtype): ((5,), 5, dtype('int64'))\n"
     ]
    }
   ],
   "source": [
    "import numpy as np\n",
    "def array_attributes(arr):\n",
    "        return arr.shape, arr.size, arr.dtype\n",
    "\n",
    "arr = np.array([1, 2, 3, 4, 5])\n",
    "print(\"Array:\", arr)\n",
    "x=array_attributes(arr)\n",
    "print(\"Attributes (Shape, Size, Dtype):\",x)                                                                                                                             "
   ]
  },
  {
   "cell_type": "code",
   "execution_count": 29,
   "id": "68334651-575f-4bdb-8d43-0885003692ff",
   "metadata": {},
   "outputs": [],
   "source": [
    "#7. Create a function array_dimension that takes a NumPy array as input and returns its dimensionality."
   ]
  },
  {
   "cell_type": "code",
   "execution_count": 34,
   "id": "4ab0ab11-c320-4f02-bce8-5338059e8ccf",
   "metadata": {},
   "outputs": [
    {
     "name": "stdout",
     "output_type": "stream",
     "text": [
      "Array:\n",
      " [[1 2]\n",
      " [3 4]\n",
      " [5 6]]\n",
      "Dimension: 2\n"
     ]
    }
   ],
   "source": [
    "def array_dimension(arr):\n",
    "        return arr.ndim\n",
    "\n",
    "arr = np.array([[1, 2], [3, 4], [5, 6]])\n",
    "print(\"Array:\\n\", arr)\n",
    "print(\"Dimension:\", array_dimension(arr))"
   ]
  },
  {
   "cell_type": "code",
   "execution_count": 21,
   "id": "aeb4e1d6-9b8b-4695-b88d-8209224fd24f",
   "metadata": {},
   "outputs": [],
   "source": [
    "#8. Design a function item_size_info that takes a NumPy array as input and returns the item size and total size in bytes."
   ]
  },
  {
   "cell_type": "code",
   "execution_count": 35,
   "id": "497a75f7-b38a-499a-b3a5-26e1eeea2139",
   "metadata": {},
   "outputs": [
    {
     "name": "stdout",
     "output_type": "stream",
     "text": [
      "Array: [1. 2. 3.]\n",
      "Item size (bytes): 8\n",
      "Total size (bytes): 24\n"
     ]
    }
   ],
   "source": [
    "def item_size_info(arr):\n",
    "        return arr.itemsize, arr.nbytes\n",
    "\n",
    "arr = np.array([1.0, 2.0, 3.0])\n",
    "print(\"Array:\", arr)\n",
    "print(\"Item size (bytes):\", item_size_info(arr)[0])\n",
    "print(\"Total size (bytes):\", item_size_info(arr)[1])"
   ]
  },
  {
   "cell_type": "code",
   "execution_count": 36,
   "id": "dbc7db49-4a28-47f9-aae5-ff4546a16d8a",
   "metadata": {},
   "outputs": [],
   "source": [
    "#9. Create a function array_strides that takes a NumPy array as input and returns the strides of the array."
   ]
  },
  {
   "cell_type": "code",
   "execution_count": 38,
   "id": "2c78d09f-f986-44a4-99e4-e763165382c2",
   "metadata": {},
   "outputs": [
    {
     "name": "stdout",
     "output_type": "stream",
     "text": [
      "Array:\n",
      " [[1 2 3]\n",
      " [4 5 6]]\n",
      "Strides: (24, 8)\n"
     ]
    }
   ],
   "source": [
    "def array_strides(arr):\n",
    "        return arr.strides\n",
    "\n",
    "arr = np.array([[1, 2, 3], [4, 5, 6]])\n",
    "print(\"Array:\\n\", arr)\n",
    "print(\"Strides:\", array_strides(arr))"
   ]
  },
  {
   "cell_type": "code",
   "execution_count": 39,
   "id": "50fb83b9-ff22-4742-9f82-b947d6d6ab24",
   "metadata": {},
   "outputs": [],
   "source": [
    "#10. Design a function shape_stride_relationship that takes a NumPy array as input and returns the shape and strides of the array."
   ]
  },
  {
   "cell_type": "code",
   "execution_count": 40,
   "id": "a79c28a6-37c8-41d1-8f6e-d5b2a56193b4",
   "metadata": {},
   "outputs": [
    {
     "name": "stdout",
     "output_type": "stream",
     "text": [
      "Array:\n",
      " [[1 2]\n",
      " [3 4]]\n",
      "Shape: (2, 2)\n",
      "Strides: (16, 8)\n"
     ]
    }
   ],
   "source": [
    "def shape_stride_relationship(arr):\n",
    "        return arr.shape, arr.strides\n",
    "\n",
    "arr = np.array([[1, 2], [3, 4]])\n",
    "print(\"Array:\\n\", arr)\n",
    "print(\"Shape:\", shape_stride_relationship(arr)[0])\n",
    "print(\"Strides:\", shape_stride_relationship(arr)[1])"
   ]
  },
  {
   "cell_type": "code",
   "execution_count": 41,
   "id": "5a5f2101-0ea4-4171-a5fe-7f4cd2183926",
   "metadata": {},
   "outputs": [],
   "source": [
    "#11. Create a function create_zeros_array that takes an integer n as input and returns a NumPy array of zeros with n elements."
   ]
  },
  {
   "cell_type": "code",
   "execution_count": 42,
   "id": "041ea117-2134-486b-b818-d187993dcfd6",
   "metadata": {},
   "outputs": [
    {
     "name": "stdout",
     "output_type": "stream",
     "text": [
      "Zeros array: [0. 0. 0. 0. 0.]\n"
     ]
    }
   ],
   "source": [
    "def create_zeros_array(n):\n",
    "        return np.zeros(n)\n",
    "\n",
    "print(\"Zeros array:\", create_zeros_array(5))\n"
   ]
  },
  {
   "cell_type": "code",
   "execution_count": 43,
   "id": "db11d322-f4fc-4c91-8ce5-65297cae4ee8",
   "metadata": {},
   "outputs": [],
   "source": [
    "#12. Write a function create_ones_matrix that takes integers rows and cols as inputs and generates a 2D array filled with ones of size rows x cols."
   ]
  },
  {
   "cell_type": "code",
   "execution_count": 44,
   "id": "81bfadb5-2392-491a-9ec1-5fbdadc46216",
   "metadata": {},
   "outputs": [
    {
     "name": "stdout",
     "output_type": "stream",
     "text": [
      "Ones matrix:\n",
      " [[1. 1. 1. 1.]\n",
      " [1. 1. 1. 1.]\n",
      " [1. 1. 1. 1.]]\n"
     ]
    }
   ],
   "source": [
    "def create_ones_matrix(rows, cols):\n",
    "        return np.ones((rows, cols))\n",
    "\n",
    "print(\"Ones matrix:\\n\", create_ones_matrix(3, 4))\n",
    "\n"
   ]
  },
  {
   "cell_type": "code",
   "execution_count": 45,
   "id": "c91250a0-37e1-4538-adf5-a52e7ff1d84a",
   "metadata": {},
   "outputs": [],
   "source": [
    "#13. Write a function generate_range_array that creates a NumPy array with a range from start to stop with a step size."
   ]
  },
  {
   "cell_type": "code",
   "execution_count": 46,
   "id": "034651d4-2ced-4fc6-a87a-fdc63ccf153f",
   "metadata": {},
   "outputs": [
    {
     "name": "stdout",
     "output_type": "stream",
     "text": [
      "Range array: [1 3 5 7 9]\n"
     ]
    }
   ],
   "source": [
    "def generate_range_array(start, stop, step):\n",
    "        return np.arange(start, stop, step)\n",
    "\n",
    "print(\"Range array:\", generate_range_array(1, 10, 2))\n",
    "\n"
   ]
  },
  {
   "cell_type": "code",
   "execution_count": 47,
   "id": "808fa06f-e2d4-4022-9773-cdcc38f5978f",
   "metadata": {},
   "outputs": [],
   "source": [
    "#14. Design a function generate_linear_space that generates num equally spaced values between start and stop."
   ]
  },
  {
   "cell_type": "code",
   "execution_count": 48,
   "id": "db5a1351-af30-47bd-9465-eaec6b15d91f",
   "metadata": {},
   "outputs": [
    {
     "name": "stdout",
     "output_type": "stream",
     "text": [
      "Linear space: [0.   0.25 0.5  0.75 1.  ]\n"
     ]
    }
   ],
   "source": [
    "def generate_linear_space(start, stop, num):\n",
    "        return np.linspace(start, stop, num)\n",
    "\n",
    "print(\"Linear space:\", generate_linear_space(0, 1, 5))\n",
    "\n"
   ]
  },
  {
   "cell_type": "code",
   "execution_count": 50,
   "id": "661b95a8-98b7-4306-a3be-a83a01d40598",
   "metadata": {},
   "outputs": [
    {
     "name": "stdout",
     "output_type": "stream",
     "text": [
      "Identity matrix:\n",
      " [[1. 0. 0.]\n",
      " [0. 1. 0.]\n",
      " [0. 0. 1.]]\n"
     ]
    }
   ],
   "source": [
    "#15. Create a function create_identity_matrix that generates a square identity matrix of size n x n.python Copy code\n",
    "\n",
    "\n",
    "def create_identity_matrix(n):\n",
    "        return np.eye(n)\n",
    "\n",
    "\n",
    "print(\"Identity matrix:\\n\", create_identity_matrix(3))\n"
   ]
  },
  {
   "cell_type": "code",
   "execution_count": 51,
   "id": "cfbbae29-f86c-414b-a841-70b3af2e360b",
   "metadata": {},
   "outputs": [],
   "source": [
    "#16. Write a function to convert a Python list into a NumPy array."
   ]
  },
  {
   "cell_type": "code",
   "execution_count": 52,
   "id": "213bcaa7-9ba8-4356-a5e8-47e43c79e6d3",
   "metadata": {},
   "outputs": [
    {
     "name": "stdout",
     "output_type": "stream",
     "text": [
      "Converted array: [1 2 3 4]\n"
     ]
    }
   ],
   "source": [
    "def list_to_array(py_list):\n",
    "        return np.array(py_list)\n",
    "\n",
    "py_list = [1, 2, 3, 4]\n",
    "\n",
    "print(\"Converted array:\", list_to_array(py_list))\n",
    "\n"
   ]
  },
  {
   "cell_type": "code",
   "execution_count": 53,
   "id": "1bcb8f78-5b27-4ee1-9fb8-4778a5e1af92",
   "metadata": {},
   "outputs": [],
   "source": [
    "#17. Demonstrate the use of numpy.view to create a new array object with the same data."
   ]
  },
  {
   "cell_type": "code",
   "execution_count": 54,
   "id": "10e946e9-43f8-4684-a545-071f10e1a478",
   "metadata": {},
   "outputs": [
    {
     "name": "stdout",
     "output_type": "stream",
     "text": [
      "Original array: [1.5 2.6 3.7]\n",
      "View array: [1.5 2.6 3.7]\n"
     ]
    }
   ],
   "source": [
    "def main_numpy_view():\n",
    "    import numpy as np\n",
    "    arr = np.array([1, 2, 3, 4])\n",
    "    view_arr = arr.view()\n",
    "    print(\"Original array:\", arr)\n",
    "    print(\"View array:\", view_arr)\n",
    "arr = np.array([1.5, 2.6, 3.7])\n",
    "view_arr = arr.view()\n",
    "print(\"Original array:\", arr)\n",
    "print(\"View array:\", view_arr)\n"
   ]
  },
  {
   "cell_type": "code",
   "execution_count": 55,
   "id": "7bd5f4f5-b57e-4f72-b4bd-21aaf8ec5772",
   "metadata": {},
   "outputs": [],
   "source": [
    "#18. Write a function that takes two NumPy arrays and concatenates them along a specified axis."
   ]
  },
  {
   "cell_type": "code",
   "execution_count": 57,
   "id": "3a1b70bd-05bd-44dc-8c75-349b03ce1818",
   "metadata": {},
   "outputs": [
    {
     "name": "stdout",
     "output_type": "stream",
     "text": [
      "Concatenated array: [1 2 3 4 5 6]\n"
     ]
    }
   ],
   "source": [
    "def concatenate_arrays(arr1, arr2, axis=0):\n",
    "        return np.concatenate((arr1, arr2), axis=axis)\n",
    "\n",
    "arr1 = np.array([1, 2, 3])\n",
    "arr2 = np.array([4, 5, 6])\n",
    "print(\"Concatenated array:\", concatenate_arrays(arr1, arr2))\n"
   ]
  },
  {
   "cell_type": "code",
   "execution_count": 58,
   "id": "e5b29363-cfa6-42c0-ac1b-7fbf06e23785",
   "metadata": {},
   "outputs": [],
   "source": [
    "#19. Concatenate two NumPy arrays with different shapes horizontally."
   ]
  },
  {
   "cell_type": "code",
   "execution_count": 59,
   "id": "5612734c-239a-40a6-877b-c4101292e032",
   "metadata": {},
   "outputs": [
    {
     "name": "stdout",
     "output_type": "stream",
     "text": [
      "[[1 2 5]\n",
      " [3 4 6]]\n"
     ]
    }
   ],
   "source": [
    "arr1 = np.array([[1, 2], [3, 4]])\n",
    "arr2 = np.array([[5, 6]])\n",
    "result = np.concatenate((arr1, arr2.T), axis=1)\n",
    "print(result)\n"
   ]
  },
  {
   "cell_type": "code",
   "execution_count": 60,
   "id": "c73e19ae-0db1-4167-99a4-8fb2117f9d64",
   "metadata": {},
   "outputs": [],
   "source": [
    "#20. Write a function that vertically stacks multiple NumPy arrays given as a list."
   ]
  },
  {
   "cell_type": "code",
   "execution_count": 61,
   "id": "5ae48263-9258-430f-a334-f6b6bc0a2f81",
   "metadata": {},
   "outputs": [
    {
     "name": "stdout",
     "output_type": "stream",
     "text": [
      "Vertically stacked arrays:\n",
      " [[1 2 3]\n",
      " [4 5 6]]\n"
     ]
    }
   ],
   "source": [
    "def main_vertical_stack_arrays():\n",
    "    import numpy as np\n",
    "    def vertical_stack_arrays(array_list):\n",
    "        return np.vstack(array_list)\n",
    "\n",
    "    arr1 = np.array([1, 2, 3])\n",
    "    arr2 = np.array([4, 5, 6])\n",
    "    print(\"Vertically stacked arrays:\\n\", vertical_stack_arrays([arr1, arr2]))\n",
    "main_vertical_stack_arrays()"
   ]
  },
  {
   "cell_type": "code",
   "execution_count": 62,
   "id": "2a6cbb51-8fce-466d-a8ef-d1821545869c",
   "metadata": {},
   "outputs": [],
   "source": [
    "#21. Write a function to create an array of integers within a range (inclusive) with a step size."
   ]
  },
  {
   "cell_type": "code",
   "execution_count": 63,
   "id": "52ef5128-c519-46f8-990d-ee9426e95494",
   "metadata": {},
   "outputs": [
    {
     "name": "stdout",
     "output_type": "stream",
     "text": [
      "Integer range array: [1 3 5 7 9]\n"
     ]
    }
   ],
   "source": [
    "def main_create_integer_range_array():\n",
    "    import numpy as np\n",
    "    def create_integer_range_array(start, stop, step):\n",
    "        return np.arange(start, stop + 1, step)\n",
    "\n",
    "    print(\"Integer range array:\", create_integer_range_array(1, 10, 2))\n",
    "main_create_integer_range_array()"
   ]
  },
  {
   "cell_type": "code",
   "execution_count": 64,
   "id": "fd3a4b99-3b98-40d4-aa6b-4e9b6170c0b0",
   "metadata": {},
   "outputs": [],
   "source": [
    "#22. Generate an array of 10 equally spaced values between 0 and 1"
   ]
  },
  {
   "cell_type": "code",
   "execution_count": 65,
   "id": "ebae956f-ea48-41ee-a2d8-759a9f126b39",
   "metadata": {},
   "outputs": [
    {
     "name": "stdout",
     "output_type": "stream",
     "text": [
      "Equally spaced values: [0.         0.11111111 0.22222222 0.33333333 0.44444444 0.55555556\n",
      " 0.66666667 0.77777778 0.88888889 1.        ]\n"
     ]
    }
   ],
   "source": [
    "def main_generate_equally_spaced_values():\n",
    "    import numpy as np\n",
    "    def generate_equally_spaced_values():\n",
    "        return np.linspace(0, 1, 10)\n",
    "\n",
    "    print(\"Equally spaced values:\", generate_equally_spaced_values())\n",
    "main_generate_equally_spaced_values()\n"
   ]
  },
  {
   "cell_type": "code",
   "execution_count": 66,
   "id": "f5efae47-d284-4ee4-9c76-064d02e9f997",
   "metadata": {},
   "outputs": [],
   "source": [
    "#23. Create an array of 5 logarithmically spaced values between 1 and 1000."
   ]
  },
  {
   "cell_type": "code",
   "execution_count": 67,
   "id": "2134c5ba-c96f-4bbb-b957-5a53a842f851",
   "metadata": {},
   "outputs": [
    {
     "name": "stdout",
     "output_type": "stream",
     "text": [
      "Logarithmically spaced values: [   1.            5.62341325   31.6227766   177.827941   1000.        ]\n"
     ]
    }
   ],
   "source": [
    "def main_generate_log_spaced_values():\n",
    "    import numpy as np\n",
    "    def generate_log_spaced_values():\n",
    "        return np.logspace(0, 3, 5, base=10)\n",
    "\n",
    "    print(\"Logarithmically spaced values:\", generate_log_spaced_values())\n",
    "main_generate_log_spaced_values()\n"
   ]
  },
  {
   "cell_type": "code",
   "execution_count": 68,
   "id": "376681aa-0f5c-42b3-8b20-c0ef339b2d1f",
   "metadata": {},
   "outputs": [],
   "source": [
    "#24. Create a Pandas DataFrame with random integers."
   ]
  },
  {
   "cell_type": "code",
   "execution_count": 69,
   "id": "5dd987b9-be75-4cc1-bf88-6e69d0c886d9",
   "metadata": {},
   "outputs": [
    {
     "name": "stdout",
     "output_type": "stream",
     "text": [
      "Random DataFrame:\n",
      "    Column1  Column2  Column3\n",
      "0       87       85       88\n",
      "1       58       91       17\n",
      "2       99       56       55\n",
      "3       20       88       62\n",
      "4       49       96       11\n"
     ]
    }
   ],
   "source": [
    "def main_create_pandas_dataframe():\n",
    "    import numpy as np\n",
    "    import pandas as pd\n",
    "    def create_dataframe():\n",
    "        data = np.random.randint(1, 101, (5, 3))\n",
    "        return pd.DataFrame(data, columns=[\"Column1\", \"Column2\", \"Column3\"])\n",
    "\n",
    "    df = create_dataframe()\n",
    "    print(\"Random DataFrame:\\n\", df)\n",
    "main_create_pandas_dataframe()\n"
   ]
  },
  {
   "cell_type": "code",
   "execution_count": 70,
   "id": "3a9e1284-02ac-4b8a-8340-bf7edb1365e7",
   "metadata": {},
   "outputs": [],
   "source": [
    "#25. Replace all negative values in a specific column of a Pandas DataFrame with zeros."
   ]
  },
  {
   "cell_type": "code",
   "execution_count": 71,
   "id": "3ecfbdf8-5584-4a5c-9fbc-f6eb21101849",
   "metadata": {},
   "outputs": [
    {
     "name": "stdout",
     "output_type": "stream",
     "text": [
      "Original DataFrame:\n",
      "    A  B  C\n",
      "0  1 -4  7\n",
      "1 -2  5 -8\n",
      "2  3 -6  9\n",
      "Updated DataFrame:\n",
      "    A  B  C\n",
      "0  1  0  7\n",
      "1 -2  5 -8\n",
      "2  3  0  9\n"
     ]
    }
   ],
   "source": [
    "def main_replace_negative_values():\n",
    "    import pandas as pd\n",
    "    import numpy as np\n",
    "    def replace_negative_values(df, column):\n",
    "        df[column] = np.where(df[column] < 0, 0, df[column])\n",
    "        return df\n",
    "\n",
    "    # Example DataFrame\n",
    "    data = {\n",
    "        \"A\": [1, -2, 3],\n",
    "        \"B\": [-4, 5, -6],\n",
    "        \"C\": [7, -8, 9]\n",
    "    }\n",
    "    df = pd.DataFrame(data)\n",
    "    print(\"Original DataFrame:\\n\", df)\n",
    "\n",
    "    # Replace negative values in column 'B'\n",
    "    df = replace_negative_values(df, \"B\")\n",
    "    print(\"Updated DataFrame:\\n\", df)\n",
    "main_replace_negative_values()\n"
   ]
  },
  {
   "cell_type": "code",
   "execution_count": 72,
   "id": "6abdca9f-3244-4abe-b1a9-88611cc1f4a4",
   "metadata": {},
   "outputs": [],
   "source": [
    "#26. Access the 3rd element from the given NumPy array"
   ]
  },
  {
   "cell_type": "code",
   "execution_count": 75,
   "id": "6404181a-4d38-4153-8efc-9db41927ce2f",
   "metadata": {},
   "outputs": [
    {
     "name": "stdout",
     "output_type": "stream",
     "text": [
      "30\n"
     ]
    }
   ],
   "source": [
    "arr = np.array([10, 20, 30, 40, 50])\n",
    "print(arr[2])"
   ]
  },
  {
   "cell_type": "code",
   "execution_count": 79,
   "id": "df0af7bc-00ed-4f7b-bfba-72b24952a9a4",
   "metadata": {},
   "outputs": [
    {
     "name": "stdout",
     "output_type": "stream",
     "text": [
      "6\n"
     ]
    }
   ],
   "source": [
    "#27. Retrieve the element at index (1, 2) from the 2D NumPy array.\n",
    "arr_2d = np.array([[1, 2, 3],\n",
    "                   [4, 5, 6],\n",
    "                   [7, 8, 9]])\n",
    "print(arr_2d[1][2])"
   ]
  },
  {
   "cell_type": "code",
   "execution_count": 82,
   "id": "0dea4836-e8a3-448f-843d-64499e8ca988",
   "metadata": {},
   "outputs": [
    {
     "name": "stdout",
     "output_type": "stream",
     "text": [
      "8\n",
      "10\n",
      "7\n"
     ]
    }
   ],
   "source": [
    "#28. Using boolean indexing, extract elements greater than 5 from the given NumPy array.\n",
    "arr = np.array([3, 8, 2, 10, 5, 7]) \n",
    "for i in arr:\n",
    "    if i>5:\n",
    "        print(i)"
   ]
  },
  {
   "cell_type": "code",
   "execution_count": 83,
   "id": "6a6ac4d0-f563-4659-a173-0c37c0de9523",
   "metadata": {},
   "outputs": [
    {
     "name": "stdout",
     "output_type": "stream",
     "text": [
      "[3 4 5 6]\n"
     ]
    }
   ],
   "source": [
    "#29. Perform basic slicing to extract elements from index 2 to 5 (inclusive) from the given NumPy array.\n",
    "arr = np.array([1, 2, 3, 4, 5, 6, 7, 8, 9])\n",
    "x = arr[2:6:1]\n",
    "print(x)"
   ]
  },
  {
   "cell_type": "code",
   "execution_count": 84,
   "id": "916c0181-1a25-407d-9508-4fecb7fac3f7",
   "metadata": {},
   "outputs": [
    {
     "name": "stdout",
     "output_type": "stream",
     "text": [
      "[[2 3]\n",
      " [5 6]]\n"
     ]
    }
   ],
   "source": [
    "#30. Slice the 2D NumPy array to extract the sub-array `[[2, 3], [5, 6]]` from the given array\n",
    "arr_2d = np.array([[1, 2, 3],\n",
    "                   [4, 5, 6],\n",
    "                   [7, 8, 9]])\n",
    "sub_arr = arr_2d[0:2, 1:3]\n",
    "\n",
    "print(sub_arr)\n"
   ]
  },
  {
   "cell_type": "code",
   "execution_count": 87,
   "id": "b3aa04c5-db34-4cbb-8bc2-3f6fa607999c",
   "metadata": {},
   "outputs": [
    {
     "name": "stdout",
     "output_type": "stream",
     "text": [
      "[2 6 7]\n"
     ]
    }
   ],
   "source": [
    "#31.Write a NumPy function to extract elements in specific order from a given 2D array based on indices provided in another array.\n",
    "arr_2d = np.array([[1, 2, 3],\n",
    "                   [4, 5, 6],\n",
    "                   [7, 8, 9]])\n",
    "\n",
    "indices = np.array([[0, 1],   # row 0, column 1\n",
    "                    [1, 2],   # row 1, column 2\n",
    "                    [2, 0]])  # row 2, column 0\n",
    "\n",
    "result = arr_2d[indices[:, 0], indices[:, 1]]\n",
    "print(result)"
   ]
  },
  {
   "cell_type": "code",
   "execution_count": 89,
   "id": "abfc4227-bb75-491a-8211-3190a311010d",
   "metadata": {},
   "outputs": [
    {
     "name": "stdout",
     "output_type": "stream",
     "text": [
      "[5 8 7]\n"
     ]
    }
   ],
   "source": [
    "#32. Create a NumPy function that filters elements greater than a threshold from a given 1D array using boolean indexing.\n",
    "import numpy as np\n",
    "\n",
    "def filter_above_threshold(arr, threshold):\n",
    "    \n",
    "    return arr[arr > threshold]\n",
    "\n",
    "# Example usage\n",
    "arr = np.array([1, 5, 3, 8, 2, 7])\n",
    "threshold = 4\n",
    "filtered_arr = filter_above_threshold(arr, threshold)\n",
    "print(filtered_arr)  "
   ]
  },
  {
   "cell_type": "code",
   "execution_count": 91,
   "id": "5b648304-5365-481f-951f-3a207f35ecb9",
   "metadata": {},
   "outputs": [
    {
     "name": "stdout",
     "output_type": "stream",
     "text": [
      "[3 6]\n"
     ]
    }
   ],
   "source": [
    "#33. Develop a NumPy function that extracts specific elements from a 3D array using indices provided in three separate arrays for each dimension.\n",
    "import numpy as np\n",
    "\n",
    "def extract_3d_elements(arr, x_indices, y_indices, z_indices):\n",
    "    \n",
    "    return arr[x_indices, y_indices, z_indices]\n",
    "\n",
    "# Example usage\n",
    "arr_3d = np.array([[[1, 2], [3, 4]], [[5, 6], [7, 8]]])\n",
    "x_indices = np.array([0, 1])\n",
    "y_indices = np.array([1, 0])\n",
    "z_indices = np.array([0, 1])\n",
    "result = extract_3d_elements(arr_3d, x_indices, y_indices, z_indices)\n",
    "print(result)  "
   ]
  },
  {
   "cell_type": "code",
   "execution_count": 93,
   "id": "3ace9b9a-2148-4244-a31b-dafd8f0019e2",
   "metadata": {},
   "outputs": [
    {
     "name": "stdout",
     "output_type": "stream",
     "text": [
      "[5 7]\n"
     ]
    }
   ],
   "source": [
    "#34. Write a NumPy function that returns elements from an array where both two conditions are satisfied using boolean indexing.\n",
    "import numpy as np\n",
    "\n",
    "def filter_multiple_conditions(arr, cond1, cond2):\n",
    "    \n",
    "    return arr[(cond1) & (cond2)]\n",
    "\n",
    "# Example usage\n",
    "arr = np.array([1, 5, 3, 8, 2, 7])\n",
    "result = filter_multiple_conditions(arr, arr > 3, arr % 2 == 1)\n",
    "print(result)  "
   ]
  },
  {
   "cell_type": "code",
   "execution_count": 96,
   "id": "0fc1195d-2c3b-44d9-87af-0ceac865a394",
   "metadata": {},
   "outputs": [
    {
     "name": "stdout",
     "output_type": "stream",
     "text": [
      "[2 6 7]\n"
     ]
    }
   ],
   "source": [
    "#35. Create a NumPy function that extracts elements from a 2D array using row and column indices provided in separate arrays.\n",
    "import numpy as np\n",
    "\n",
    "def extract_by_row_col_indices(arr, row_indices, col_indices):\n",
    "    \n",
    "    return arr[row_indices, col_indices]\n",
    "\n",
    "# Example usage\n",
    "arr_2d = np.array([[1, 2, 3],\n",
    "                   [4, 5, 6],\n",
    "                   [7, 8, 9]])\n",
    "row_indices = np.array([0, 1, 2])\n",
    "col_indices = np.array([1, 2, 0])\n",
    "result = extract_by_row_col_indices(arr_2d, row_indices, col_indices)\n",
    "print(result)  "
   ]
  },
  {
   "cell_type": "code",
   "execution_count": 97,
   "id": "7e2db072-98ba-4f80-84b2-e030233177f9",
   "metadata": {},
   "outputs": [
    {
     "name": "stdout",
     "output_type": "stream",
     "text": [
      "[[ 6  7  8]\n",
      " [ 9 10 11]\n",
      " [12 13 14]]\n"
     ]
    }
   ],
   "source": [
    "#36. Given an array arr of shape (3, 3), add a scalar value of 5 to each element using NumPy broadcasting.\n",
    "import numpy as np\n",
    "\n",
    "def add_scalar_broadcast(arr, scalar):\n",
    "   \n",
    "    return arr + scalar\n",
    "\n",
    "# Example usage\n",
    "arr = np.array([[1, 2, 3],\n",
    "                [4, 5, 6],\n",
    "                [7, 8, 9]])\n",
    "result = add_scalar_broadcast(arr, 5)\n",
    "print(result)"
   ]
  },
  {
   "cell_type": "code",
   "execution_count": 106,
   "id": "aa54eae5-be5a-4a67-b8a3-101b0bea368e",
   "metadata": {},
   "outputs": [
    {
     "name": "stdout",
     "output_type": "stream",
     "text": [
      "[[ 2  4  6  8]\n",
      " [15 18 21 24]\n",
      " [36 40 44 48]]\n"
     ]
    }
   ],
   "source": [
    "import numpy as np\n",
    "\n",
    "def multiply_rows_broadcast(arr1, arr2):\n",
    "    \n",
    "    # Reshape arr1 to allow proper broadcasting\n",
    "    return arr1.reshape(-1, 1) * arr2\n",
    "\n",
    "# Example usage\n",
    "arr1 = np.array([[2, 3, 4]])\n",
    "arr2 = np.array([[1, 2, 3, 4],\n",
    "                 [5, 6, 7, 8],\n",
    "                 [9, 10, 11, 12]])\n",
    "result = multiply_rows_broadcast(arr1, arr2)\n",
    "print(result)"
   ]
  },
  {
   "cell_type": "code",
   "execution_count": 101,
   "id": "74a63bb9-1557-4eb3-b165-f4972caee206",
   "metadata": {},
   "outputs": [
    {
     "name": "stdout",
     "output_type": "stream",
     "text": [
      "[[ 2  6 10 14]\n",
      " [ 3  7 11 15]\n",
      " [ 4  8 12 16]]\n"
     ]
    }
   ],
   "source": [
    "#38. Given a 1D array arr1 of shape (1, 4) and a 2D array arr2 of shape (4, 3), add arr1 to each row of arr2 using NumPy broadcasting.\n",
    "import numpy as np\n",
    "\n",
    "def add_to_rows_broadcast(arr1, arr2):\n",
    "    return arr1 + arr2.T\n",
    "\n",
    "# Example usage\n",
    "arr1 = np.array([[1, 2, 3, 4]])\n",
    "arr2 = np.array([[1, 2, 3],\n",
    "                 [4, 5, 6],\n",
    "                 [7, 8, 9],\n",
    "                 [10, 11, 12]])\n",
    "result = add_to_rows_broadcast(arr1, arr2)\n",
    "print(result)"
   ]
  },
  {
   "cell_type": "code",
   "execution_count": 102,
   "id": "4de2e438-006f-47d0-8a8a-9798d5bcd3cb",
   "metadata": {},
   "outputs": [
    {
     "name": "stdout",
     "output_type": "stream",
     "text": [
      "[[5 6 7]\n",
      " [6 7 8]\n",
      " [7 8 9]]\n"
     ]
    }
   ],
   "source": [
    "#39. Consider two arrays arr1 of shape (3, 1) and arr2 of shape (1, 3). Add these arrays using NumPy broadcasting.\n",
    "import numpy as np\n",
    "\n",
    "def add_arrays_broadcast(arr1, arr2):\n",
    "    return arr1 + arr2\n",
    "\n",
    "# Example usage\n",
    "arr1 = np.array([[1], [2], [3]])\n",
    "arr2 = np.array([4, 5, 6])\n",
    "result = add_arrays_broadcast(arr1, arr2)\n",
    "print(result)"
   ]
  },
  {
   "cell_type": "code",
   "execution_count": 104,
   "id": "0eafdb65-ec43-4313-8285-e2d4c3790506",
   "metadata": {},
   "outputs": [
    {
     "name": "stdout",
     "output_type": "stream",
     "text": [
      "[[ 1  4]\n",
      " [12 20]]\n"
     ]
    }
   ],
   "source": [
    "#40. Given arrays arr1 of shape (2, 3) and arr2 of shape (2, 2), perform multiplication using NumPy broadcasting. Handle the shape incompatibility\n",
    "import numpy as np\n",
    "\n",
    "def multiply_arrays_broadcast(arr1, arr2):\n",
    "    \n",
    "    try:\n",
    "        return arr1 * arr2\n",
    "    except ValueError:\n",
    "        # Pad the smaller array or handle incompatibility\n",
    "        # In this case, we'll use the minimum common shape\n",
    "        min_rows = min(arr1.shape[0], arr2.shape[0])\n",
    "        min_cols = min(arr1.shape[1], arr2.shape[1])\n",
    "        return arr1[:min_rows, :min_cols] * arr2[:min_rows, :min_cols]\n",
    "\n",
    "# Example usage\n",
    "arr1 = np.array([[1, 2, 3],\n",
    "                 [4, 5, 6]])\n",
    "arr2 = np.array([[1, 2],\n",
    "                 [3, 4]])\n",
    "result = multiply_arrays_broadcast(arr1, arr2)\n",
    "print(result)"
   ]
  },
  {
   "cell_type": "code",
   "execution_count": 108,
   "id": "23d1aee8-82d9-470b-8df9-b409b926c400",
   "metadata": {},
   "outputs": [
    {
     "name": "stdout",
     "output_type": "stream",
     "text": [
      "[2.5 3.5 4.5]\n"
     ]
    }
   ],
   "source": [
    "#41. Calculate column wise mean for the given array:\n",
    "arr = np.array([[1, 2, 3], [4, 5, 6]])\n",
    "arr_mean = np.mean(arr, axis=0)\n",
    "print(arr_mean)"
   ]
  },
  {
   "cell_type": "code",
   "execution_count": 110,
   "id": "11b7b6a1-f30e-4e5e-9d44-278b26363359",
   "metadata": {},
   "outputs": [
    {
     "name": "stdout",
     "output_type": "stream",
     "text": [
      "[3 6]\n"
     ]
    }
   ],
   "source": [
    "#42. Find maximum value in each row of the given array:\n",
    "arr = np.array([[1, 2, 3], [4, 5, 6]])\n",
    "arr_max = np.max(arr, axis=1)\n",
    "print(arr_max)"
   ]
  },
  {
   "cell_type": "code",
   "execution_count": 111,
   "id": "60ce0885-102f-480e-8ada-60fc13e853fc",
   "metadata": {},
   "outputs": [
    {
     "name": "stdout",
     "output_type": "stream",
     "text": [
      "[1 1 1]\n"
     ]
    }
   ],
   "source": [
    "#43. For the given array, find indices of maximum value in each column.\n",
    "arr_max_indices = np.argmax(arr, axis=0)\n",
    "print(arr_max_indices)"
   ]
  },
  {
   "cell_type": "code",
   "execution_count": 113,
   "id": "b9fc8384-c085-4f4d-bdf8-bc8e4aa2c9c2",
   "metadata": {},
   "outputs": [
    {
     "name": "stdout",
     "output_type": "stream",
     "text": [
      "[[ 1  3  6]\n",
      " [ 4  9 15]]\n"
     ]
    }
   ],
   "source": [
    "#44. For the given array, apply custom function to calculate moving sum along rows.\n",
    "arr = np.array([[1, 2, 3], [4, 5, 6]])\n",
    "def moving_sum(row):\n",
    "    return np.cumsum(row)\n",
    "\n",
    "arr_moving_sum = np.apply_along_axis(moving_sum, axis=1, arr=arr)\n",
    "print(arr_moving_sum)"
   ]
  },
  {
   "cell_type": "code",
   "execution_count": 114,
   "id": "2d056212-b697-44bd-bbb0-46ebd7019570",
   "metadata": {},
   "outputs": [
    {
     "name": "stdout",
     "output_type": "stream",
     "text": [
      "[False False False]\n"
     ]
    }
   ],
   "source": [
    "#45. In the given array, check if all elements in each column are even.\n",
    "arr = np.array([[2, 4, 6], [3, 5, 7]])\n",
    "arr_even = np.all(arr % 2 == 0, axis=0)\n",
    "print(arr_even)"
   ]
  },
  {
   "cell_type": "code",
   "execution_count": 115,
   "id": "070048cf-71f2-47e9-8c02-082204aa3786",
   "metadata": {},
   "outputs": [
    {
     "name": "stdout",
     "output_type": "stream",
     "text": [
      "[[1 2 3]\n",
      " [4 5 6]]\n"
     ]
    }
   ],
   "source": [
    "#46. Given a NumPy array arr, reshape it into a matrix of dimensions m rows and n columns. Return the reshaped matrix.\n",
    "original_array = np.array([1, 2, 3, 4, 5, 6])\n",
    "reshaped_matrix = original_array.reshape(2, 3)\n",
    "print(reshaped_matrix)"
   ]
  },
  {
   "cell_type": "code",
   "execution_count": 116,
   "id": "13969fd8-e1b5-4dd1-ba6e-653e6fa32019",
   "metadata": {},
   "outputs": [
    {
     "name": "stdout",
     "output_type": "stream",
     "text": [
      "[ 1  2  3  4  5  6  7  8  9 10 11 12]\n"
     ]
    }
   ],
   "source": [
    "#47. Create a function that takes a matrix as input and returns the flattened array.\n",
    "def flatten_matrix(input_matrix):\n",
    "    return input_matrix.flatten()\n",
    "\n",
    "input_matrix = np.array([[[1, 2, 3], [4, 5, 6]], [[7, 8, 9], [10, 11, 12]]])\n",
    "flattened_array = flatten_matrix(input_matrix)\n",
    "print(flattened_array)"
   ]
  },
  {
   "cell_type": "code",
   "execution_count": 117,
   "id": "cc78be03-44b2-4020-b495-f62ad53d1c0e",
   "metadata": {},
   "outputs": [
    {
     "name": "stdout",
     "output_type": "stream",
     "text": [
      "[[1 2]\n",
      " [3 4]\n",
      " [5 6]\n",
      " [7 8]]\n",
      "[[1 2 5 6]\n",
      " [3 4 7 8]]\n"
     ]
    }
   ],
   "source": [
    "#48. Write a function that concatenates two given arrays along a specified axis.\n",
    "\n",
    "def concatenate_arrays(array1, array2, axis):\n",
    "    return np.concatenate((array1, array2), axis=axis)\n",
    "\n",
    "array1 = np.array([[1, 2], [3, 4]])\n",
    "array2 = np.array([[5, 6], [7, 8]])\n",
    "\n",
    "# Concatenate along axis 0 (vertically)\n",
    "result_vertical = concatenate_arrays(array1, array2, axis=0)\n",
    "print(result_vertical)\n",
    "\n",
    "# Concatenate along axis 1 (horizontally)\n",
    "result_horizontal = concatenate_arrays(array1, array2, axis=1)\n",
    "print(result_horizontal)"
   ]
  },
  {
   "cell_type": "code",
   "execution_count": 118,
   "id": "65e221a7-8110-4d38-8f41-f98ddfcfae27",
   "metadata": {},
   "outputs": [
    {
     "name": "stdout",
     "output_type": "stream",
     "text": [
      "[array([[1, 2, 3]]), array([[4, 5, 6]]), array([[7, 8, 9]])]\n",
      "[array([[1],\n",
      "       [4],\n",
      "       [7]]), array([[2],\n",
      "       [5],\n",
      "       [8]]), array([[3],\n",
      "       [6],\n",
      "       [9]])]\n"
     ]
    }
   ],
   "source": [
    "#49. Create a function that splits an array into multiple sub-arrays along a specified axis.\n",
    "\n",
    "def split_array(original_array, axis):\n",
    "    return np.split(original_array, indices_or_sections=original_array.shape[axis], axis=axis)\n",
    "\n",
    "original_array = np.array([[1, 2, 3], [4, 5, 6], [7, 8, 9]])\n",
    "\n",
    "# Split along axis 0 (rows)\n",
    "sub_arrays_rows = split_array(original_array, axis=0)\n",
    "print(sub_arrays_rows)\n",
    "\n",
    "# Split along axis 1 (columns)\n",
    "sub_arrays_cols = split_array(original_array, axis=1)\n",
    "print(sub_arrays_cols)"
   ]
  },
  {
   "cell_type": "code",
   "execution_count": 119,
   "id": "942dfd65-c14c-4fdf-967a-1af0907a19b7",
   "metadata": {},
   "outputs": [
    {
     "name": "stdout",
     "output_type": "stream",
     "text": [
      "[ 1 10  4 11  5]\n"
     ]
    }
   ],
   "source": [
    "#50.Write a function that inserts and then deletes elements from a given array at specified indices.\n",
    "\n",
    "def insert_and_delete(original_array, indices_to_insert, values_to_insert, indices_to_delete):\n",
    "    # Insert elements\n",
    "    new_array = np.insert(original_array, indices_to_insert, values_to_insert, axis=0)\n",
    "    \n",
    "    # Delete elements\n",
    "    new_array = np.delete(new_array, indices_to_delete, axis=0)\n",
    "    \n",
    "    return new_array\n",
    "\n",
    "original_array = np.array([1, 2, 3, 4, 5])\n",
    "indices_to_insert = [2, 4]\n",
    "values_to_insert = [10, 11]\n",
    "indices_to_delete = [1, 3]\n",
    "\n",
    "modified_array = insert_and_delete(original_array, indices_to_insert, values_to_insert, indices_to_delete)\n",
    "print(modified_array)"
   ]
  },
  {
   "cell_type": "code",
   "execution_count": 190,
   "id": "b08be397-bb42-4a01-836d-90554c93005f",
   "metadata": {},
   "outputs": [
    {
     "name": "stdout",
     "output_type": "stream",
     "text": [
      "[[11 21 21 21]\n",
      " [14 23 15 13]\n",
      " [17 25 17 23]]\n"
     ]
    }
   ],
   "source": [
    "#51. Create a NumPy array 'arr1' with random integers and another array 'arr2' with integers from 1 to 10. Perform element-wise addition between 'arr1' and 'arr2'.\n",
    "\n",
    "# Create 'arr1' with random integers\n",
    "arr1 = np.random.randint(0, 20, size=(3, 4))\n",
    "\n",
    "# Create 'arr2' with integers from 1 to 12 (to match the shape of 'arr1')\n",
    "arr2 = np.arange(1, 13).reshape(3, 4)\n",
    "\n",
    "# Perform element-wise addition\n",
    "result = arr1 + arr2\n",
    "print(result)"
   ]
  },
  {
   "cell_type": "code",
   "execution_count": 121,
   "id": "a0f02977-cd7c-4fb6-932a-18069d864536",
   "metadata": {},
   "outputs": [
    {
     "name": "stdout",
     "output_type": "stream",
     "text": [
      "[ 9  7  5  3  1 -1 -3 -5 -7 -9]\n"
     ]
    }
   ],
   "source": [
    "#52.Generate a NumPy array 'arr1' with sequential integers from 10 to 1 and another array 'arr2' with integers from 1 to 10. Subtract 'arr2' from 'arr1' element-wise.\n",
    "\n",
    "\n",
    "\n",
    "# Create 'arr1' with sequential integers from 10 to 1\n",
    "arr1 = np.arange(10, 0, -1)\n",
    "\n",
    "# Create 'arr2' with integers from 1 to 10\n",
    "arr2 = np.arange(1, 11)\n",
    "\n",
    "# Perform element-wise subtraction\n",
    "result = arr1 - arr2\n",
    "print(result)"
   ]
  },
  {
   "cell_type": "code",
   "execution_count": 122,
   "id": "284dec90-2ebc-4310-940b-152830702d11",
   "metadata": {},
   "outputs": [
    {
     "name": "stdout",
     "output_type": "stream",
     "text": [
      "[[ 3  6  6 16]\n",
      " [ 8  0 15 24]\n",
      " [ 0  2 24  4]]\n"
     ]
    }
   ],
   "source": [
    "#53. Create a NumPy array 'arr1' with random integers and another array 'arr2' with integers from 1 to 5. Perform element-wise multiplication between 'arr1' and 'arr2'.\n",
    "\n",
    "# Create 'arr1' with random integers\n",
    "arr1 = np.random.randint(0, 10, size=(3, 4))\n",
    "\n",
    "# Create 'arr2' with integers from 1 to 5\n",
    "arr2 = np.arange(1, 6).reshape(1, 5)\n",
    "\n",
    "# Perform element-wise multiplication\n",
    "result = arr1 * arr2[:, :arr1.shape[1]]\n",
    "print(result)"
   ]
  },
  {
   "cell_type": "code",
   "execution_count": 123,
   "id": "69542eba-24ea-4e14-b4dc-ded5b7f24479",
   "metadata": {},
   "outputs": [
    {
     "name": "stdout",
     "output_type": "stream",
     "text": [
      "[2. 2. 2. 2. 2.]\n"
     ]
    }
   ],
   "source": [
    "#54. Generate a NumPy array 'arr1' with even integers from 2 to 10 and another array 'arr2' with integers from 1 to 5. Perform element-wise division of 'arr1' by 'arr2'.\n",
    "\n",
    "# Create 'arr1' with even integers from 2 to 10\n",
    "arr1 = np.arange(2, 11, 2)\n",
    "\n",
    "# Create 'arr2' with integers from 1 to 5\n",
    "arr2 = np.arange(1, 6)\n",
    "\n",
    "# Perform element-wise division\n",
    "result = arr1 / arr2\n",
    "print(result)"
   ]
  },
  {
   "cell_type": "code",
   "execution_count": 124,
   "id": "ce36cd0d-ad7e-4488-a81d-afa7306ef199",
   "metadata": {},
   "outputs": [
    {
     "name": "stdout",
     "output_type": "stream",
     "text": [
      "[ 1 16 27 16  5]\n"
     ]
    }
   ],
   "source": [
    "#55. Create a NumPy array 'arr1' with integers from 1 to 5 and another array 'arr2' with the same numbers reversed. Calculate the exponentiation of 'arr1' raised to the power of 'arr2' element-wise.\n",
    "\n",
    "# Create 'arr1' with integers from 1 to 5\n",
    "arr1 = np.arange(1, 6)\n",
    "\n",
    "# Create 'arr2' with the same numbers reversed\n",
    "arr2 = np.array([5, 4, 3, 2, 1])\n",
    "\n",
    "# Perform element-wise exponentiation\n",
    "result = np.power(arr1, arr2)\n",
    "print(result)"
   ]
  },
  {
   "cell_type": "code",
   "execution_count": 125,
   "id": "7694d984-1232-43ec-aef4-64e1b9b9c5e3",
   "metadata": {},
   "outputs": [
    {
     "name": "stdout",
     "output_type": "stream",
     "text": [
      "[ 1 16 27 16  5]\n"
     ]
    }
   ],
   "source": [
    "#56. Create a NumPy array 'arr1' with integers from 1 to 5 and another array 'arr2' with the same numbers reversed. Calculate the exponentiation of 'arr1' raised to the power of 'arr2' element-wise.\n",
    "\n",
    "# Create 'arr1' with integers from 1 to 5\n",
    "arr1 = np.arange(1, 6)\n",
    "\n",
    "# Create 'arr2' with the same numbers reversed\n",
    "arr2 = np.array([5, 4, 3, 2, 1])\n",
    "\n",
    "# Perform element-wise exponentiation\n",
    "result = np.power(arr1, arr2)\n",
    "print(result)"
   ]
  },
  {
   "cell_type": "code",
   "execution_count": 189,
   "id": "86ec5b8d-c8d2-4ce5-85f0-4907df0895be",
   "metadata": {},
   "outputs": [
    {
     "name": "stdout",
     "output_type": "stream",
     "text": [
      "['GPT']\n"
     ]
    }
   ],
   "source": [
    "#57. Write a function that extracts uppercase characters from a NumPy array of strings.\n",
    "\n",
    "import numpy as np\n",
    "\n",
    "def extract_uppercase(arr):\n",
    "    return np.array([s for s in arr if s.isupper()])\n",
    "\n",
    "# Example usage\n",
    "arr = np.array(['Hello', 'World', 'OpenAI', 'GPT'])\n",
    "uppercase_chars = extract_uppercase(arr)\n",
    "print(uppercase_chars)"
   ]
  },
  {
   "cell_type": "code",
   "execution_count": 129,
   "id": "cf5ace14-109c-4c7d-802f-9dd5399ad850",
   "metadata": {},
   "outputs": [
    {
     "name": "stdout",
     "output_type": "stream",
     "text": [
      "['kiwi' 'banana' 'grape' 'pinekiwi']\n"
     ]
    }
   ],
   "source": [
    "#58. Write a function that replaces occurrences of a substring in a NumPy array of strings with a new string.\n",
    "arr = np.array(['apple', 'banana', 'grape', 'pineapple'])\n",
    "import numpy as np\n",
    "\n",
    "def replace_substring(arr, old_substring, new_substring):\n",
    "    return np.char.replace(arr, old_substring, new_substring)\n",
    "\n",
    "# Example usage\n",
    "arr = np.array(['apple', 'banana', 'grape', 'pineapple'])\n",
    "new_arr = replace_substring(arr, 'apple', 'kiwi')\n",
    "print(new_arr)"
   ]
  },
  {
   "cell_type": "code",
   "execution_count": 130,
   "id": "3800ae58-259c-46e1-8c01-105cef487ee4",
   "metadata": {},
   "outputs": [
    {
     "name": "stdout",
     "output_type": "stream",
     "text": [
      "['Hello Open' 'World AI']\n"
     ]
    },
    {
     "name": "stderr",
     "output_type": "stream",
     "text": [
      "C:\\Users\\HP\\AppData\\Local\\Temp\\ipykernel_3848\\136536336.py:5: DeprecationWarning: numpy.core is deprecated and has been renamed to numpy._core. The numpy._core namespace contains private NumPy internals and its use is discouraged, as NumPy internals can change without warning in any release. In practice, most real-world usage of numpy.core is to access functionality in the public NumPy API. If that is the case, use the public NumPy API. If not, you are using NumPy internals. If you would still like to access an internal attribute, use numpy._core.defchararray.\n",
      "  return np.core.defchararray.add(arr1, arr2)\n"
     ]
    }
   ],
   "source": [
    "#59.Write a function that concatenates strings in a NumPy array element-wise.\n",
    "import numpy as np\n",
    "\n",
    "def concatenate_strings(arr1, arr2):\n",
    "    return np.core.defchararray.add(arr1, arr2)\n",
    "\n",
    "# Example usage\n",
    "arr1 = np.array(['Hello', 'World'])\n",
    "arr2 = np.array([' Open', ' AI'])\n",
    "result = concatenate_strings(arr1, arr2)\n",
    "print(result)"
   ]
  },
  {
   "cell_type": "code",
   "execution_count": 132,
   "id": "e4f8ec4b-2ea0-4329-abdd-35e12907245f",
   "metadata": {},
   "outputs": [
    {
     "name": "stdout",
     "output_type": "stream",
     "text": [
      "9\n"
     ]
    }
   ],
   "source": [
    "#60. Write a function that finds the length of the longest string in a NumPy array.\n",
    "arr = np.array(['apple', 'banana', 'grape', 'pineapple'])\n",
    "def find_longest_string(arr):\n",
    "   \n",
    "    return np.max(np.char.str_len(arr))\n",
    "\n",
    "# Example usage\n",
    "arr = np.array(['apple', 'banana', 'grape', 'pineapple'])\n",
    "longest_length = find_longest_string(arr)\n",
    "print(longest_length)"
   ]
  },
  {
   "cell_type": "code",
   "execution_count": 142,
   "id": "be641684-e811-4a31-ac04-b75d44f8452e",
   "metadata": {},
   "outputs": [
    {
     "name": "stdout",
     "output_type": "stream",
     "text": [
      "Mean: 492.79\n",
      "Median: 525.5\n",
      "Variance: 90261.3659\n",
      "Standard Deviation: 300.43529403184306\n"
     ]
    }
   ],
   "source": [
    "#61. Create a dataset of 100 random integers between 1 and 1000. Compute the mean, median, variance, and standard deviation of the dataset using NumPy's functions.\n",
    "import numpy as np\n",
    "\n",
    "# Create a dataset of 100 random integers between 1 and 1000\n",
    "dataset = np.random.randint(1, 1001, size=100)\n",
    "\n",
    "# Compute the mean, median, variance, and standard deviation\n",
    "mean = np.mean(dataset)\n",
    "median = np.median(dataset)\n",
    "variance = np.var(dataset)\n",
    "std_dev = np.std(dataset)\n",
    "\n",
    "print(\"Mean:\", mean)\n",
    "print(\"Median:\", median)\n",
    "print(\"Variance:\", variance)\n",
    "print(\"Standard Deviation:\", std_dev)\n",
    "\n"
   ]
  },
  {
   "cell_type": "code",
   "execution_count": 143,
   "id": "84a59127-d235-433d-a34b-423018fdc374",
   "metadata": {},
   "outputs": [
    {
     "name": "stdout",
     "output_type": "stream",
     "text": [
      "25th Percentile: 15.0\n",
      "75th Percentile: 65.75\n"
     ]
    }
   ],
   "source": [
    "#62. Generate an array of 50 random numbers between 1 and 100. Find the 25th and 75th percentiles of the dataset.\n",
    "\n",
    "import numpy as np\n",
    "\n",
    "# Generate an array of 50 random numbers between 1 and 100\n",
    "dataset = np.random.randint(1, 101, size=50)\n",
    "\n",
    "# Find the 25th and 75th percentiles\n",
    "percentile_25 = np.percentile(dataset, 25)\n",
    "percentile_75 = np.percentile(dataset, 75)\n",
    "\n",
    "print(\"25th Percentile:\", percentile_25)\n",
    "print(\"75th Percentile:\", percentile_75)\n"
   ]
  },
  {
   "cell_type": "code",
   "execution_count": 144,
   "id": "83ce17ba-e66b-4876-866a-b6e580de3b13",
   "metadata": {},
   "outputs": [
    {
     "name": "stdout",
     "output_type": "stream",
     "text": [
      "Correlation Coefficient: 0.22153469663214512\n"
     ]
    }
   ],
   "source": [
    "#63. Create two arrays representing two sets of variables. Compute the correlation coefficient between these arrays using NumPy's `corrcoef` function.\n",
    "\n",
    "import numpy as np\n",
    "\n",
    "# Create two arrays representing two sets of variables\n",
    "arr1 = np.random.normal(0, 1, size=(10,))\n",
    "arr2 = np.random.normal(0, 1, size=(10,))\n",
    "\n",
    "# Compute the correlation coefficient\n",
    "correlation_coeff = np.corrcoef(arr1, arr2)[0, 1]\n",
    "\n",
    "print(\"Correlation Coefficient:\", correlation_coeff)\n"
   ]
  },
  {
   "cell_type": "code",
   "execution_count": 145,
   "id": "b37eed09-1542-4435-85cc-03bce57db7c8",
   "metadata": {},
   "outputs": [
    {
     "name": "stdout",
     "output_type": "stream",
     "text": [
      "Matrix 1:\n",
      " [[ 5  8  3 10]\n",
      " [ 9  3  4  5]\n",
      " [10  4  4  1]]\n",
      "Matrix 2:\n",
      " [[ 2  4  2  9  4]\n",
      " [ 7 10  2  1  2]\n",
      " [ 1  8  1  2  2]\n",
      " [ 9  3 10  6  5]]\n",
      "Result:\n",
      " [[159 154 129 119  92]\n",
      " [ 88 113  78 122  75]\n",
      " [ 61 115  42 108  61]]\n"
     ]
    }
   ],
   "source": [
    "#64. Create two matrices and perform matrix multiplication using NumPy's `dot` function.\n",
    "import numpy as np\n",
    "\n",
    "# Create two matrices\n",
    "matrix1 = np.random.randint(1, 11, size=(3, 4))\n",
    "matrix2 = np.random.randint(1, 11, size=(4, 5))\n",
    "\n",
    "# Perform matrix multiplication\n",
    "result = np.dot(matrix1, matrix2)\n",
    "\n",
    "print(\"Matrix 1:\\n\", matrix1)\n",
    "print(\"Matrix 2:\\n\", matrix2)\n",
    "print(\"Result:\\n\", result)\n",
    "\n"
   ]
  },
  {
   "cell_type": "code",
   "execution_count": 146,
   "id": "ba2afd80-9ae4-4afa-ba90-30938dee9696",
   "metadata": {},
   "outputs": [
    {
     "name": "stdout",
     "output_type": "stream",
     "text": [
      "10th Percentile: 172.10000000000002\n",
      "Median: 463.0\n",
      "90th Percentile: 858.0\n",
      "First Quartile (Q1): 322.25\n",
      "Third Quartile (Q3): 716.0\n"
     ]
    }
   ],
   "source": [
    "#65. Create an array of 50 integers between 10 and 1000. Calculate the 10th, 50th (median), and 90th percentiles along with the first and third quartiles.\n",
    "import numpy as np\n",
    "\n",
    "# Create an array of 50 integers between 10 and 1000\n",
    "dataset = np.random.randint(10, 1001, size=50)\n",
    "\n",
    "# Calculate the 10th, 50th (median), and 90th percentiles\n",
    "percentile_10 = np.percentile(dataset, 10)\n",
    "median = np.percentile(dataset, 50)\n",
    "percentile_90 = np.percentile(dataset, 90)\n",
    "\n",
    "# Calculate the first and third quartiles\n",
    "q1 = np.percentile(dataset, 25)\n",
    "q3 = np.percentile(dataset, 75)\n",
    "\n",
    "print(\"10th Percentile:\", percentile_10)\n",
    "print(\"Median:\", median)\n",
    "print(\"90th Percentile:\", percentile_90)\n",
    "print(\"First Quartile (Q1):\", q1)\n",
    "print(\"Third Quartile (Q3):\", q3)\n",
    "\n"
   ]
  },
  {
   "cell_type": "code",
   "execution_count": 147,
   "id": "0a7d8284-b20a-42e4-a37b-a14c80f0b60c",
   "metadata": {},
   "outputs": [
    {
     "name": "stdout",
     "output_type": "stream",
     "text": [
      "Index of 20 is: 3\n"
     ]
    }
   ],
   "source": [
    "#66. Create a NumPy array of integers and find the index of a specific element.\n",
    "import numpy as np\n",
    "\n",
    "# Create a NumPy array of integers\n",
    "arr = np.array([5, 10, 15, 20, 25, 30])\n",
    "\n",
    "# Find the index of a specific element\n",
    "target_element = 20\n",
    "index = np.where(arr == target_element)[0][0]\n",
    "\n",
    "print(\"Index of\", target_element, \"is:\", index)\n",
    "\n"
   ]
  },
  {
   "cell_type": "code",
   "execution_count": 148,
   "id": "6706ffbf-74e9-4a66-8e39-284cde0d1e2d",
   "metadata": {},
   "outputs": [
    {
     "name": "stdout",
     "output_type": "stream",
     "text": [
      "Original Array: [ 3 97 35 52 80 96  9 73 57 74 56 21 29 75 39]\n",
      "Sorted Array: [ 3  9 21 29 35 39 52 56 57 73 74 75 80 96 97]\n"
     ]
    }
   ],
   "source": [
    "#67. Generate a random NumPy array and sort it in ascending order\n",
    "import numpy as np\n",
    "\n",
    "# Generate a random NumPy array\n",
    "arr = np.random.randint(1, 101, size=15)\n",
    "\n",
    "# Sort the array in ascending order\n",
    "sorted_arr = np.sort(arr)\n",
    "\n",
    "print(\"Original Array:\", arr)\n",
    "print(\"Sorted Array:\", sorted_arr)"
   ]
  },
  {
   "cell_type": "code",
   "execution_count": 149,
   "id": "c7811bd0-2523-4f51-8213-0b7c3a43d3ad",
   "metadata": {},
   "outputs": [
    {
     "name": "stdout",
     "output_type": "stream",
     "text": [
      "Original Array: [12 25  6 42  8 30]\n",
      "Filtered Array: [25 42 30]\n"
     ]
    }
   ],
   "source": [
    "#68. Filter elements >20  in the given NumPy array.\n",
    "arr = np.array([12, 25, 6, 42, 8, 30])\n",
    "import numpy as np\n",
    "\n",
    "# Given NumPy array\n",
    "arr = np.array([12, 25, 6, 42, 8, 30])\n",
    "\n",
    "# Filter elements > 20\n",
    "filtered_arr = arr[arr > 20]\n",
    "\n",
    "print(\"Original Array:\", arr)\n",
    "print(\"Filtered Array:\", filtered_arr)"
   ]
  },
  {
   "cell_type": "code",
   "execution_count": 150,
   "id": "7b6b62d9-c5a6-4282-b2f2-6a958986e507",
   "metadata": {},
   "outputs": [
    {
     "name": "stdout",
     "output_type": "stream",
     "text": [
      "Original Array: [ 1  5  8 12 15]\n",
      "Filtered Array: [12 15]\n"
     ]
    }
   ],
   "source": [
    "#69. Filter elements which are divisible by 3 from a given NumPy array\n",
    "arr = np.array([1, 5, 8, 12, 15])\n",
    "import numpy as np\n",
    "\n",
    "# Given NumPy array\n",
    "arr = np.array([1, 5, 8, 12, 15])\n",
    "\n",
    "# Filter elements divisible by 3\n",
    "filtered_arr = arr[arr % 3 == 0]\n",
    "\n",
    "print(\"Original Array:\", arr)\n",
    "print(\"Filtered Array:\", filtered_arr)"
   ]
  },
  {
   "cell_type": "code",
   "execution_count": 152,
   "id": "ca767fe5-729c-4df4-9533-01cf17c21f5c",
   "metadata": {},
   "outputs": [
    {
     "name": "stdout",
     "output_type": "stream",
     "text": [
      "Original Array: [10 20 30 40 50]\n",
      "Filtered Array: [20 30 40]\n"
     ]
    }
   ],
   "source": [
    "#70. Filter elements which are ≥ 20 and ≤ 40 from a given NumPy array.\n",
    "\n",
    "# Given NumPy array\n",
    "arr = np.array([10, 20, 30, 40, 50])\n",
    "\n",
    "# Filter elements between 20 and 40\n",
    "filtered_arr = arr[(arr >= 20) & (arr <= 40)]\n",
    "\n",
    "print(\"Original Array:\", arr)\n",
    "print(\"Filtered Array:\", filtered_arr)"
   ]
  },
  {
   "cell_type": "code",
   "execution_count": 153,
   "id": "4a7bd30b-cf33-4e2b-a4d8-d1f94e91687e",
   "metadata": {},
   "outputs": [
    {
     "name": "stdout",
     "output_type": "stream",
     "text": [
      "Byte Order: =\n"
     ]
    }
   ],
   "source": [
    "#71.For the given NumPy array, check its byte order using the 'dtype' attribute byteorder.\n",
    "\n",
    "# Given NumPy array\n",
    "arr = np.array([1, 2, 3])\n",
    "\n",
    "# Check the byte order\n",
    "byte_order = arr.dtype.byteorder\n",
    "\n",
    "print(\"Byte Order:\", byte_order)"
   ]
  },
  {
   "cell_type": "code",
   "execution_count": 154,
   "id": "3081c5e8-ec70-4f49-b920-f92e8241bfcc",
   "metadata": {},
   "outputs": [
    {
     "data": {
      "text/plain": [
       "array([16777216, 33554432, 50331648], dtype=int32)"
      ]
     },
     "execution_count": 154,
     "metadata": {},
     "output_type": "execute_result"
    }
   ],
   "source": [
    "#72. For the given NumPy array, perform byte swapping in place using 'byteswap()'.\n",
    "arr = np.array([1, 2, 3], dtype=np.int32)\n",
    "arr.byteswap(inplace=True)"
   ]
  },
  {
   "cell_type": "code",
   "execution_count": 182,
   "id": "d630c1d8-0162-4740-9619-b37f925e89a2",
   "metadata": {},
   "outputs": [],
   "source": [
    "#73. For the given NumPy array, swap its bytes order without modifying the original array using 'newbyteorder()'.\n",
    "\n",
    "arr = np.array([1, 2, 3], dtype=np.int32)\n",
    "arr_swapped = arr.view(arr.dtype.newbyteorder())"
   ]
  },
  {
   "cell_type": "code",
   "execution_count": 184,
   "id": "c6dc04fc-d699-4dd6-9a65-9a1f20082060",
   "metadata": {},
   "outputs": [],
   "source": [
    "#74. For the given NumPy array and swap its byte order conditionally based on system endianness using 'newbyteorder()'.\n",
    "arr = np.array([1, 2, 3], dtype=np.int32)\n",
    "arr_swapped = arr.view(arr.dtype.newbyteorder())\n"
   ]
  },
  {
   "cell_type": "code",
   "execution_count": 185,
   "id": "c6f74c0e-a2d7-4467-934b-207625ba0d8d",
   "metadata": {},
   "outputs": [],
   "source": [
    "#75. For the given NumPy array, check if byte swapping is necessary for the current system using 'dtype' attribute 'byteorder'.\n",
    "import sys\n",
    "\n",
    "arr = np.array([1, 2, 3], dtype=np.int32)\n",
    "if arr.dtype.byteorder != sys.byteorder:\n",
    "    arr.byteswap(inplace=True)\n"
   ]
  },
  {
   "cell_type": "code",
   "execution_count": 160,
   "id": "f9e4226b-4ce5-48d0-89cb-53a5a40e70f2",
   "metadata": {},
   "outputs": [],
   "source": [
    "#76. Create a NumPy array 'arr1' with values from 1 to 10. Create a copy of 'arr1' named 'copy_arr' and modify an element in 'copy_arr'. Check if modifying 'copy_arr' affects 'arr1'.\n",
    "arr1 = np.arange(1, 11)\n",
    "copy_arr = arr1.copy()\n",
    "copy_arr[0] = 100\n",
    "#Modifying 'copy_arr' does not affect 'arr1'\n"
   ]
  },
  {
   "cell_type": "code",
   "execution_count": 161,
   "id": "f7d6421d-ff48-4fd9-81e7-f3b7dc705475",
   "metadata": {},
   "outputs": [],
   "source": [
    "#77. Create a 2D NumPy array 'matrix' of shape (3, 3) with random integers. Extract a slice 'view_slice' from the matrix. Modify an element in 'view_slice' and observe if it changes the original 'matrix'.\n",
    "matrix = np.random.randint(0, 10, size=(3, 3))\n",
    "view_slice = matrix[:2, :2]\n",
    "view_slice[0, 0] = 100\n",
    "#Modifying 'view"
   ]
  },
  {
   "cell_type": "code",
   "execution_count": 165,
   "id": "507093ba-a488-4a53-a308-8b9e7658498c",
   "metadata": {},
   "outputs": [
    {
     "name": "stdout",
     "output_type": "stream",
     "text": [
      "Modifying 'view_b' does change the original 'array_a'. \n"
     ]
    }
   ],
   "source": [
    "#78. Create a NumPy array 'array_a' of shape (4, 3) with sequential integers from 1 to 12. Extract a slice 'view_b' from 'array_a' and broadcast the addition of 5 to 'view_b'. Check if it alters the original 'array_a'.\n",
    "array_a = np.arange(1, 13).reshape(4, 3)\n",
    "view_b = array_a[:3, :]\n",
    "view_b += 5\n",
    "print(\"Modifying 'view_b' does change the original 'array_a'. \")"
   ]
  },
  {
   "cell_type": "code",
   "execution_count": 166,
   "id": "f968e624-5497-4694-bc0f-ce1e3b3ec196",
   "metadata": {},
   "outputs": [
    {
     "name": "stdout",
     "output_type": "stream",
     "text": [
      "Modifying 'reshaped_view' does change the original 'orig_array'\n"
     ]
    }
   ],
   "source": [
    "#79. Create a NumPy array 'orig_array' of shape (2, 4) with values from 1 to 8. Create a reshaped view 'reshaped_view' of shape (4, 2) from 'orig_array'. Modify an element in 'reshaped_view' and check if it reflects changes in the original 'orig_array'.\n",
    "orig_array = np.arange(1, 9).reshape(2, 4)\n",
    "reshaped_view = orig_array.T\n",
    "reshaped_view[0, 0] = 100\n",
    "print(\"Modifying 'reshaped_view' does change the original 'orig_array'\")"
   ]
  },
  {
   "cell_type": "code",
   "execution_count": 167,
   "id": "96d49778-faae-4890-97a6-b3855c6df1b8",
   "metadata": {},
   "outputs": [
    {
     "name": "stdout",
     "output_type": "stream",
     "text": [
      "Modifying 'data_copy' does not affect the original 'data'\n"
     ]
    }
   ],
   "source": [
    "#80. Create a NumPy array 'data' of shape (3, 4) with random integers. Extract a copy 'data_copy' of elements greater than 5. Modify an element in 'data_copy' and verify if it affects the original 'data'.\n",
    "data = np.random.randint(0, 10, size=(3, 4))\n",
    "data_copy = data[data > 5].copy()\n",
    "data_copy[0] = 100\n",
    "print(\"Modifying 'data_copy' does not affect the original 'data'\")"
   ]
  },
  {
   "cell_type": "code",
   "execution_count": 171,
   "id": "7688258b-eaa6-4c64-9fab-2dd011ae504c",
   "metadata": {},
   "outputs": [
    {
     "name": "stdout",
     "output_type": "stream",
     "text": [
      "[[ 6  8]\n",
      " [10 12]]\n",
      "[[-4 -4]\n",
      " [-4 -4]]\n"
     ]
    }
   ],
   "source": [
    "#81. Create two matrices A and B of identical shape containing integers and perform addition and subtraction operations between them.\n",
    "A = np.array([[1, 2], [3, 4]])\n",
    "B = np.array([[5, 6], [7, 8]])\n",
    "C = A + B\n",
    "D = A - B\n",
    "print(C)\n",
    "print(D)"
   ]
  },
  {
   "cell_type": "code",
   "execution_count": 172,
   "id": "a4655994-da00-44f1-86c6-70375dc2828e",
   "metadata": {},
   "outputs": [
    {
     "name": "stdout",
     "output_type": "stream",
     "text": [
      "[[87 76 51 48]\n",
      " [72 64 24 48]\n",
      " [74 64 54 36]]\n"
     ]
    }
   ],
   "source": [
    "#82. Generate two matrices 'C' (3x2) and 'D' (2x4) and perform matrix multiplication.\n",
    "C = np.random.randint(0, 10, size=(3, 2))\n",
    "D = np.random.randint(0, 10, size=(2, 4))\n",
    "E = np.matmul(C, D)\n",
    "print(E)"
   ]
  },
  {
   "cell_type": "code",
   "execution_count": 174,
   "id": "9e4b2846-d446-4243-94e9-c7db69a9314f",
   "metadata": {},
   "outputs": [
    {
     "name": "stdout",
     "output_type": "stream",
     "text": [
      "[[2 1 4]\n",
      " [5 7 0]\n",
      " [6 4 1]]\n"
     ]
    }
   ],
   "source": [
    "#83. Create a matrix 'E' and find its transpose.\n",
    "E = np.random.randint(0, 10, size=(3, 3))\n",
    "E_transpose = E.T\n",
    "print(E_transpose)"
   ]
  },
  {
   "cell_type": "code",
   "execution_count": 176,
   "id": "4a99b2c7-dd43-4d42-90fc-39ee7eeb753b",
   "metadata": {},
   "outputs": [
    {
     "name": "stdout",
     "output_type": "stream",
     "text": [
      "-30.000000000000014\n"
     ]
    }
   ],
   "source": [
    "#84. Generate a square matrix 'F' and compute its determinant.\n",
    "F = np.random.randint(0, 10, size=(3, 3))\n",
    "det_F = np.linalg.det(F)\n",
    "print(det_F)"
   ]
  },
  {
   "cell_type": "code",
   "execution_count": 178,
   "id": "614cc173-4335-455c-99d2-38c594aa293b",
   "metadata": {},
   "outputs": [
    {
     "name": "stdout",
     "output_type": "stream",
     "text": [
      "[[ 0.48 -0.32  0.2 ]\n",
      " [-0.3   0.2  -0.  ]\n",
      " [-0.16  0.44 -0.4 ]]\n"
     ]
    }
   ],
   "source": [
    "#85. Create a square matrix 'G' and find its inverse.\n",
    "G = np.random.randint(0, 10, size=(3, 3))\n",
    "G_inverse = np.linalg.inv(G)\n",
    "print(G_inverse)"
   ]
  },
  {
   "cell_type": "code",
   "execution_count": null,
   "id": "173d2f1a-9ec9-430c-9420-a7b00e5f1d52",
   "metadata": {},
   "outputs": [],
   "source": []
  }
 ],
 "metadata": {
  "kernelspec": {
   "display_name": "Python 3 (ipykernel)",
   "language": "python",
   "name": "python3"
  },
  "language_info": {
   "codemirror_mode": {
    "name": "ipython",
    "version": 3
   },
   "file_extension": ".py",
   "mimetype": "text/x-python",
   "name": "python",
   "nbconvert_exporter": "python",
   "pygments_lexer": "ipython3",
   "version": "3.12.5"
  }
 },
 "nbformat": 4,
 "nbformat_minor": 5
}
