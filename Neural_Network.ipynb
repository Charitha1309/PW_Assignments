{
 "cells": [
  {
   "cell_type": "code",
   "execution_count": 1,
   "id": "31d8f75a-bbbf-4bca-910a-9cbed48780db",
   "metadata": {},
   "outputs": [
    {
     "data": {
      "text/plain": [
       "'1. What is deep learning, and how is it connected to artificial intelligence?\\nDeep learning is a subset of machine learning (ML), which itself is a branch of artificial intelligence (AI). \\nIt focuses on training deep neural networks with many layers to learn patterns and features from large datasets. \\nWhile traditional ML relies on manually engineered features, deep learning automates this process by enabling networks to learn hierarchical representations of data.'"
      ]
     },
     "execution_count": 1,
     "metadata": {},
     "output_type": "execute_result"
    }
   ],
   "source": [
    "'''1. What is deep learning, and how is it connected to artificial intelligence?\n",
    "Deep learning is a subset of machine learning (ML), which itself is a branch of artificial intelligence (AI). \n",
    "It focuses on training deep neural networks with many layers to learn patterns and features from large datasets. \n",
    "While traditional ML relies on manually engineered features, deep learning automates this process by enabling networks to learn hierarchical representations of data.'''"
   ]
  },
  {
   "cell_type": "code",
   "execution_count": 2,
   "id": "64eb719a-9b7d-41e1-9c6c-483d5c640b06",
   "metadata": {},
   "outputs": [
    {
     "data": {
      "text/plain": [
       "'2. What is a neural network, and what are the different types of neural networks?\\nA neural network is a computational model inspired by the human brain, consisting of layers of interconnected nodes (neurons) that process and transform data.\\n\\nTypes of Neural Networks:\\n\\nFeedforward Neural Networks (FNN): Information flows in one direction (input → output).\\nConvolutional Neural Networks (CNN): Specialize in image and spatial data processing.\\nRecurrent Neural Networks (RNN): Handle sequential data like time series or text.\\nTransformer Networks: Used in NLP tasks (e.g., GPT, BERT).\\nGenerative Adversarial Networks (GANs): Generate new data by training two competing networks.\\nAutoencoders: Learn efficient data representations (encoding and decoding).\\n'"
      ]
     },
     "execution_count": 2,
     "metadata": {},
     "output_type": "execute_result"
    }
   ],
   "source": [
    "'''2. What is a neural network, and what are the different types of neural networks?\n",
    "A neural network is a computational model inspired by the human brain, consisting of layers of interconnected nodes (neurons) that process and transform data.\n",
    "\n",
    "Types of Neural Networks:\n",
    "\n",
    "Feedforward Neural Networks (FNN): Information flows in one direction (input → output).\n",
    "Convolutional Neural Networks (CNN): Specialize in image and spatial data processing.\n",
    "Recurrent Neural Networks (RNN): Handle sequential data like time series or text.\n",
    "Transformer Networks: Used in NLP tasks (e.g., GPT, BERT).\n",
    "Generative Adversarial Networks (GANs): Generate new data by training two competing networks.\n",
    "Autoencoders: Learn efficient data representations (encoding and decoding).\n",
    "'''\n"
   ]
  },
  {
   "cell_type": "code",
   "execution_count": 3,
   "id": "c45a675e-7ab9-4ca6-961e-d7510af6fb60",
   "metadata": {},
   "outputs": [
    {
     "data": {
      "text/plain": [
       "'3. What is the mathematical structure of a neural network?\\nA neural network is represented as a composition of functions:\\nEach layer performs a transformation:\\n𝑦=𝑓(𝑊⋅𝑥+𝑏)\\ny=f(W⋅x+b)\\nWhere:\\nx: Input vector\\nW: Weight matrix\\nb: Bias vector\\nf: Activation function\\ny: Output of the layer\\nLayers are stacked, and the output of one becomes the input for the next.'"
      ]
     },
     "execution_count": 3,
     "metadata": {},
     "output_type": "execute_result"
    }
   ],
   "source": [
    "'''3. What is the mathematical structure of a neural network?\n",
    "A neural network is represented as a composition of functions:\n",
    "Each layer performs a transformation:\n",
    "𝑦=𝑓(𝑊⋅𝑥+𝑏)\n",
    "y=f(W⋅x+b)\n",
    "Where:\n",
    "x: Input vector\n",
    "W: Weight matrix\n",
    "b: Bias vector\n",
    "f: Activation function\n",
    "y: Output of the layer\n",
    "Layers are stacked, and the output of one becomes the input for the next.'''"
   ]
  },
  {
   "cell_type": "code",
   "execution_count": 4,
   "id": "6f4d7d01-154e-4ca5-8e42-0e0c869f8dd8",
   "metadata": {},
   "outputs": [
    {
     "data": {
      "text/plain": [
       "'4. What is an activation function, and why is it essential in neural networks?\\nAn activation function introduces non-linearity into the network, allowing it to model complex relationships in data. Without activation functions, a neural network would behave as a linear model regardless of its depth.'"
      ]
     },
     "execution_count": 4,
     "metadata": {},
     "output_type": "execute_result"
    }
   ],
   "source": [
    "'''4. What is an activation function, and why is it essential in neural networks?\n",
    "An activation function introduces non-linearity into the network, allowing it to model complex relationships in data. Without activation functions, a neural network would behave as a linear model regardless of its depth.'''"
   ]
  },
  {
   "cell_type": "code",
   "execution_count": 5,
   "id": "f97cf486-0106-4446-9e26-40aebe198bcb",
   "metadata": {},
   "outputs": [
    {
     "data": {
      "text/plain": [
       "'5. Could you list some common activation functions used in neural networks?\\nReLU (Rectified Linear Unit):  𝑓(𝑥)=max\\u2061(0,𝑥)f(x)=max(0,x)\\nLeaky ReLU: Allows a small slope for negative inputs.\\nTanh: f(x)=tanh(x) (squashes output between -1 and 1).\\nSoftmax: Used for multi-class classification.'"
      ]
     },
     "execution_count": 5,
     "metadata": {},
     "output_type": "execute_result"
    }
   ],
   "source": [
    "'''5. Could you list some common activation functions used in neural networks?\n",
    "ReLU (Rectified Linear Unit):  𝑓(𝑥)=max⁡(0,𝑥)f(x)=max(0,x)\n",
    "Leaky ReLU: Allows a small slope for negative inputs.\n",
    "Tanh: f(x)=tanh(x) (squashes output between -1 and 1).\n",
    "Softmax: Used for multi-class classification.'''"
   ]
  },
  {
   "cell_type": "code",
   "execution_count": 6,
   "id": "024daf25-9c55-4aa8-8d89-29b20f041f3a",
   "metadata": {},
   "outputs": [
    {
     "data": {
      "text/plain": [
       "'6. What is a multilayer neural network?\\nA multilayer neural network (or multi-layer perceptron, MLP) consists of multiple layers, including:\\n\\nInput layer: Accepts raw data.\\nHidden layers: Perform intermediate computations.\\nOutput layer: Produces the final result.'"
      ]
     },
     "execution_count": 6,
     "metadata": {},
     "output_type": "execute_result"
    }
   ],
   "source": [
    "'''6. What is a multilayer neural network?\n",
    "A multilayer neural network (or multi-layer perceptron, MLP) consists of multiple layers, including:\n",
    "\n",
    "Input layer: Accepts raw data.\n",
    "Hidden layers: Perform intermediate computations.\n",
    "Output layer: Produces the final result.'''"
   ]
  },
  {
   "cell_type": "code",
   "execution_count": 7,
   "id": "d0031d05-4454-41cd-aea2-4595fbd4bb52",
   "metadata": {},
   "outputs": [
    {
     "data": {
      "text/plain": [
       "\"7. What is a loss function, and why is it crucial for neural network training?\\nA loss function measures the difference between the network's predictions and the actual target values. It guides the optimization process by quantifying how well the model is performing.\\n\""
      ]
     },
     "execution_count": 7,
     "metadata": {},
     "output_type": "execute_result"
    }
   ],
   "source": [
    "'''7. What is a loss function, and why is it crucial for neural network training?\n",
    "A loss function measures the difference between the network's predictions and the actual target values. It guides the optimization process by quantifying how well the model is performing.\n",
    "'''"
   ]
  },
  {
   "cell_type": "code",
   "execution_count": 8,
   "id": "81530299-e271-4051-bf35-c1228c01c466",
   "metadata": {},
   "outputs": [
    {
     "data": {
      "text/plain": [
       "'8. What are some common types of loss functions?\\nMean Squared Error (MSE): For regression tasks.\\nBinary Cross-Entropy: For binary classification.\\nCategorical Cross-Entropy: For multi-class classification.\\nHinge Loss: For support vector machines (SVM).'"
      ]
     },
     "execution_count": 8,
     "metadata": {},
     "output_type": "execute_result"
    }
   ],
   "source": [
    "'''8. What are some common types of loss functions?\n",
    "Mean Squared Error (MSE): For regression tasks.\n",
    "Binary Cross-Entropy: For binary classification.\n",
    "Categorical Cross-Entropy: For multi-class classification.\n",
    "Hinge Loss: For support vector machines (SVM).'''"
   ]
  },
  {
   "cell_type": "code",
   "execution_count": 9,
   "id": "c786336f-d54a-4ab8-9ff9-16c8c8f035ca",
   "metadata": {},
   "outputs": [
    {
     "data": {
      "text/plain": [
       "'9. How does a neural network learn?\\nA neural network learns by:\\n\\nForward Propagation: Computes predictions based on input data.\\nLoss Calculation: Quantifies prediction error using the loss function.\\nBackward Propagation: Calculates gradients of the loss function with respect to weights using the chain rule.\\nWeight Update: Adjusts weights using an optimizer (e.g., gradient descent).'"
      ]
     },
     "execution_count": 9,
     "metadata": {},
     "output_type": "execute_result"
    }
   ],
   "source": [
    "'''9. How does a neural network learn?\n",
    "A neural network learns by:\n",
    "\n",
    "Forward Propagation: Computes predictions based on input data.\n",
    "Loss Calculation: Quantifies prediction error using the loss function.\n",
    "Backward Propagation: Calculates gradients of the loss function with respect to weights using the chain rule.\n",
    "Weight Update: Adjusts weights using an optimizer (e.g., gradient descent).'''"
   ]
  },
  {
   "cell_type": "code",
   "execution_count": 10,
   "id": "f3905ec6-164d-4de7-ae14-95a37b3ff296",
   "metadata": {},
   "outputs": [
    {
     "data": {
      "text/plain": [
       "'10. What is an optimizer in neural networks, and why is it necessary?\\nAn optimizer adjusts the weights and biases of a neural network to minimize the loss function. It determines the direction and magnitude of parameter updates during training.'"
      ]
     },
     "execution_count": 10,
     "metadata": {},
     "output_type": "execute_result"
    }
   ],
   "source": [
    "'''10. What is an optimizer in neural networks, and why is it necessary?\n",
    "An optimizer adjusts the weights and biases of a neural network to minimize the loss function. It determines the direction and magnitude of parameter updates during training.'''"
   ]
  },
  {
   "cell_type": "code",
   "execution_count": 11,
   "id": "76ecd821-42ce-479f-af85-edab0135b9f4",
   "metadata": {},
   "outputs": [
    {
     "data": {
      "text/plain": [
       "'11. Could you briefly describe some common optimizers?\\nGradient Descent: Basic optimizer using a fixed learning rate.\\nStochastic Gradient Descent (SGD): Updates weights after every data sample.\\nAdam (Adaptive Moment Estimation): Combines momentum and adaptive learning rates.\\nRMSProp: Adjusts the learning rate based on recent gradients.'"
      ]
     },
     "execution_count": 11,
     "metadata": {},
     "output_type": "execute_result"
    }
   ],
   "source": [
    "'''11. Could you briefly describe some common optimizers?\n",
    "Gradient Descent: Basic optimizer using a fixed learning rate.\n",
    "Stochastic Gradient Descent (SGD): Updates weights after every data sample.\n",
    "Adam (Adaptive Moment Estimation): Combines momentum and adaptive learning rates.\n",
    "RMSProp: Adjusts the learning rate based on recent gradients.'''"
   ]
  },
  {
   "cell_type": "markdown",
   "id": "9d36b2cc-640c-4d8e-a0fb-1dd3cfb2c987",
   "metadata": {},
   "source": [
    "'''12. Can you explain forward and backward propagation in a neural network?\n",
    "Forward Propagation: Data flows through the network, layer by layer, to produce predictions.\n",
    "Backward Propagation: Computes gradients of the loss function with respect to weights using the chain rule, propagating errors backward through the network.'''"
   ]
  },
  {
   "cell_type": "code",
   "execution_count": 13,
   "id": "18b894db-9185-4b30-bc36-36880b393177",
   "metadata": {},
   "outputs": [
    {
     "data": {
      "text/plain": [
       "'13. What is weight initialization, and how does it impact training?\\nWeight initialization sets the initial values of weights in a network. Poor initialization can lead to slow convergence or failure to train. Common methods include:\\n\\nRandom Initialization: Small random values.\\nXavier Initialization: Scales weights based on the number of neurons.\\nHe Initialization: Optimized for ReLU activations.'"
      ]
     },
     "execution_count": 13,
     "metadata": {},
     "output_type": "execute_result"
    }
   ],
   "source": [
    "'''13. What is weight initialization, and how does it impact training?\n",
    "Weight initialization sets the initial values of weights in a network. Poor initialization can lead to slow convergence or failure to train. Common methods include:\n",
    "\n",
    "Random Initialization: Small random values.\n",
    "Xavier Initialization: Scales weights based on the number of neurons.\n",
    "He Initialization: Optimized for ReLU activations.'''"
   ]
  },
  {
   "cell_type": "code",
   "execution_count": 14,
   "id": "c3f7f5ef-f178-4131-9cc0-3467246180ec",
   "metadata": {},
   "outputs": [
    {
     "data": {
      "text/plain": [
       "'14. What is the vanishing gradient problem in deep learning?\\nWhen gradients become extremely small in deep networks, weight updates diminish, and the model stops learning. It occurs with certain activation functions (e.g., sigmoid, tanh).'"
      ]
     },
     "execution_count": 14,
     "metadata": {},
     "output_type": "execute_result"
    }
   ],
   "source": [
    "'''14. What is the vanishing gradient problem in deep learning?\n",
    "When gradients become extremely small in deep networks, weight updates diminish, and the model stops learning. It occurs with certain activation functions (e.g., sigmoid, tanh).'''"
   ]
  },
  {
   "cell_type": "code",
   "execution_count": 15,
   "id": "e0ff0ffd-71b2-4cde-80f1-384a5a605bb9",
   "metadata": {},
   "outputs": [
    {
     "data": {
      "text/plain": [
       "'15. What is the exploding gradient problem?\\nWhen gradients become excessively large, they cause instability in training, leading to diverging parameter updates. This can be mitigated with gradient clipping or better initialization techniques.\\n'"
      ]
     },
     "execution_count": 15,
     "metadata": {},
     "output_type": "execute_result"
    }
   ],
   "source": [
    "'''15. What is the exploding gradient problem?\n",
    "When gradients become excessively large, they cause instability in training, leading to diverging parameter updates. This can be mitigated with gradient clipping or better initialization techniques.\n",
    "'''"
   ]
  },
  {
   "cell_type": "markdown",
   "id": "2c17c3df-29d0-4e6a-8593-ef8fe783af6b",
   "metadata": {},
   "source": [
    "# Practical"
   ]
  },
  {
   "cell_type": "code",
   "execution_count": 18,
   "id": "cb3bcf7d-a21c-4e29-ba9d-e8bbb096977e",
   "metadata": {},
   "outputs": [],
   "source": [
    "#1. How do you create a simple perceptron for basic binary classification?\n",
    "import numpy as np\n",
    "# Step function for binary classification\n",
    "def step_function(x):\n",
    "    return 1 if x > 0 else 0\n",
    "\n",
    "# Perceptron class\n",
    "class Perceptron:\n",
    "    def __init__(self, input_size, lr=0.01):\n",
    "        self.weights = np.zeros(input_size + 1)  # +1 for bias\n",
    "        self.lr = lr\n",
    "\n",
    "    def predict(self, x):\n",
    "        x_with_bias = np.insert(x, 0, 1)  # Add bias term\n",
    "        return step_function(np.dot(self.weights, x_with_bias))\n",
    "\n",
    "    def train(self, X, y, epochs=10):\n",
    "        for _ in range(epochs):\n",
    "            for i, x in enumerate(X):\n",
    "                x_with_bias = np.insert(x, 0, 1)\n",
    "                prediction = self.predict(x)\n",
    "                self.weights += self.lr * (y[i] - prediction) * x_with_bias\n"
   ]
  },
  {
   "cell_type": "code",
   "execution_count": 35,
   "id": "12301a35-aa4f-46fd-a13e-069a88cacd9a",
   "metadata": {},
   "outputs": [
    {
     "name": "stdout",
     "output_type": "stream",
     "text": [
      "Epoch 1/10\n"
     ]
    },
    {
     "ename": "InvalidArgumentError",
     "evalue": "Graph execution error:\n\nDetected at node compile_loss/custom_loss/sub defined at (most recent call last):\n  File \"<frozen runpy>\", line 198, in _run_module_as_main\n\n  File \"<frozen runpy>\", line 88, in _run_code\n\n  File \"C:\\Users\\HP\\AppData\\Roaming\\Python\\Python312\\site-packages\\ipykernel_launcher.py\", line 17, in <module>\n\n  File \"C:\\Users\\HP\\AppData\\Local\\Programs\\Python\\Python312\\Lib\\site-packages\\traitlets\\config\\application.py\", line 1075, in launch_instance\n\n  File \"C:\\Users\\HP\\AppData\\Roaming\\Python\\Python312\\site-packages\\ipykernel\\kernelapp.py\", line 737, in start\n\n  File \"C:\\Users\\HP\\AppData\\Local\\Programs\\Python\\Python312\\Lib\\site-packages\\tornado\\platform\\asyncio.py\", line 205, in start\n\n  File \"C:\\Users\\HP\\AppData\\Local\\Programs\\Python\\Python312\\Lib\\asyncio\\base_events.py\", line 641, in run_forever\n\n  File \"C:\\Users\\HP\\AppData\\Local\\Programs\\Python\\Python312\\Lib\\asyncio\\base_events.py\", line 1986, in _run_once\n\n  File \"C:\\Users\\HP\\AppData\\Local\\Programs\\Python\\Python312\\Lib\\asyncio\\events.py\", line 88, in _run\n\n  File \"C:\\Users\\HP\\AppData\\Roaming\\Python\\Python312\\site-packages\\ipykernel\\kernelbase.py\", line 524, in dispatch_queue\n\n  File \"C:\\Users\\HP\\AppData\\Roaming\\Python\\Python312\\site-packages\\ipykernel\\kernelbase.py\", line 513, in process_one\n\n  File \"C:\\Users\\HP\\AppData\\Roaming\\Python\\Python312\\site-packages\\ipykernel\\kernelbase.py\", line 418, in dispatch_shell\n\n  File \"C:\\Users\\HP\\AppData\\Roaming\\Python\\Python312\\site-packages\\ipykernel\\kernelbase.py\", line 758, in execute_request\n\n  File \"C:\\Users\\HP\\AppData\\Roaming\\Python\\Python312\\site-packages\\ipykernel\\ipkernel.py\", line 426, in do_execute\n\n  File \"C:\\Users\\HP\\AppData\\Roaming\\Python\\Python312\\site-packages\\ipykernel\\zmqshell.py\", line 549, in run_cell\n\n  File \"C:\\Users\\HP\\AppData\\Local\\Programs\\Python\\Python312\\Lib\\site-packages\\IPython\\core\\interactiveshell.py\", line 3075, in run_cell\n\n  File \"C:\\Users\\HP\\AppData\\Local\\Programs\\Python\\Python312\\Lib\\site-packages\\IPython\\core\\interactiveshell.py\", line 3130, in _run_cell\n\n  File \"C:\\Users\\HP\\AppData\\Local\\Programs\\Python\\Python312\\Lib\\site-packages\\IPython\\core\\async_helpers.py\", line 128, in _pseudo_sync_runner\n\n  File \"C:\\Users\\HP\\AppData\\Local\\Programs\\Python\\Python312\\Lib\\site-packages\\IPython\\core\\interactiveshell.py\", line 3334, in run_cell_async\n\n  File \"C:\\Users\\HP\\AppData\\Local\\Programs\\Python\\Python312\\Lib\\site-packages\\IPython\\core\\interactiveshell.py\", line 3517, in run_ast_nodes\n\n  File \"C:\\Users\\HP\\AppData\\Local\\Programs\\Python\\Python312\\Lib\\site-packages\\IPython\\core\\interactiveshell.py\", line 3577, in run_code\n\n  File \"C:\\Users\\HP\\AppData\\Local\\Temp\\ipykernel_26388\\245031750.py\", line 11, in <module>\n\n  File \"C:\\Users\\HP\\AppData\\Local\\Programs\\Python\\Python312\\Lib\\site-packages\\keras\\src\\utils\\traceback_utils.py\", line 117, in error_handler\n\n  File \"C:\\Users\\HP\\AppData\\Local\\Programs\\Python\\Python312\\Lib\\site-packages\\keras\\src\\backend\\tensorflow\\trainer.py\", line 368, in fit\n\n  File \"C:\\Users\\HP\\AppData\\Local\\Programs\\Python\\Python312\\Lib\\site-packages\\keras\\src\\backend\\tensorflow\\trainer.py\", line 216, in function\n\n  File \"C:\\Users\\HP\\AppData\\Local\\Programs\\Python\\Python312\\Lib\\site-packages\\keras\\src\\backend\\tensorflow\\trainer.py\", line 129, in multi_step_on_iterator\n\n  File \"C:\\Users\\HP\\AppData\\Local\\Programs\\Python\\Python312\\Lib\\site-packages\\keras\\src\\backend\\tensorflow\\trainer.py\", line 110, in one_step_on_data\n\n  File \"C:\\Users\\HP\\AppData\\Local\\Programs\\Python\\Python312\\Lib\\site-packages\\keras\\src\\backend\\tensorflow\\trainer.py\", line 59, in train_step\n\n  File \"C:\\Users\\HP\\AppData\\Local\\Programs\\Python\\Python312\\Lib\\site-packages\\keras\\src\\trainers\\trainer.py\", line 399, in _compute_loss\n\n  File \"C:\\Users\\HP\\AppData\\Local\\Programs\\Python\\Python312\\Lib\\site-packages\\keras\\src\\trainers\\trainer.py\", line 367, in compute_loss\n\n  File \"C:\\Users\\HP\\AppData\\Local\\Programs\\Python\\Python312\\Lib\\site-packages\\keras\\src\\trainers\\compile_utils.py\", line 692, in __call__\n\n  File \"C:\\Users\\HP\\AppData\\Local\\Programs\\Python\\Python312\\Lib\\site-packages\\keras\\src\\trainers\\compile_utils.py\", line 701, in call\n\n  File \"C:\\Users\\HP\\AppData\\Local\\Programs\\Python\\Python312\\Lib\\site-packages\\keras\\src\\losses\\loss.py\", line 67, in __call__\n\n  File \"C:\\Users\\HP\\AppData\\Local\\Programs\\Python\\Python312\\Lib\\site-packages\\keras\\src\\losses\\losses.py\", line 33, in call\n\n  File \"C:\\Users\\HP\\AppData\\Local\\Temp\\ipykernel_26388\\693965644.py\", line 6, in custom_loss\n\nIncompatible shapes: [4] vs. [4,64]\n\t [[{{node compile_loss/custom_loss/sub}}]] [Op:__inference_multi_step_on_iterator_3208]",
     "output_type": "error",
     "traceback": [
      "\u001b[1;31m---------------------------------------------------------------------------\u001b[0m",
      "\u001b[1;31mInvalidArgumentError\u001b[0m                      Traceback (most recent call last)",
      "Cell \u001b[1;32mIn[35], line 11\u001b[0m\n\u001b[0;32m      8\u001b[0m y_train \u001b[38;5;241m=\u001b[39m np\u001b[38;5;241m.\u001b[39marray([\u001b[38;5;241m0\u001b[39m, \u001b[38;5;241m0\u001b[39m, \u001b[38;5;241m0\u001b[39m, \u001b[38;5;241m1\u001b[39m])  \u001b[38;5;66;03m# AND gate labels\u001b[39;00m\n\u001b[0;32m     10\u001b[0m \u001b[38;5;66;03m# Train the model\u001b[39;00m\n\u001b[1;32m---> 11\u001b[0m \u001b[43mmodel\u001b[49m\u001b[38;5;241;43m.\u001b[39;49m\u001b[43mfit\u001b[49m\u001b[43m(\u001b[49m\u001b[43mX_train\u001b[49m\u001b[43m,\u001b[49m\u001b[43m \u001b[49m\u001b[43my_train\u001b[49m\u001b[43m,\u001b[49m\u001b[43m \u001b[49m\u001b[43mepochs\u001b[49m\u001b[38;5;241;43m=\u001b[39;49m\u001b[38;5;241;43m10\u001b[39;49m\u001b[43m,\u001b[49m\u001b[43m \u001b[49m\u001b[43mbatch_size\u001b[49m\u001b[38;5;241;43m=\u001b[39;49m\u001b[38;5;241;43m32\u001b[39;49m\u001b[43m)\u001b[49m\n\u001b[0;32m     13\u001b[0m \u001b[38;5;66;03m# Create the model\u001b[39;00m\n\u001b[0;32m     14\u001b[0m model \u001b[38;5;241m=\u001b[39m Sequential([\n\u001b[0;32m     15\u001b[0m     Dense(\u001b[38;5;241m16\u001b[39m, input_dim\u001b[38;5;241m=\u001b[39m\u001b[38;5;241m2\u001b[39m, activation\u001b[38;5;241m=\u001b[39m\u001b[38;5;124m'\u001b[39m\u001b[38;5;124mrelu\u001b[39m\u001b[38;5;124m'\u001b[39m),  \u001b[38;5;66;03m# Hidden layer with 16 neurons\u001b[39;00m\n\u001b[0;32m     16\u001b[0m     Dense(\u001b[38;5;241m1\u001b[39m, activation\u001b[38;5;241m=\u001b[39m\u001b[38;5;124m'\u001b[39m\u001b[38;5;124msigmoid\u001b[39m\u001b[38;5;124m'\u001b[39m)  \u001b[38;5;66;03m# Output layer for binary classification\u001b[39;00m\n\u001b[0;32m     17\u001b[0m ])\n",
      "File \u001b[1;32m~\\AppData\\Local\\Programs\\Python\\Python312\\Lib\\site-packages\\keras\\src\\utils\\traceback_utils.py:122\u001b[0m, in \u001b[0;36mfilter_traceback.<locals>.error_handler\u001b[1;34m(*args, **kwargs)\u001b[0m\n\u001b[0;32m    119\u001b[0m     filtered_tb \u001b[38;5;241m=\u001b[39m _process_traceback_frames(e\u001b[38;5;241m.\u001b[39m__traceback__)\n\u001b[0;32m    120\u001b[0m     \u001b[38;5;66;03m# To get the full stack trace, call:\u001b[39;00m\n\u001b[0;32m    121\u001b[0m     \u001b[38;5;66;03m# `keras.config.disable_traceback_filtering()`\u001b[39;00m\n\u001b[1;32m--> 122\u001b[0m     \u001b[38;5;28;01mraise\u001b[39;00m e\u001b[38;5;241m.\u001b[39mwith_traceback(filtered_tb) \u001b[38;5;28;01mfrom\u001b[39;00m \u001b[38;5;28;01mNone\u001b[39;00m\n\u001b[0;32m    123\u001b[0m \u001b[38;5;28;01mfinally\u001b[39;00m:\n\u001b[0;32m    124\u001b[0m     \u001b[38;5;28;01mdel\u001b[39;00m filtered_tb\n",
      "File \u001b[1;32m~\\AppData\\Local\\Programs\\Python\\Python312\\Lib\\site-packages\\tensorflow\\python\\eager\\execute.py:53\u001b[0m, in \u001b[0;36mquick_execute\u001b[1;34m(op_name, num_outputs, inputs, attrs, ctx, name)\u001b[0m\n\u001b[0;32m     51\u001b[0m \u001b[38;5;28;01mtry\u001b[39;00m:\n\u001b[0;32m     52\u001b[0m   ctx\u001b[38;5;241m.\u001b[39mensure_initialized()\n\u001b[1;32m---> 53\u001b[0m   tensors \u001b[38;5;241m=\u001b[39m pywrap_tfe\u001b[38;5;241m.\u001b[39mTFE_Py_Execute(ctx\u001b[38;5;241m.\u001b[39m_handle, device_name, op_name,\n\u001b[0;32m     54\u001b[0m                                       inputs, attrs, num_outputs)\n\u001b[0;32m     55\u001b[0m \u001b[38;5;28;01mexcept\u001b[39;00m core\u001b[38;5;241m.\u001b[39m_NotOkStatusException \u001b[38;5;28;01mas\u001b[39;00m e:\n\u001b[0;32m     56\u001b[0m   \u001b[38;5;28;01mif\u001b[39;00m name \u001b[38;5;129;01mis\u001b[39;00m \u001b[38;5;129;01mnot\u001b[39;00m \u001b[38;5;28;01mNone\u001b[39;00m:\n",
      "\u001b[1;31mInvalidArgumentError\u001b[0m: Graph execution error:\n\nDetected at node compile_loss/custom_loss/sub defined at (most recent call last):\n  File \"<frozen runpy>\", line 198, in _run_module_as_main\n\n  File \"<frozen runpy>\", line 88, in _run_code\n\n  File \"C:\\Users\\HP\\AppData\\Roaming\\Python\\Python312\\site-packages\\ipykernel_launcher.py\", line 17, in <module>\n\n  File \"C:\\Users\\HP\\AppData\\Local\\Programs\\Python\\Python312\\Lib\\site-packages\\traitlets\\config\\application.py\", line 1075, in launch_instance\n\n  File \"C:\\Users\\HP\\AppData\\Roaming\\Python\\Python312\\site-packages\\ipykernel\\kernelapp.py\", line 737, in start\n\n  File \"C:\\Users\\HP\\AppData\\Local\\Programs\\Python\\Python312\\Lib\\site-packages\\tornado\\platform\\asyncio.py\", line 205, in start\n\n  File \"C:\\Users\\HP\\AppData\\Local\\Programs\\Python\\Python312\\Lib\\asyncio\\base_events.py\", line 641, in run_forever\n\n  File \"C:\\Users\\HP\\AppData\\Local\\Programs\\Python\\Python312\\Lib\\asyncio\\base_events.py\", line 1986, in _run_once\n\n  File \"C:\\Users\\HP\\AppData\\Local\\Programs\\Python\\Python312\\Lib\\asyncio\\events.py\", line 88, in _run\n\n  File \"C:\\Users\\HP\\AppData\\Roaming\\Python\\Python312\\site-packages\\ipykernel\\kernelbase.py\", line 524, in dispatch_queue\n\n  File \"C:\\Users\\HP\\AppData\\Roaming\\Python\\Python312\\site-packages\\ipykernel\\kernelbase.py\", line 513, in process_one\n\n  File \"C:\\Users\\HP\\AppData\\Roaming\\Python\\Python312\\site-packages\\ipykernel\\kernelbase.py\", line 418, in dispatch_shell\n\n  File \"C:\\Users\\HP\\AppData\\Roaming\\Python\\Python312\\site-packages\\ipykernel\\kernelbase.py\", line 758, in execute_request\n\n  File \"C:\\Users\\HP\\AppData\\Roaming\\Python\\Python312\\site-packages\\ipykernel\\ipkernel.py\", line 426, in do_execute\n\n  File \"C:\\Users\\HP\\AppData\\Roaming\\Python\\Python312\\site-packages\\ipykernel\\zmqshell.py\", line 549, in run_cell\n\n  File \"C:\\Users\\HP\\AppData\\Local\\Programs\\Python\\Python312\\Lib\\site-packages\\IPython\\core\\interactiveshell.py\", line 3075, in run_cell\n\n  File \"C:\\Users\\HP\\AppData\\Local\\Programs\\Python\\Python312\\Lib\\site-packages\\IPython\\core\\interactiveshell.py\", line 3130, in _run_cell\n\n  File \"C:\\Users\\HP\\AppData\\Local\\Programs\\Python\\Python312\\Lib\\site-packages\\IPython\\core\\async_helpers.py\", line 128, in _pseudo_sync_runner\n\n  File \"C:\\Users\\HP\\AppData\\Local\\Programs\\Python\\Python312\\Lib\\site-packages\\IPython\\core\\interactiveshell.py\", line 3334, in run_cell_async\n\n  File \"C:\\Users\\HP\\AppData\\Local\\Programs\\Python\\Python312\\Lib\\site-packages\\IPython\\core\\interactiveshell.py\", line 3517, in run_ast_nodes\n\n  File \"C:\\Users\\HP\\AppData\\Local\\Programs\\Python\\Python312\\Lib\\site-packages\\IPython\\core\\interactiveshell.py\", line 3577, in run_code\n\n  File \"C:\\Users\\HP\\AppData\\Local\\Temp\\ipykernel_26388\\245031750.py\", line 11, in <module>\n\n  File \"C:\\Users\\HP\\AppData\\Local\\Programs\\Python\\Python312\\Lib\\site-packages\\keras\\src\\utils\\traceback_utils.py\", line 117, in error_handler\n\n  File \"C:\\Users\\HP\\AppData\\Local\\Programs\\Python\\Python312\\Lib\\site-packages\\keras\\src\\backend\\tensorflow\\trainer.py\", line 368, in fit\n\n  File \"C:\\Users\\HP\\AppData\\Local\\Programs\\Python\\Python312\\Lib\\site-packages\\keras\\src\\backend\\tensorflow\\trainer.py\", line 216, in function\n\n  File \"C:\\Users\\HP\\AppData\\Local\\Programs\\Python\\Python312\\Lib\\site-packages\\keras\\src\\backend\\tensorflow\\trainer.py\", line 129, in multi_step_on_iterator\n\n  File \"C:\\Users\\HP\\AppData\\Local\\Programs\\Python\\Python312\\Lib\\site-packages\\keras\\src\\backend\\tensorflow\\trainer.py\", line 110, in one_step_on_data\n\n  File \"C:\\Users\\HP\\AppData\\Local\\Programs\\Python\\Python312\\Lib\\site-packages\\keras\\src\\backend\\tensorflow\\trainer.py\", line 59, in train_step\n\n  File \"C:\\Users\\HP\\AppData\\Local\\Programs\\Python\\Python312\\Lib\\site-packages\\keras\\src\\trainers\\trainer.py\", line 399, in _compute_loss\n\n  File \"C:\\Users\\HP\\AppData\\Local\\Programs\\Python\\Python312\\Lib\\site-packages\\keras\\src\\trainers\\trainer.py\", line 367, in compute_loss\n\n  File \"C:\\Users\\HP\\AppData\\Local\\Programs\\Python\\Python312\\Lib\\site-packages\\keras\\src\\trainers\\compile_utils.py\", line 692, in __call__\n\n  File \"C:\\Users\\HP\\AppData\\Local\\Programs\\Python\\Python312\\Lib\\site-packages\\keras\\src\\trainers\\compile_utils.py\", line 701, in call\n\n  File \"C:\\Users\\HP\\AppData\\Local\\Programs\\Python\\Python312\\Lib\\site-packages\\keras\\src\\losses\\loss.py\", line 67, in __call__\n\n  File \"C:\\Users\\HP\\AppData\\Local\\Programs\\Python\\Python312\\Lib\\site-packages\\keras\\src\\losses\\losses.py\", line 33, in call\n\n  File \"C:\\Users\\HP\\AppData\\Local\\Temp\\ipykernel_26388\\693965644.py\", line 6, in custom_loss\n\nIncompatible shapes: [4] vs. [4,64]\n\t [[{{node compile_loss/custom_loss/sub}}]] [Op:__inference_multi_step_on_iterator_3208]"
     ]
    }
   ],
   "source": [
    "#2. How can you build a neural network with one hidden layer using Keras?\n",
    "from tensorflow.keras.models import Sequential\n",
    "from tensorflow.keras.layers import Dense\n",
    "import numpy as np\n",
    "\n",
    "# Example data (replace this with your actual dataset)\n",
    "X_train = np.array([[0, 0], [0, 1], [1, 0], [1, 1]])\n",
    "y_train = np.array([0, 0, 0, 1])  # AND gate labels\n",
    "\n",
    "# Train the model\n",
    "model.fit(X_train, y_train, epochs=10, batch_size=32)\n",
    "\n",
    "# Create the model\n",
    "model = Sequential([\n",
    "    Dense(16, input_dim=2, activation='relu'),  # Hidden layer with 16 neurons\n",
    "    Dense(1, activation='sigmoid')  # Output layer for binary classification\n",
    "])\n",
    "\n",
    "# Compile the model\n",
    "model.compile(optimizer='adam', loss='binary_crossentropy', metrics=['accuracy'])\n",
    "\n",
    "# Train the model\n",
    "model.fit(X_train, y_train, epochs=10, batch_size=32)\n"
   ]
  },
  {
   "cell_type": "code",
   "execution_count": null,
   "id": "b5912f8c-dc98-465f-a36a-89cd1b608679",
   "metadata": {},
   "outputs": [],
   "source": [
    "#3. How do you initialize weights using the Xavier (Glorot) initialization method in Keras?\n",
    "from tensorflow.keras.initializers import GlorotUniform\n",
    "\n",
    "# Use Xavier initialization\n",
    "model.add(Dense(16, activation='relu', kernel_initializer=GlorotUniform()))\n"
   ]
  },
  {
   "cell_type": "code",
   "execution_count": null,
   "id": "2775ee3a-0bf2-4b4c-bb8e-973061b3fd31",
   "metadata": {},
   "outputs": [],
   "source": [
    "#4. How can you apply different activation functions in a neural network in Keras?\n",
    "Dense(16, activation='tanh')  # Hidden layer with tanh activation\n",
    "Dense(1, activation='softmax')  # Output layer with softmax activation\n"
   ]
  },
  {
   "cell_type": "code",
   "execution_count": null,
   "id": "fa9134ea-8289-4311-8fcb-8126687a3514",
   "metadata": {},
   "outputs": [],
   "source": [
    "#5. How do you add dropout to a neural network model to prevent overfitting?\n",
    "from tensorflow.keras.layers import Dropout\n",
    "\n",
    "model.add(Dense(64, activation='relu'))\n",
    "model.add(Dropout(0.5))  # Drop 50% of neurons\n"
   ]
  },
  {
   "cell_type": "code",
   "execution_count": null,
   "id": "88bf5ae6-1269-4909-9d7b-42620895887a",
   "metadata": {},
   "outputs": [],
   "source": [
    "#6. How do you manually implement forward propagation in a simple neural network?\n",
    "import numpy as np\n",
    "\n",
    "# Sigmoid activation\n",
    "def sigmoid(x):\n",
    "    return 1 / (1 + np.exp(-x))\n",
    "\n",
    "# Forward propagation\n",
    "def forward_propagation(X, weights, biases):\n",
    "    layer1 = sigmoid(np.dot(X, weights[0]) + biases[0])\n",
    "    output = sigmoid(np.dot(layer1, weights[1]) + biases[1])\n",
    "    return output\n",
    "\n",
    "# Example inputs\n",
    "X = np.array([[0, 1], [1, 0]])\n",
    "weights = [np.random.rand(2, 3), np.random.rand(3, 1)]\n",
    "biases = [np.random.rand(3), np.random.rand(1)]\n",
    "output = forward_propagation(X, weights, biases)\n"
   ]
  },
  {
   "cell_type": "code",
   "execution_count": null,
   "id": "17fbd31b-ce17-4b84-8003-e14aeccf5bbd",
   "metadata": {},
   "outputs": [],
   "source": [
    "#7. How do you add batch normalization to a neural network model in Keras?\n",
    "from tensorflow.keras.layers import BatchNormalization\n",
    "\n",
    "model.add(Dense(64, activation='relu'))\n",
    "model.add(BatchNormalization())  # Add batch normalization layer\n"
   ]
  },
  {
   "cell_type": "code",
   "execution_count": 39,
   "id": "a896ac2f-3d3f-4db5-8d5b-287f15328e26",
   "metadata": {},
   "outputs": [
    {
     "name": "stdout",
     "output_type": "stream",
     "text": [
      "Epoch 1/10\n"
     ]
    },
    {
     "name": "stderr",
     "output_type": "stream",
     "text": [
      "C:\\Users\\HP\\AppData\\Local\\Programs\\Python\\Python312\\Lib\\site-packages\\keras\\src\\layers\\core\\dense.py:87: UserWarning: Do not pass an `input_shape`/`input_dim` argument to a layer. When using Sequential models, prefer using an `Input(shape)` object as the first layer in the model instead.\n",
      "  super().__init__(activity_regularizer=activity_regularizer, **kwargs)\n"
     ]
    },
    {
     "name": "stdout",
     "output_type": "stream",
     "text": [
      "\u001b[1m1/1\u001b[0m \u001b[32m━━━━━━━━━━━━━━━━━━━━\u001b[0m\u001b[37m\u001b[0m \u001b[1m2s\u001b[0m 2s/step - accuracy: 0.6667 - loss: 0.6557 - val_accuracy: 0.0000e+00 - val_loss: 0.8016\n",
      "Epoch 2/10\n",
      "\u001b[1m1/1\u001b[0m \u001b[32m━━━━━━━━━━━━━━━━━━━━\u001b[0m\u001b[37m\u001b[0m \u001b[1m0s\u001b[0m 321ms/step - accuracy: 0.6667 - loss: 0.6544 - val_accuracy: 0.0000e+00 - val_loss: 0.8023\n",
      "Epoch 3/10\n",
      "\u001b[1m1/1\u001b[0m \u001b[32m━━━━━━━━━━━━━━━━━━━━\u001b[0m\u001b[37m\u001b[0m \u001b[1m0s\u001b[0m 206ms/step - accuracy: 0.6667 - loss: 0.6531 - val_accuracy: 0.0000e+00 - val_loss: 0.8030\n",
      "Epoch 4/10\n",
      "\u001b[1m1/1\u001b[0m \u001b[32m━━━━━━━━━━━━━━━━━━━━\u001b[0m\u001b[37m\u001b[0m \u001b[1m0s\u001b[0m 386ms/step - accuracy: 0.6667 - loss: 0.6518 - val_accuracy: 0.0000e+00 - val_loss: 0.8036\n",
      "Epoch 5/10\n",
      "\u001b[1m1/1\u001b[0m \u001b[32m━━━━━━━━━━━━━━━━━━━━\u001b[0m\u001b[37m\u001b[0m \u001b[1m0s\u001b[0m 338ms/step - accuracy: 0.6667 - loss: 0.6506 - val_accuracy: 0.0000e+00 - val_loss: 0.8041\n",
      "Epoch 6/10\n",
      "\u001b[1m1/1\u001b[0m \u001b[32m━━━━━━━━━━━━━━━━━━━━\u001b[0m\u001b[37m\u001b[0m \u001b[1m0s\u001b[0m 328ms/step - accuracy: 0.6667 - loss: 0.6493 - val_accuracy: 0.0000e+00 - val_loss: 0.8046\n",
      "Epoch 7/10\n",
      "\u001b[1m1/1\u001b[0m \u001b[32m━━━━━━━━━━━━━━━━━━━━\u001b[0m\u001b[37m\u001b[0m \u001b[1m0s\u001b[0m 333ms/step - accuracy: 0.6667 - loss: 0.6481 - val_accuracy: 0.0000e+00 - val_loss: 0.8050\n",
      "Epoch 8/10\n",
      "\u001b[1m1/1\u001b[0m \u001b[32m━━━━━━━━━━━━━━━━━━━━\u001b[0m\u001b[37m\u001b[0m \u001b[1m0s\u001b[0m 214ms/step - accuracy: 0.6667 - loss: 0.6469 - val_accuracy: 0.0000e+00 - val_loss: 0.8054\n",
      "Epoch 9/10\n",
      "\u001b[1m1/1\u001b[0m \u001b[32m━━━━━━━━━━━━━━━━━━━━\u001b[0m\u001b[37m\u001b[0m \u001b[1m0s\u001b[0m 387ms/step - accuracy: 0.6667 - loss: 0.6456 - val_accuracy: 0.0000e+00 - val_loss: 0.8058\n",
      "Epoch 10/10\n",
      "\u001b[1m1/1\u001b[0m \u001b[32m━━━━━━━━━━━━━━━━━━━━\u001b[0m\u001b[37m\u001b[0m \u001b[1m0s\u001b[0m 243ms/step - accuracy: 0.6667 - loss: 0.6444 - val_accuracy: 0.0000e+00 - val_loss: 0.8062\n"
     ]
    },
    {
     "data": {
      "image/png": "[encoded data removed]",
      "text/plain": [
       "<Figure size 1200x600 with 2 Axes>"
      ]
     },
     "metadata": {},
     "output_type": "display_data"
    }
   ],
   "source": [
    "#8. How can you visualize the training process with accuracy and loss curves?\n",
    "import numpy as np\n",
    "import matplotlib.pyplot as plt\n",
    "from sklearn.model_selection import train_test_split\n",
    "from tensorflow.keras.models import Sequential\n",
    "from tensorflow.keras.layers import Dense\n",
    "from tensorflow.keras.optimizers import Adam\n",
    "\n",
    "# Example data (replace with your actual dataset)\n",
    "X = np.array([[0, 0], [0, 1], [1, 0], [1, 1]])  # Input data\n",
    "y = np.array([0, 0, 0, 1])  # Labels (for AND gate)\n",
    "\n",
    "# Split the data into training and validation sets (80% train, 20% validation)\n",
    "X_train, X_val, y_train, y_val = train_test_split(X, y, test_size=0.2, random_state=42)\n",
    "\n",
    "# Create the model\n",
    "model = Sequential([\n",
    "    Dense(16, activation='relu', input_dim=2),  # First hidden layer\n",
    "    Dense(1, activation='sigmoid')  # Output layer\n",
    "])\n",
    "\n",
    "# Compile the model\n",
    "model.compile(optimizer=Adam(), loss='binary_crossentropy', metrics=['accuracy'])\n",
    "\n",
    "# Train the model\n",
    "history = model.fit(X_train, y_train, epochs=10, validation_data=(X_val, y_val))\n",
    "\n",
    "# Visualize accuracy and loss\n",
    "plt.figure(figsize=(12, 6))\n",
    "\n",
    "# Plot accuracy\n",
    "plt.subplot(1, 2, 1)\n",
    "plt.plot(history.history['accuracy'], label='Train Accuracy')\n",
    "plt.plot(history.history['val_accuracy'], label='Validation Accuracy')\n",
    "plt.xlabel('Epochs')\n",
    "plt.ylabel('Accuracy')\n",
    "plt.legend()\n",
    "\n",
    "# Plot loss\n",
    "plt.subplot(1, 2, 2)\n",
    "plt.plot(history.history['loss'], label='Train Loss')\n",
    "plt.plot(history.history['val_loss'], label='Validation Loss')\n",
    "plt.xlabel('Epochs')\n",
    "plt.ylabel('Loss')\n",
    "plt.legend()\n",
    "\n",
    "plt.tight_layout()\n",
    "plt.show()\n",
    "\n"
   ]
  },
  {
   "cell_type": "code",
   "execution_count": 30,
   "id": "9b6bcffb-84e6-440a-9e38-c6006c9f9745",
   "metadata": {},
   "outputs": [],
   "source": [
    "#9. How can you use gradient clipping in Keras to control the gradient size and prevent exploding gradients?\n",
    "from tensorflow.keras.optimizers import Adam\n",
    "\n",
    "# Set gradient clipping\n",
    "optimizer = Adam(learning_rate=0.001, clipnorm=1.0)\n",
    "model.compile(optimizer=optimizer, loss='binary_crossentropy')\n"
   ]
  },
  {
   "cell_type": "code",
   "execution_count": 31,
   "id": "b63bbfa0-f3fd-43bc-bf4e-71730bf7b65d",
   "metadata": {},
   "outputs": [],
   "source": [
    "#10. How can you create a custom loss function in Keras?\n",
    "import tensorflow as tf\n",
    "\n",
    "# Custom loss function\n",
    "def custom_loss(y_true, y_pred):\n",
    "    return tf.reduce_mean(tf.square(y_true - y_pred))\n",
    "\n",
    "model.compile(optimizer='adam', loss=custom_loss)\n"
   ]
  },
  {
   "cell_type": "code",
   "execution_count": null,
   "id": "bcc4af01-6889-47b1-8218-b6c1bb0750f5",
   "metadata": {},
   "outputs": [],
   "source": []
  }
 ],
 "metadata": {
  "kernelspec": {
   "display_name": "Python 3 (ipykernel)",
   "language": "python",
   "name": "python3"
  },
  "language_info": {
   "codemirror_mode": {
    "name": "ipython",
    "version": 3
   },
   "file_extension": ".py",
   "mimetype": "text/x-python",
   "name": "python",
   "nbconvert_exporter": "python",
   "pygments_lexer": "ipython3",
   "version": "3.12.5"
  }
 },
 "nbformat": 4,
 "nbformat_minor": 5
}
