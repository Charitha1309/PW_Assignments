{
 "cells": [
  {
   "cell_type": "code",
   "execution_count": null,
   "id": "d4c3d2b2-9ba1-46a9-942b-fb4ae3ebeeae",
   "metadata": {},
   "outputs": [],
   "source": [
    "#1.Explain the importance of Functions?"
   ]
  },
  {
   "cell_type": "markdown",
   "id": "86988877-747e-4121-8661-5f0859611c42",
   "metadata": {},
   "source": [
    "Functions improve code reusability, readability, maintainability, modularity, and abstraction. They allow specific tasks to be performed efficiently."
   ]
  },
  {
   "cell_type": "code",
   "execution_count": null,
   "id": "d2f20133-35c4-4e3f-8e39-dbad1b8ee47a",
   "metadata": {},
   "outputs": [],
   "source": [
    "#2.Write a basic function to greet students?"
   ]
  },
  {
   "cell_type": "code",
   "execution_count": 6,
   "id": "48fce183-f885-4182-a74a-bbfc5e50c0dd",
   "metadata": {},
   "outputs": [
    {
     "name": "stdout",
     "output_type": "stream",
     "text": [
      "Hello, students! Welcome to the class.\n"
     ]
    }
   ],
   "source": [
    "def greet_students():\n",
    "    print(\"Hello, students! Welcome to the class.\")\n",
    "\n",
    "# Call the function\n",
    "greet_students()\n"
   ]
  },
  {
   "cell_type": "code",
   "execution_count": null,
   "id": "032678df-d80e-47b4-89e7-2ad5f050730c",
   "metadata": {},
   "outputs": [],
   "source": [
    "#3.What is the difference between print and return statements?"
   ]
  },
  {
   "cell_type": "markdown",
   "id": "f10d6d0d-6db9-4759-a656-91597bfe26a7",
   "metadata": {},
   "source": [
    "1.print: Displays the output to the console but does not store the result.\n",
    "2.return: Sends the output back to the caller, allowing the value to be used further."
   ]
  },
  {
   "cell_type": "code",
   "execution_count": 8,
   "id": "a0ec6ae9-b956-4213-92d3-ae3cfb562a0c",
   "metadata": {},
   "outputs": [
    {
     "name": "stdout",
     "output_type": "stream",
     "text": [
      "This is a print statement.\n",
      "This is a return statement.\n"
     ]
    }
   ],
   "source": [
    "def print_example():\n",
    "    print(\"This is a print statement.\")\n",
    "\n",
    "def return_example():\n",
    "    return \"This is a return statement.\"\n",
    "\n",
    "# Call examples\n",
    "print_example()\n",
    "result = return_example()\n",
    "print(result)  # Displays the returned value\n"
   ]
  },
  {
   "cell_type": "code",
   "execution_count": null,
   "id": "ad1bf5d0-c3fd-4ac5-a1c2-c92fe316acbc",
   "metadata": {},
   "outputs": [],
   "source": [
    "#4.What are *args and **kwargs?"
   ]
  },
  {
   "cell_type": "code",
   "execution_count": null,
   "id": "7e24872b-3f91-4502-9348-32fd27b09da1",
   "metadata": {},
   "outputs": [],
   "source": [
    "1.*args: Used to pass a variable number of positional arguments.\n",
    "2.**kwargs: Used to pass a variable number of keyword arguments."
   ]
  },
  {
   "cell_type": "code",
   "execution_count": 9,
   "id": "f4573414-e12c-47eb-a318-284380131b57",
   "metadata": {},
   "outputs": [
    {
     "name": "stdout",
     "output_type": "stream",
     "text": [
      "Positional arguments: (1, 2, 3)\n",
      "Keyword arguments: {'name': 'Alice', 'age': 25}\n"
     ]
    }
   ],
   "source": [
    "def example_args(*args):\n",
    "    print(\"Positional arguments:\", args)\n",
    "\n",
    "def example_kwargs(**kwargs):\n",
    "    print(\"Keyword arguments:\", kwargs)\n",
    "\n",
    "example_args(1, 2, 3)\n",
    "example_kwargs(name=\"Alice\", age=25)\n"
   ]
  },
  {
   "cell_type": "code",
   "execution_count": null,
   "id": "685eb001-a3c7-479c-b564-d3b8839dbc02",
   "metadata": {},
   "outputs": [],
   "source": [
    "#5.Explain the iterator function?"
   ]
  },
  {
   "cell_type": "code",
   "execution_count": null,
   "id": "40a231ff-c1d0-4d12-8b4a-861707621e9f",
   "metadata": {},
   "outputs": [],
   "source": [
    "An iterator is an object that allows traversal through all elements of a collection. It uses __iter__() and __next__() methods."
   ]
  },
  {
   "cell_type": "code",
   "execution_count": null,
   "id": "65a23009-67e6-4685-a678-339d8722283c",
   "metadata": {},
   "outputs": [],
   "source": [
    "#6.Write a code that generates the squares of numbers from 1 to n using a generator?"
   ]
  },
  {
   "cell_type": "code",
   "execution_count": 10,
   "id": "e485e9d7-7744-42f0-be0a-dd7bd9afde46",
   "metadata": {},
   "outputs": [
    {
     "name": "stdout",
     "output_type": "stream",
     "text": [
      "1\n",
      "4\n",
      "9\n",
      "16\n",
      "25\n"
     ]
    }
   ],
   "source": [
    "def square_generator(n):\n",
    "    for i in range(1, n + 1):\n",
    "        yield i ** 2\n",
    "\n",
    "for square in square_generator(5):\n",
    "    print(square)\n"
   ]
  },
  {
   "cell_type": "code",
   "execution_count": null,
   "id": "e4b0277c-8b1b-4f41-a662-78539c24955f",
   "metadata": {},
   "outputs": [],
   "source": [
    "#7.Write a code that generates palindromic numbers up to n using a generator?"
   ]
  },
  {
   "cell_type": "code",
   "execution_count": 11,
   "id": "13120685-b932-4971-81e0-7dccbe379e75",
   "metadata": {},
   "outputs": [
    {
     "name": "stdout",
     "output_type": "stream",
     "text": [
      "0\n",
      "1\n",
      "2\n",
      "3\n",
      "4\n",
      "5\n",
      "6\n",
      "7\n",
      "8\n",
      "9\n",
      "11\n",
      "22\n",
      "33\n",
      "44\n"
     ]
    }
   ],
   "source": [
    "def palindrome_generator(n):\n",
    "    for i in range(n + 1):\n",
    "        if str(i) == str(i)[::-1]:\n",
    "            yield i\n",
    "\n",
    "for palindrome in palindrome_generator(50):\n",
    "    print(palindrome)\n"
   ]
  },
  {
   "cell_type": "code",
   "execution_count": null,
   "id": "851041a9-2a95-4794-8d6c-6e1dd84557a4",
   "metadata": {},
   "outputs": [],
   "source": [
    "#8.Write a code that generates even numbers from 2 to n using a generator?"
   ]
  },
  {
   "cell_type": "code",
   "execution_count": 12,
   "id": "74e52547-2ad6-42ba-9c88-c409547d663d",
   "metadata": {},
   "outputs": [
    {
     "name": "stdout",
     "output_type": "stream",
     "text": [
      "2\n",
      "4\n",
      "6\n",
      "8\n",
      "10\n"
     ]
    }
   ],
   "source": [
    "def even_number_generator(n):\n",
    "    for i in range(2, n + 1, 2):\n",
    "        yield i\n",
    "\n",
    "for even in even_number_generator(10):\n",
    "    print(even)\n"
   ]
  },
  {
   "cell_type": "code",
   "execution_count": null,
   "id": "f30543d3-ff84-4f8d-bd33-81a262bac1c3",
   "metadata": {},
   "outputs": [],
   "source": [
    "#9.Write a code that generates powers of two up to n using a generator?"
   ]
  },
  {
   "cell_type": "code",
   "execution_count": 13,
   "id": "012d7bfd-9cac-403c-9ae0-9cc277fd434a",
   "metadata": {},
   "outputs": [
    {
     "name": "stdout",
     "output_type": "stream",
     "text": [
      "1\n",
      "2\n",
      "4\n",
      "8\n",
      "16\n",
      "32\n"
     ]
    }
   ],
   "source": [
    "def power_of_two_generator(n):\n",
    "    for i in range(n + 1):\n",
    "        yield 2 ** i\n",
    "\n",
    "for power in power_of_two_generator(5):\n",
    "    print(power)\n"
   ]
  },
  {
   "cell_type": "code",
   "execution_count": null,
   "id": "cff0c38b-a3a4-4e2c-a943-3eed9c8a42e3",
   "metadata": {},
   "outputs": [],
   "source": [
    "#10.Write a code that generates prime numbers up to n using a generator?"
   ]
  },
  {
   "cell_type": "code",
   "execution_count": 14,
   "id": "af983675-3574-49a8-afe8-2aa03e143615",
   "metadata": {},
   "outputs": [
    {
     "name": "stdout",
     "output_type": "stream",
     "text": [
      "2\n",
      "3\n",
      "5\n",
      "7\n",
      "11\n",
      "13\n",
      "17\n",
      "19\n"
     ]
    }
   ],
   "source": [
    "def prime_generator(n):\n",
    "    for num in range(2, n + 1):\n",
    "        if all(num % i != 0 for i in range(2, int(num ** 0.5) + 1)):\n",
    "            yield num\n",
    "\n",
    "for prime in prime_generator(20):\n",
    "    print(prime)\n"
   ]
  },
  {
   "cell_type": "code",
   "execution_count": null,
   "id": "c7609316-9743-46de-a4b7-21638d90752c",
   "metadata": {},
   "outputs": [],
   "source": [
    "#11.Write a code that uses a lambda function to calculate the sum of two numbers?"
   ]
  },
  {
   "cell_type": "code",
   "execution_count": 15,
   "id": "dbec7534-9cfe-47ed-b393-63869e421a8d",
   "metadata": {},
   "outputs": [
    {
     "name": "stdout",
     "output_type": "stream",
     "text": [
      "30\n"
     ]
    }
   ],
   "source": [
    "sum_lambda = lambda a, b: a + b\n",
    "print(sum_lambda(10, 20))\n"
   ]
  },
  {
   "cell_type": "code",
   "execution_count": null,
   "id": "24a4df4e-984c-496a-b1b1-6f57c472a6d9",
   "metadata": {},
   "outputs": [],
   "source": [
    "#12.Write a code that uses a lambda function to calculate the square of a given number?"
   ]
  },
  {
   "cell_type": "code",
   "execution_count": 20,
   "id": "de4c5146-1a83-4b79-be81-9bf208082607",
   "metadata": {},
   "outputs": [
    {
     "name": "stdout",
     "output_type": "stream",
     "text": [
      "The square of 5 is 25\n"
     ]
    }
   ],
   "source": [
    "# Lambda function to calculate the square\n",
    "square_lambda = lambda x: x ** 2\n",
    "\n",
    "# Example usage\n",
    "number = 5\n",
    "print(f\"The square of {number} is {square_lambda(number)}\")\n",
    "\n"
   ]
  },
  {
   "cell_type": "code",
   "execution_count": null,
   "id": "c784a5fb-2cb8-4428-aff8-5a69cbc0bf49",
   "metadata": {},
   "outputs": [],
   "source": [
    "#13.Write a code that uses a lambda function to check whether a given number is even or odd?\n"
   ]
  },
  {
   "cell_type": "code",
   "execution_count": 19,
   "id": "0b36635e-a251-4ae9-a3ca-f5cc96082ee5",
   "metadata": {},
   "outputs": [
    {
     "name": "stdout",
     "output_type": "stream",
     "text": [
      "Odd\n"
     ]
    }
   ],
   "source": [
    "is_even = lambda x: \"Even\" if x % 2 == 0 else \"Odd\"\n",
    "print(is_even(7))"
   ]
  },
  {
   "cell_type": "code",
   "execution_count": null,
   "id": "32dff0d2-970b-48c8-9c31-2579787a2135",
   "metadata": {},
   "outputs": [],
   "source": [
    "#14.Write a code that uses a lambda function to concatenate two strings?"
   ]
  },
  {
   "cell_type": "code",
   "execution_count": 17,
   "id": "47ab0980-bb13-4b14-a913-24fa4466598c",
   "metadata": {},
   "outputs": [
    {
     "name": "stdout",
     "output_type": "stream",
     "text": [
      "Hello, World!\n"
     ]
    }
   ],
   "source": [
    "concat_strings = lambda s1, s2: s1 + s2\n",
    "print(concat_strings(\"Hello, \", \"World!\"))\n"
   ]
  },
  {
   "cell_type": "code",
   "execution_count": null,
   "id": "c20519b8-c420-46b1-8021-43d5e6aac605",
   "metadata": {},
   "outputs": [],
   "source": [
    "#15.Write a code that uses a lambda function to find the maximum of three given numbers?"
   ]
  },
  {
   "cell_type": "code",
   "execution_count": 18,
   "id": "8549c7b1-86f9-486f-8376-8416d4b79a43",
   "metadata": {},
   "outputs": [
    {
     "name": "stdout",
     "output_type": "stream",
     "text": [
      "20\n"
     ]
    }
   ],
   "source": [
    "max_of_three = lambda a, b, c: max(a, b, c)\n",
    "print(max_of_three(10, 20, 15))\n"
   ]
  },
  {
   "cell_type": "code",
   "execution_count": null,
   "id": "b5b6b4cf-492d-4d24-b79d-0af920449a24",
   "metadata": {},
   "outputs": [],
   "source": [
    "#16.Write a code that generates the squares of even numbers from a given list?"
   ]
  },
  {
   "cell_type": "code",
   "execution_count": 21,
   "id": "a8b8fdd5-28ba-4b2d-af23-e37b7809687e",
   "metadata": {},
   "outputs": [
    {
     "name": "stdout",
     "output_type": "stream",
     "text": [
      "Squares of even numbers: [4, 16, 36]\n"
     ]
    }
   ],
   "source": [
    "# Function to generate squares of even numbers\n",
    "def squares_of_even_numbers(numbers):\n",
    "    return [x ** 2 for x in numbers if x % 2 == 0]\n",
    "\n",
    "# Example usage\n",
    "numbers = [1, 2, 3, 4, 5, 6]\n",
    "print(\"Squares of even numbers:\", squares_of_even_numbers(numbers))\n"
   ]
  },
  {
   "cell_type": "code",
   "execution_count": null,
   "id": "98c8a42a-2e8d-4484-8df0-6557f5b16de0",
   "metadata": {},
   "outputs": [],
   "source": [
    "#17.Write a code that calculates the product of positive numbers from a given list?"
   ]
  },
  {
   "cell_type": "code",
   "execution_count": 22,
   "id": "4e6df082-ff6a-449f-96cf-6ec8d7363c78",
   "metadata": {},
   "outputs": [
    {
     "name": "stdout",
     "output_type": "stream",
     "text": [
      "Product of positive numbers: 40\n"
     ]
    }
   ],
   "source": [
    "from functools import reduce\n",
    "\n",
    "# Function to calculate the product of positive numbers\n",
    "def product_of_positive_numbers(numbers):\n",
    "    positive_numbers = [x for x in numbers if x > 0]\n",
    "    return reduce(lambda a, b: a * b, positive_numbers, 1)\n",
    "\n",
    "# Example usage\n",
    "numbers = [-1, 2, -3, 4, 5]\n",
    "print(\"Product of positive numbers:\", product_of_positive_numbers(numbers))\n"
   ]
  },
  {
   "cell_type": "code",
   "execution_count": null,
   "id": "53ae7e89-3080-482b-a45c-57170dffdba9",
   "metadata": {},
   "outputs": [],
   "source": [
    "#18.Write a code that doubles the values of odd numbers from a given list?"
   ]
  },
  {
   "cell_type": "code",
   "execution_count": 23,
   "id": "245b2776-8f30-494d-a72b-f0567ca241e8",
   "metadata": {},
   "outputs": [
    {
     "name": "stdout",
     "output_type": "stream",
     "text": [
      "Doubled odd numbers: [2, 2, 6, 4, 10]\n"
     ]
    }
   ],
   "source": [
    "# Function to double odd numbers\n",
    "def double_odd_numbers(numbers):\n",
    "    return [x * 2 if x % 2 != 0 else x for x in numbers]\n",
    "\n",
    "# Example usage\n",
    "numbers = [1, 2, 3, 4, 5]\n",
    "print(\"Doubled odd numbers:\", double_odd_numbers(numbers))\n"
   ]
  },
  {
   "cell_type": "code",
   "execution_count": null,
   "id": "3a6e6e76-b56d-40d8-91cb-75a0847a9dfe",
   "metadata": {},
   "outputs": [],
   "source": [
    "#19.Write a code that calculates the sum of cubes of numbers from a given list?"
   ]
  },
  {
   "cell_type": "code",
   "execution_count": 24,
   "id": "a57e73df-bb97-4a8a-803b-7c788e465ac7",
   "metadata": {},
   "outputs": [
    {
     "name": "stdout",
     "output_type": "stream",
     "text": [
      "Sum of cubes: 36\n"
     ]
    }
   ],
   "source": [
    "# Function to calculate the sum of cubes\n",
    "def sum_of_cubes(numbers):\n",
    "    return sum(x ** 3 for x in numbers)\n",
    "\n",
    "# Example usage\n",
    "numbers = [1, 2, 3]\n",
    "print(\"Sum of cubes:\", sum_of_cubes(numbers))\n"
   ]
  },
  {
   "cell_type": "code",
   "execution_count": null,
   "id": "765b048f-9c2a-4859-af6c-2e7e0b86ed0f",
   "metadata": {},
   "outputs": [],
   "source": [
    "#20.Write a code that filters out prime numbers from a given list?"
   ]
  },
  {
   "cell_type": "code",
   "execution_count": 25,
   "id": "895395b1-b254-4bc1-8d13-a4b7e2d5d3c3",
   "metadata": {},
   "outputs": [
    {
     "name": "stdout",
     "output_type": "stream",
     "text": [
      "Non-prime numbers: [1, 4, 6, 8]\n"
     ]
    }
   ],
   "source": [
    "# Function to filter out prime numbers\n",
    "def filter_primes(numbers):\n",
    "    def is_prime(num):\n",
    "        if num < 2:\n",
    "            return False\n",
    "        for i in range(2, int(num ** 0.5) + 1):\n",
    "            if num % i == 0:\n",
    "                return False\n",
    "        return True\n",
    "\n",
    "    return [x for x in numbers if not is_prime(x)]\n",
    "\n",
    "# Example usage\n",
    "numbers = [1, 2, 3, 4, 5, 6, 7, 8]\n",
    "print(\"Non-prime numbers:\", filter_primes(numbers))\n"
   ]
  },
  {
   "cell_type": "code",
   "execution_count": null,
   "id": "2c5a6cdc-6ced-44d2-bcd4-393eaaade5a7",
   "metadata": {},
   "outputs": [],
   "source": [
    "#21.What is encapsulation in OOP?"
   ]
  },
  {
   "cell_type": "code",
   "execution_count": null,
   "id": "0613d960-0fa9-433c-aa84-4eeee87e517f",
   "metadata": {},
   "outputs": [],
   "source": [
    "Encapsulation in Object-Oriented Programming (OOP) is the concept of bundling data (attributes) and methods (functions) that operate on the data into a single unit, typically a class. It restricts direct access to some of an object's components, which is a way of enforcing modularity and data protection."
   ]
  },
  {
   "cell_type": "code",
   "execution_count": 30,
   "id": "0466acfe-c9ad-44c1-b765-3bf1c158fb36",
   "metadata": {},
   "outputs": [
    {
     "name": "stdout",
     "output_type": "stream",
     "text": [
      "Value: 42\n",
      "Updated Value: 100\n"
     ]
    }
   ],
   "source": [
    "class EncapsulationExample:\n",
    "    def __init__(self, value):\n",
    "        self.__private_value = value  # Private attribute\n",
    "\n",
    "    def get_value(self):\n",
    "        return self.__private_value  # Accessor method\n",
    "\n",
    "    def set_value(self, value):\n",
    "        self.__private_value = value  # Mutator method\n",
    "\n",
    "# Example usage\n",
    "obj = EncapsulationExample(42)\n",
    "print(\"Value:\", obj.get_value())\n",
    "obj.set_value(100)\n",
    "print(\"Updated Value:\", obj.get_value())\n"
   ]
  },
  {
   "cell_type": "code",
   "execution_count": null,
   "id": "1836161c-8269-4c42-9839-1cad690d840e",
   "metadata": {},
   "outputs": [],
   "source": [
    "#22.Explain the use of access modifiers in Python classes?"
   ]
  },
  {
   "cell_type": "code",
   "execution_count": null,
   "id": "b3cf0cb6-5b22-4baa-b3c5-9c9e099e3dc1",
   "metadata": {},
   "outputs": [],
   "source": [
    "Access modifiers in Python determine the accessibility of class attributes and methods:\n",
    "\n",
    "1.Public (name): Accessible anywhere.\n",
    "2.Protected (_name): Accessible within the class and its subclasses.\n",
    "3.Private (__name): Accessible only within the class"
   ]
  },
  {
   "cell_type": "code",
   "execution_count": 31,
   "id": "0e5b790d-3cff-4899-9813-8c0e7ceecd3c",
   "metadata": {},
   "outputs": [
    {
     "name": "stdout",
     "output_type": "stream",
     "text": [
      "I am public\n",
      "I am protected\n",
      "I am public I am protected I am private\n"
     ]
    }
   ],
   "source": [
    "class Example:\n",
    "    public_var = \"I am public\"\n",
    "    _protected_var = \"I am protected\"\n",
    "    __private_var = \"I am private\"\n",
    "\n",
    "    def show_vars(self):\n",
    "        print(self.public_var, self._protected_var, self.__private_var)\n",
    "\n",
    "obj = Example()\n",
    "print(obj.public_var)       # Public\n",
    "print(obj._protected_var)   # Protected (accessible but not recommended)\n",
    "# print(obj.__private_var)  # Error: Private\n",
    "obj.show_vars()\n"
   ]
  },
  {
   "cell_type": "code",
   "execution_count": null,
   "id": "bfaca154-e358-4934-87bf-e29fad55f9ea",
   "metadata": {},
   "outputs": [],
   "source": [
    "#23.What is inheritance in OOP?"
   ]
  },
  {
   "cell_type": "code",
   "execution_count": null,
   "id": "a70db756-ae09-44ab-aeaf-f67753ac5d16",
   "metadata": {},
   "outputs": [],
   "source": [
    "Inheritance is a mechanism where a new class (child) derives properties and behavior from an existing class (parent), promoting reusability and extensibility."
   ]
  },
  {
   "cell_type": "code",
   "execution_count": 32,
   "id": "cb01ee2c-5c0e-41b8-b83a-59ead9a65e49",
   "metadata": {},
   "outputs": [
    {
     "name": "stdout",
     "output_type": "stream",
     "text": [
      "Parent class method.\n",
      "Child class method.\n"
     ]
    }
   ],
   "source": [
    "class Parent:\n",
    "    def display(self):\n",
    "        print(\"Parent class method.\")\n",
    "\n",
    "class Child(Parent):\n",
    "    def greet(self):\n",
    "        print(\"Child class method.\")\n",
    "\n",
    "obj = Child()\n",
    "obj.display()\n",
    "obj.greet()\n"
   ]
  },
  {
   "cell_type": "code",
   "execution_count": null,
   "id": "99f3513e-d687-454e-8bf0-9712bf7ea766",
   "metadata": {},
   "outputs": [],
   "source": [
    "#24.Define polymorphism in OOP?"
   ]
  },
  {
   "cell_type": "code",
   "execution_count": null,
   "id": "abe61dc7-fe20-463d-b1cf-d730a699a069",
   "metadata": {},
   "outputs": [],
   "source": [
    "Polymorphism allows the same function or method to behave differently based on the object calling it, increasing flexibility and code reuse."
   ]
  },
  {
   "cell_type": "code",
   "execution_count": 33,
   "id": "f44c7206-9843-46c3-92c0-74e8f6bd5e2c",
   "metadata": {},
   "outputs": [
    {
     "name": "stdout",
     "output_type": "stream",
     "text": [
      "Woof!\n",
      "Meow!\n"
     ]
    }
   ],
   "source": [
    "class Animal:\n",
    "    def make_sound(self):\n",
    "        print(\"Generic animal sound.\")\n",
    "\n",
    "class Dog(Animal):\n",
    "    def make_sound(self):\n",
    "        print(\"Woof!\")\n",
    "\n",
    "class Cat(Animal):\n",
    "    def make_sound(self):\n",
    "        print(\"Meow!\")\n",
    "\n",
    "for animal in [Dog(), Cat()]:\n",
    "    animal.make_sound()\n"
   ]
  },
  {
   "cell_type": "code",
   "execution_count": null,
   "id": "b2f1491e-aff5-49de-8768-fd756ddfe53c",
   "metadata": {},
   "outputs": [],
   "source": [
    "#25.Explain method overriding in Python?"
   ]
  },
  {
   "cell_type": "code",
   "execution_count": null,
   "id": "d3959515-b0e1-4f0d-9d89-013d157e95a9",
   "metadata": {},
   "outputs": [],
   "source": [
    "Method overriding allows a child class to provide a specific implementation of a method already defined in its parent class."
   ]
  },
  {
   "cell_type": "code",
   "execution_count": 34,
   "id": "d5e35df2-46c8-4697-b23d-c3761337e43c",
   "metadata": {},
   "outputs": [
    {
     "name": "stdout",
     "output_type": "stream",
     "text": [
      "Dog runs.\n"
     ]
    }
   ],
   "source": [
    "class Animal:\n",
    "    def move(self):\n",
    "        print(\"Animal moves.\")\n",
    "\n",
    "class Dog(Animal):\n",
    "    def move(self):\n",
    "        print(\"Dog runs.\")\n",
    "\n",
    "dog = Dog()\n",
    "dog.move()\n"
   ]
  },
  {
   "cell_type": "code",
   "execution_count": null,
   "id": "d62d8b79-caca-4320-84ae-b27a81bfced6",
   "metadata": {},
   "outputs": [],
   "source": [
    "#26.Define a parent class Animal with a method make_sound that prints \"Generic animal sound\". Create a child class Dog inheriting from Animal with a method make_sound that prints \"Woof!\"?"
   ]
  },
  {
   "cell_type": "code",
   "execution_count": 35,
   "id": "7f4cd02c-ebe3-458a-adfd-1608b48c63f0",
   "metadata": {},
   "outputs": [
    {
     "name": "stdout",
     "output_type": "stream",
     "text": [
      "Woof!\n"
     ]
    }
   ],
   "source": [
    "class Animal:\n",
    "    def make_sound(self):\n",
    "        print(\"Generic animal sound.\")\n",
    "\n",
    "class Dog(Animal):\n",
    "    def make_sound(self):\n",
    "        print(\"Woof!\")\n",
    "\n",
    "dog = Dog()\n",
    "dog.make_sound()\n"
   ]
  },
  {
   "cell_type": "code",
   "execution_count": null,
   "id": "e50a74da-b894-4446-9b63-f05d04884a6d",
   "metadata": {},
   "outputs": [],
   "source": [
    "#27.Define a method move in the Animal class that prints \"Animal moves\". Override the move method in the Dog class to print \"Dog runs.\"?"
   ]
  },
  {
   "cell_type": "code",
   "execution_count": 36,
   "id": "ded02abc-51f0-450e-8918-4e0d416782a4",
   "metadata": {},
   "outputs": [
    {
     "name": "stdout",
     "output_type": "stream",
     "text": [
      "Dog runs.\n"
     ]
    }
   ],
   "source": [
    "class Animal:\n",
    "    def move(self):\n",
    "        print(\"Animal moves.\")\n",
    "\n",
    "class Dog(Animal):\n",
    "    def move(self):\n",
    "        print(\"Dog runs.\")\n",
    "\n",
    "dog = Dog()\n",
    "dog.move()\n"
   ]
  },
  {
   "cell_type": "code",
   "execution_count": null,
   "id": "b0e4db16-6ef1-4ab3-b019-df6a3e9f70f6",
   "metadata": {},
   "outputs": [],
   "source": [
    "#28.Create a class Mammal with a method reproduce that prints \"Giving birth to live young.\" Create a class DogMammal inheriting from both Dog and Mammal?"
   ]
  },
  {
   "cell_type": "code",
   "execution_count": 37,
   "id": "c94a44b6-303b-4134-900a-65c7347e5f6a",
   "metadata": {},
   "outputs": [
    {
     "name": "stdout",
     "output_type": "stream",
     "text": [
      "Giving birth to live young.\n"
     ]
    }
   ],
   "source": [
    "class Mammal:\n",
    "    def reproduce(self):\n",
    "        print(\"Giving birth to live young.\")\n",
    "\n",
    "class DogMammal(Dog, Mammal):\n",
    "    pass\n",
    "\n",
    "dog_mammal = DogMammal()\n",
    "dog_mammal.reproduce()\n"
   ]
  },
  {
   "cell_type": "code",
   "execution_count": null,
   "id": "438c1f43-c6e1-4797-8662-a96e9cfa85ad",
   "metadata": {},
   "outputs": [],
   "source": [
    "#29.Create a class GermanShepherd inheriting from Dog and override the make_sound method to print \"Bark!\"?"
   ]
  },
  {
   "cell_type": "code",
   "execution_count": 38,
   "id": "304d0749-1dd1-4515-b687-487776f994b6",
   "metadata": {},
   "outputs": [
    {
     "name": "stdout",
     "output_type": "stream",
     "text": [
      "Bark!\n"
     ]
    }
   ],
   "source": [
    "class GermanShepherd(Dog):\n",
    "    def make_sound(self):\n",
    "        print(\"Bark!\")\n",
    "\n",
    "gs = GermanShepherd()\n",
    "gs.make_sound()\n"
   ]
  },
  {
   "cell_type": "code",
   "execution_count": null,
   "id": "6b7d6c86-d6e0-404d-8936-5f420b5081f3",
   "metadata": {},
   "outputs": [],
   "source": [
    "#30.Define constructors in both the Animal and Dog classes with different initialization parameters?"
   ]
  },
  {
   "cell_type": "code",
   "execution_count": 39,
   "id": "fa9bc2f3-c135-4f9b-b9f4-b871e2917945",
   "metadata": {},
   "outputs": [
    {
     "name": "stdout",
     "output_type": "stream",
     "text": [
      "Species: Mammal, Breed: Golden Retriever\n"
     ]
    }
   ],
   "source": [
    "class Animal:\n",
    "    def __init__(self, species):\n",
    "        self.species = species\n",
    "\n",
    "    def display(self):\n",
    "        print(f\"Species: {self.species}\")\n",
    "\n",
    "class Dog(Animal):\n",
    "    def __init__(self, species, breed):\n",
    "        super().__init__(species)\n",
    "        self.breed = breed\n",
    "\n",
    "    def display(self):\n",
    "        print(f\"Species: {self.species}, Breed: {self.breed}\")\n",
    "\n",
    "dog = Dog(\"Mammal\", \"Golden Retriever\")\n",
    "dog.display()\n"
   ]
  },
  {
   "cell_type": "code",
   "execution_count": null,
   "id": "a97c8548-a8f9-485a-938c-b050921113eb",
   "metadata": {},
   "outputs": [],
   "source": [
    "#31.What is abstraction in Python? How is it implemented?"
   ]
  },
  {
   "cell_type": "code",
   "execution_count": null,
   "id": "59f54a75-49b2-4c00-9acd-212f23179a70",
   "metadata": {},
   "outputs": [],
   "source": [
    "Abstraction hides implementation details and shows only the necessary features. In Python, it is implemented using abstract classes with the abc module."
   ]
  },
  {
   "cell_type": "code",
   "execution_count": 40,
   "id": "ac5ae53f-3821-40c5-aa32-bead387c2b78",
   "metadata": {},
   "outputs": [
    {
     "name": "stdout",
     "output_type": "stream",
     "text": [
      "Woof!\n"
     ]
    }
   ],
   "source": [
    "from abc import ABC, abstractmethod\n",
    "\n",
    "class Animal(ABC):\n",
    "    @abstractmethod\n",
    "    def make_sound(self):\n",
    "        pass\n",
    "\n",
    "class Dog(Animal):\n",
    "    def make_sound(self):\n",
    "        print(\"Woof!\")\n",
    "\n",
    "dog = Dog()\n",
    "dog.make_sound()\n"
   ]
  },
  {
   "cell_type": "code",
   "execution_count": null,
   "id": "4762c765-fb74-4b52-8a36-a21b4038f61d",
   "metadata": {},
   "outputs": [],
   "source": [
    "#32.Explain the importance of abstraction in object-oriented programming?"
   ]
  },
  {
   "cell_type": "markdown",
   "id": "ab2a36a3-4790-45bf-bbb8-2211a9972bda",
   "metadata": {},
   "source": [
    "Abstraction simplifies complex systems by:\n",
    "\n",
    "1.Focusing on essential features.\n",
    "2.Reducing implementation complexity.\n",
    "3.Enhancing code maintainability and scalability."
   ]
  },
  {
   "cell_type": "code",
   "execution_count": null,
   "id": "b5f85a40-af8e-4f30-8275-7e4a94b5ebfd",
   "metadata": {},
   "outputs": [],
   "source": [
    "#33.How are abstract methods different from regular methods in Python?"
   ]
  },
  {
   "cell_type": "markdown",
   "id": "f7c5e940-567a-497f-ad41-530a8f07a4ee",
   "metadata": {},
   "source": [
    "1.Abstract methods: Declared in an abstract class using @abstractmethod. They must be overridden in child classes.\n",
    "2.Regular methods: Can have a complete implementation and are optional to override.\n"
   ]
  },
  {
   "cell_type": "code",
   "execution_count": null,
   "id": "8ca330e9-bc48-4bb5-b474-a156cb492189",
   "metadata": {},
   "outputs": [],
   "source": [
    "#34.How can you achieve abstraction using interfaces in Python?"
   ]
  },
  {
   "cell_type": "code",
   "execution_count": null,
   "id": "3d24a6be-f1ef-4e18-b770-4387c5e53b70",
   "metadata": {},
   "outputs": [],
   "source": [
    "In Python, interfaces are abstract classes with all methods defined as abstract."
   ]
  },
  {
   "cell_type": "code",
   "execution_count": 42,
   "id": "f51c3e5a-aad8-4c75-9a59-ac2ae75c848c",
   "metadata": {},
   "outputs": [
    {
     "name": "stdout",
     "output_type": "stream",
     "text": [
      "Woof!\n"
     ]
    }
   ],
   "source": [
    "from abc import ABC, abstractmethod\n",
    "\n",
    "class AnimalInterface(ABC):\n",
    "    @abstractmethod\n",
    "    def make_sound(self):\n",
    "        pass\n",
    "\n",
    "class Dog(AnimalInterface):\n",
    "    def make_sound(self):\n",
    "        print(\"Woof!\")\n",
    "\n",
    "dog = Dog()\n",
    "dog.make_sound()\n"
   ]
  },
  {
   "cell_type": "code",
   "execution_count": null,
   "id": "ae7d09e0-bee2-4fc5-94c5-a444494ab881",
   "metadata": {},
   "outputs": [],
   "source": [
    "#35.Can you provide an example of how abstraction can be utilized to create a common interface for a group of related classes in Python?"
   ]
  },
  {
   "cell_type": "code",
   "execution_count": 43,
   "id": "5c38d765-e825-414a-95f3-456f769746c9",
   "metadata": {},
   "outputs": [
    {
     "name": "stdout",
     "output_type": "stream",
     "text": [
      "Area: 78.5\n",
      "Area: 24\n"
     ]
    }
   ],
   "source": [
    "from abc import ABC, abstractmethod\n",
    "\n",
    "class Shape(ABC):\n",
    "    @abstractmethod\n",
    "    def area(self):\n",
    "        pass\n",
    "\n",
    "class Circle(Shape):\n",
    "    def __init__(self, radius):\n",
    "        self.radius = radius\n",
    "\n",
    "    def area(self):\n",
    "        return 3.14 * self.radius ** 2\n",
    "\n",
    "class Rectangle(Shape):\n",
    "    def __init__(self, length, width):\n",
    "        self.length = length\n",
    "        self.width = width\n",
    "\n",
    "    def area(self):\n",
    "        return self.length * self.width\n",
    "\n",
    "shapes = [Circle(5), Rectangle(4, 6)]\n",
    "for shape in shapes:\n",
    "    print(\"Area:\", shape.area())\n"
   ]
  },
  {
   "cell_type": "code",
   "execution_count": null,
   "id": "b185e8de-d424-407f-a276-ca50486f9f10",
   "metadata": {},
   "outputs": [],
   "source": [
    "#36.How does Python achieve polymorphism through method overriding?"
   ]
  },
  {
   "cell_type": "code",
   "execution_count": null,
   "id": "62f9a990-f894-47e0-9604-8ad66f11fa25",
   "metadata": {},
   "outputs": [],
   "source": [
    "Python achieves polymorphism through method overriding by allowing a child class to provide a specific implementation for a method in the parent class."
   ]
  },
  {
   "cell_type": "code",
   "execution_count": 44,
   "id": "effd4783-2e8c-44ed-877a-b44bf19582a2",
   "metadata": {},
   "outputs": [
    {
     "name": "stdout",
     "output_type": "stream",
     "text": [
      "Generic animal sound.\n",
      "Woof!\n"
     ]
    }
   ],
   "source": [
    "class Animal:\n",
    "    def make_sound(self):\n",
    "        print(\"Generic animal sound.\")\n",
    "\n",
    "class Dog(Animal):\n",
    "    def make_sound(self):\n",
    "        print(\"Woof!\")\n",
    "\n",
    "animal = Animal()\n",
    "dog = Dog()\n",
    "animal.make_sound()\n",
    "dog.make_sound()\n"
   ]
  },
  {
   "cell_type": "code",
   "execution_count": null,
   "id": "9eabe3b3-c0cf-4c7d-af4c-4c0147c38c89",
   "metadata": {},
   "outputs": [],
   "source": [
    "#37.Define a base class with a method and a subclass that overrides the method?"
   ]
  },
  {
   "cell_type": "code",
   "execution_count": 45,
   "id": "dc2f8311-5c57-4249-b2a2-cc68e6f15531",
   "metadata": {},
   "outputs": [
    {
     "name": "stdout",
     "output_type": "stream",
     "text": [
      "Hello from SubClass.\n"
     ]
    }
   ],
   "source": [
    "class BaseClass:\n",
    "    def greet(self):\n",
    "        print(\"Hello from BaseClass.\")\n",
    "\n",
    "class SubClass(BaseClass):\n",
    "    def greet(self):\n",
    "        print(\"Hello from SubClass.\")\n",
    "\n",
    "obj = SubClass()\n",
    "obj.greet()\n"
   ]
  },
  {
   "cell_type": "code",
   "execution_count": null,
   "id": "90e3594e-9474-4d65-9e9e-26116138b4ad",
   "metadata": {},
   "outputs": [],
   "source": [
    "#38.Define a base class and multiple subclasses with overridden methods?"
   ]
  },
  {
   "cell_type": "code",
   "execution_count": 46,
   "id": "9528df14-3380-4d0b-8944-2002908d49fc",
   "metadata": {},
   "outputs": [
    {
     "name": "stdout",
     "output_type": "stream",
     "text": [
      "Area of Circle: π × r²\n",
      "Area of Rectangle: length × width\n"
     ]
    }
   ],
   "source": [
    "class Shape:\n",
    "    def area(self):\n",
    "        print(\"Calculating area of shape.\")\n",
    "\n",
    "class Circle(Shape):\n",
    "    def area(self):\n",
    "        print(\"Area of Circle: π × r²\")\n",
    "\n",
    "class Rectangle(Shape):\n",
    "    def area(self):\n",
    "        print(\"Area of Rectangle: length × width\")\n",
    "\n",
    "shapes = [Circle(), Rectangle()]\n",
    "for shape in shapes:\n",
    "    shape.area()\n"
   ]
  },
  {
   "cell_type": "code",
   "execution_count": null,
   "id": "a3fd2c56-928b-44fd-b800-7fb9e15af779",
   "metadata": {},
   "outputs": [],
   "source": [
    "#39.How does polymorphism improve code readability and reusability?"
   ]
  },
  {
   "cell_type": "markdown",
   "id": "ed1ea0fb-7066-455d-9aea-7412b6df68bd",
   "metadata": {},
   "source": [
    "Polymorphism improves:\n",
    "\n",
    "1.Readability: By using a common interface for related objects, it simplifies understanding of code logic.\n",
    "2.Reusability: Allows the same code to handle different data types and classes, reducing duplication and enhancing modularity."
   ]
  },
  {
   "cell_type": "code",
   "execution_count": 47,
   "id": "0e43ab05-9566-41c3-a49f-a5311dbd78fb",
   "metadata": {},
   "outputs": [
    {
     "name": "stdout",
     "output_type": "stream",
     "text": [
      "Woof!\n",
      "Meow!\n"
     ]
    }
   ],
   "source": [
    "class Animal:\n",
    "    def speak(self):\n",
    "        pass\n",
    "\n",
    "class Dog(Animal):\n",
    "    def speak(self):\n",
    "        print(\"Woof!\")\n",
    "\n",
    "class Cat(Animal):\n",
    "    def speak(self):\n",
    "        print(\"Meow!\")\n",
    "\n",
    "def make_animal_speak(animal):\n",
    "    animal.speak()\n",
    "\n",
    "make_animal_speak(Dog())\n",
    "make_animal_speak(Cat())\n"
   ]
  },
  {
   "cell_type": "code",
   "execution_count": null,
   "id": "c8a5dd81-9a07-4919-8041-17eb38c1992b",
   "metadata": {},
   "outputs": [],
   "source": [
    "#40.Describe how Python supports polymorphism with duck typing?"
   ]
  },
  {
   "cell_type": "code",
   "execution_count": null,
   "id": "6ab676c8-f6ce-46cc-81ce-4292864f5150",
   "metadata": {},
   "outputs": [],
   "source": [
    "Python uses duck typing to allow polymorphism without requiring a common inheritance structure. If an object implements the required methods, it can be used regardless of its class."
   ]
  },
  {
   "cell_type": "code",
   "execution_count": 48,
   "id": "e7626438-9fa8-4bbb-bdf3-5920ce400390",
   "metadata": {},
   "outputs": [
    {
     "name": "stdout",
     "output_type": "stream",
     "text": [
      "Woof!\n",
      "Meow!\n"
     ]
    }
   ],
   "source": [
    "class Dog:\n",
    "    def speak(self):\n",
    "        print(\"Woof!\")\n",
    "\n",
    "class Cat:\n",
    "    def speak(self):\n",
    "        print(\"Meow!\")\n",
    "\n",
    "def make_speak(animal):\n",
    "    animal.speak()\n",
    "\n",
    "make_speak(Dog())\n",
    "make_speak(Cat())\n"
   ]
  },
  {
   "cell_type": "code",
   "execution_count": null,
   "id": "9f0724ff-68d0-4025-8b52-7aae7353868f",
   "metadata": {},
   "outputs": [],
   "source": [
    "#41.How do you achieve encapsulation in Python?"
   ]
  },
  {
   "cell_type": "code",
   "execution_count": null,
   "id": "aaa78c13-c58f-4e67-8de0-7f51fd871bc4",
   "metadata": {},
   "outputs": [],
   "source": [
    "Encapsulation is achieved by:\n",
    "\n",
    "1.Defining private attributes with double underscores (__).\n",
    "2.Providing controlled access using getter and setter methods."
   ]
  },
  {
   "cell_type": "code",
   "execution_count": 49,
   "id": "c1818a3e-96ca-42d1-a807-dc974a7f421d",
   "metadata": {},
   "outputs": [
    {
     "name": "stdout",
     "output_type": "stream",
     "text": [
      "42\n",
      "100\n"
     ]
    }
   ],
   "source": [
    "class EncapsulationExample:\n",
    "    def __init__(self, value):\n",
    "        self.__private_value = value\n",
    "\n",
    "    def get_value(self):\n",
    "        return self.__private_value\n",
    "\n",
    "    def set_value(self, value):\n",
    "        self.__private_value = value\n",
    "\n",
    "obj = EncapsulationExample(42)\n",
    "print(obj.get_value())\n",
    "obj.set_value(100)\n",
    "print(obj.get_value())\n"
   ]
  },
  {
   "cell_type": "code",
   "execution_count": null,
   "id": "2698b097-51b3-4af5-8507-6d4af548049e",
   "metadata": {},
   "outputs": [],
   "source": [
    "#42.Can encapsulation be bypassed in Python? If so, how?"
   ]
  },
  {
   "cell_type": "code",
   "execution_count": null,
   "id": "b8a48e19-5306-4ada-bc08-406f4827baae",
   "metadata": {},
   "outputs": [],
   "source": [
    "Yes, encapsulation can be bypassed in Python by accessing private attributes using name mangling (_ClassName__attribute)."
   ]
  },
  {
   "cell_type": "code",
   "execution_count": 50,
   "id": "f150671c-805d-4539-a623-2b23c28203da",
   "metadata": {},
   "outputs": [
    {
     "name": "stdout",
     "output_type": "stream",
     "text": [
      "42\n"
     ]
    }
   ],
   "source": [
    "class Example:\n",
    "    def __init__(self):\n",
    "        self.__private_value = 42\n",
    "\n",
    "obj = Example()\n",
    "print(obj._Example__private_value)  # Bypasses encapsulation\n"
   ]
  },
  {
   "cell_type": "code",
   "execution_count": null,
   "id": "89741485-8d4f-4410-a816-1f6a06f92d31",
   "metadata": {},
   "outputs": [],
   "source": [
    "#43.Implement a class BankAccount with a private balance attribute. Include methods to deposit, withdraw, and check the balance?"
   ]
  },
  {
   "cell_type": "code",
   "execution_count": 51,
   "id": "1ab103d8-1d8b-429e-b4b8-a55751808bde",
   "metadata": {},
   "outputs": [
    {
     "name": "stdout",
     "output_type": "stream",
     "text": [
      "Balance: 50\n"
     ]
    }
   ],
   "source": [
    "class BankAccount:\n",
    "    def __init__(self, balance=0):\n",
    "        self.__balance = balance\n",
    "\n",
    "    def deposit(self, amount):\n",
    "        self.__balance += amount\n",
    "\n",
    "    def withdraw(self, amount):\n",
    "        if amount <= self.__balance:\n",
    "            self.__balance -= amount\n",
    "        else:\n",
    "            print(\"Insufficient funds.\")\n",
    "\n",
    "    def check_balance(self):\n",
    "        return self.__balance\n",
    "\n",
    "account = BankAccount()\n",
    "account.deposit(100)\n",
    "account.withdraw(50)\n",
    "print(\"Balance:\", account.check_balance())\n"
   ]
  },
  {
   "cell_type": "code",
   "execution_count": null,
   "id": "6df239c7-a74c-4d77-9f24-54992e1c6e9e",
   "metadata": {},
   "outputs": [],
   "source": [
    "#44.Develop a Person class with private attributes name and email, and methods to set and get the email?"
   ]
  },
  {
   "cell_type": "code",
   "execution_count": 52,
   "id": "bd674424-67a5-433d-945c-7375b942c416",
   "metadata": {},
   "outputs": [
    {
     "name": "stdout",
     "output_type": "stream",
     "text": [
      "Email: john.doe@example.com\n",
      "Updated Email: new.email@example.com\n"
     ]
    }
   ],
   "source": [
    "class Person:\n",
    "    def __init__(self, name, email):\n",
    "        self.__name = name\n",
    "        self.__email = email\n",
    "\n",
    "    def set_email(self, email):\n",
    "        self.__email = email\n",
    "\n",
    "    def get_email(self):\n",
    "        return self.__email\n",
    "\n",
    "person = Person(\"John Doe\", \"john.doe@example.com\")\n",
    "print(\"Email:\", person.get_email())\n",
    "person.set_email(\"new.email@example.com\")\n",
    "print(\"Updated Email:\", person.get_email())\n"
   ]
  },
  {
   "cell_type": "code",
   "execution_count": null,
   "id": "a7e95f0b-5d1a-4b1e-aea0-9bf3add851f3",
   "metadata": {},
   "outputs": [],
   "source": [
    "#45.Why is encapsulation considered a pillar of object-oriented programming (OOP)?"
   ]
  },
  {
   "cell_type": "code",
   "execution_count": null,
   "id": "1cdcfc92-fbd1-44de-9fa7-20d615971fc3",
   "metadata": {},
   "outputs": [],
   "source": [
    "Encapsulation is a core pillar of OOP because:\n",
    "\n",
    "1.Data Protection: It safeguards object data by controlling access through methods.\n",
    "2.Modularity: Keeps implementation details hidden, promoting modular design.\n",
    "3.Maintainability: Makes it easier to update or modify the class without affecting external code."
   ]
  },
  {
   "cell_type": "code",
   "execution_count": 53,
   "id": "e0cb6c47-dff0-48f4-9b34-6fa1e99eb055",
   "metadata": {},
   "outputs": [
    {
     "name": "stdout",
     "output_type": "stream",
     "text": [
      "42\n",
      "100\n"
     ]
    }
   ],
   "source": [
    "class Example:\n",
    "    def __init__(self, value):\n",
    "        self.__value = value  # Private attribute\n",
    "\n",
    "    def get_value(self):\n",
    "        return self.__value\n",
    "\n",
    "    def set_value(self, value):\n",
    "        self.__value = value\n",
    "\n",
    "obj = Example(42)\n",
    "print(obj.get_value())\n",
    "obj.set_value(100)\n",
    "print(obj.get_value())\n"
   ]
  },
  {
   "cell_type": "code",
   "execution_count": null,
   "id": "f2fa6902-b3d1-4371-8838-4269f340e43f",
   "metadata": {},
   "outputs": [],
   "source": [
    "#46.Create a decorator in Python that adds functionality to a simple function by printing a message before and after the function execution?"
   ]
  },
  {
   "cell_type": "code",
   "execution_count": 54,
   "id": "8944e994-d6bc-4378-a273-270defabcdcd",
   "metadata": {},
   "outputs": [
    {
     "name": "stdout",
     "output_type": "stream",
     "text": [
      "Before function execution\n",
      "Hello!\n",
      "After function execution\n"
     ]
    }
   ],
   "source": [
    "def decorator(func):\n",
    "    def wrapper():\n",
    "        print(\"Before function execution\")\n",
    "        func()\n",
    "        print(\"After function execution\")\n",
    "    return wrapper\n",
    "\n",
    "@decorator\n",
    "def say_hello():\n",
    "    print(\"Hello!\")\n",
    "\n",
    "say_hello()\n"
   ]
  },
  {
   "cell_type": "code",
   "execution_count": null,
   "id": "4c0a9ab4-ba57-4e89-9f7f-0ec7b2457214",
   "metadata": {},
   "outputs": [],
   "source": [
    "#47.Modify the decorator to accept arguments and print the function name along with the message?"
   ]
  },
  {
   "cell_type": "code",
   "execution_count": 55,
   "id": "0bb251aa-6cfc-4dd1-b12c-f4ac1699c918",
   "metadata": {},
   "outputs": [
    {
     "name": "stdout",
     "output_type": "stream",
     "text": [
      "Executing add with arguments (5, 10)\n",
      "Finished add\n",
      "15\n"
     ]
    }
   ],
   "source": [
    "def decorator(func):\n",
    "    def wrapper(*args, **kwargs):\n",
    "        print(f\"Executing {func.__name__} with arguments {args}\")\n",
    "        result = func(*args, **kwargs)\n",
    "        print(f\"Finished {func.__name__}\")\n",
    "        return result\n",
    "    return wrapper\n",
    "\n",
    "@decorator\n",
    "def add(a, b):\n",
    "    return a + b\n",
    "\n",
    "print(add(5, 10))\n"
   ]
  },
  {
   "cell_type": "code",
   "execution_count": null,
   "id": "f7f2f3bb-a80e-4d29-9074-af431551cf48",
   "metadata": {},
   "outputs": [],
   "source": [
    "#48.Create two decorators, and apply them to a single function. Ensure that they execute in the order they are applied?"
   ]
  },
  {
   "cell_type": "code",
   "execution_count": 56,
   "id": "72fb85ef-269e-4c0d-9766-f3917449da98",
   "metadata": {},
   "outputs": [
    {
     "name": "stdout",
     "output_type": "stream",
     "text": [
      "Decorator One: Before\n",
      "Decorator Two: Before\n",
      "Hello!\n",
      "Decorator Two: After\n",
      "Decorator One: After\n"
     ]
    }
   ],
   "source": [
    "def decorator_one(func):\n",
    "    def wrapper(*args, **kwargs):\n",
    "        print(\"Decorator One: Before\")\n",
    "        result = func(*args, **kwargs)\n",
    "        print(\"Decorator One: After\")\n",
    "        return result\n",
    "    return wrapper\n",
    "\n",
    "def decorator_two(func):\n",
    "    def wrapper(*args, **kwargs):\n",
    "        print(\"Decorator Two: Before\")\n",
    "        result = func(*args, **kwargs)\n",
    "        print(\"Decorator Two: After\")\n",
    "        return result\n",
    "    return wrapper\n",
    "\n",
    "@decorator_one\n",
    "@decorator_two\n",
    "def greet():\n",
    "    print(\"Hello!\")\n",
    "\n",
    "greet()\n"
   ]
  },
  {
   "cell_type": "code",
   "execution_count": null,
   "id": "c1323283-a3ae-408f-a7fa-1524a353e803",
   "metadata": {},
   "outputs": [],
   "source": [
    "#49.Modify the decorator to accept and pass function arguments to the wrapped function?"
   ]
  },
  {
   "cell_type": "code",
   "execution_count": 57,
   "id": "beaee188-a586-416b-a217-058bf0299839",
   "metadata": {},
   "outputs": [
    {
     "name": "stdout",
     "output_type": "stream",
     "text": [
      "Arguments passed: (3, 4), {}\n",
      "12\n"
     ]
    }
   ],
   "source": [
    "def decorator(func):\n",
    "    def wrapper(*args, **kwargs):\n",
    "        print(f\"Arguments passed: {args}, {kwargs}\")\n",
    "        return func(*args, **kwargs)\n",
    "    return wrapper\n",
    "\n",
    "@decorator\n",
    "def multiply(a, b):\n",
    "    return a * b\n",
    "\n",
    "print(multiply(3, 4))\n"
   ]
  },
  {
   "cell_type": "code",
   "execution_count": null,
   "id": "6901cf85-a47d-40a8-93b1-0e33cfca3662",
   "metadata": {},
   "outputs": [],
   "source": [
    "#50.Create a decorator that preserves the metadata of the original function?"
   ]
  },
  {
   "cell_type": "code",
   "execution_count": 58,
   "id": "4e889e43-b4bf-4085-83d8-2182091389ec",
   "metadata": {},
   "outputs": [
    {
     "name": "stdout",
     "output_type": "stream",
     "text": [
      "This is a sample function.\n"
     ]
    }
   ],
   "source": [
    "from functools import wraps\n",
    "\n",
    "def decorator(func):\n",
    "    @wraps(func)\n",
    "    def wrapper(*args, **kwargs):\n",
    "        print(\"Wrapper executed\")\n",
    "        return func(*args, **kwargs)\n",
    "    return wrapper\n",
    "\n",
    "@decorator\n",
    "def sample_function():\n",
    "    \"\"\"This is a sample function.\"\"\"\n",
    "    print(\"Executing sample function\")\n",
    "\n",
    "print(sample_function.__doc__)\n"
   ]
  },
  {
   "cell_type": "code",
   "execution_count": null,
   "id": "8032f672-903d-4476-8bb5-302ed465bc5d",
   "metadata": {},
   "outputs": [],
   "source": [
    "#51.Create a Python class Calculator with a static method add that takes in two numbers and returns their sum?"
   ]
  },
  {
   "cell_type": "code",
   "execution_count": 59,
   "id": "2afb6c20-0c00-4f67-9d3d-a5e53bcacc55",
   "metadata": {},
   "outputs": [
    {
     "name": "stdout",
     "output_type": "stream",
     "text": [
      "15\n"
     ]
    }
   ],
   "source": [
    "class Calculator:\n",
    "    @staticmethod\n",
    "    def add(a, b):\n",
    "        return a + b\n",
    "\n",
    "print(Calculator.add(5, 10))\n"
   ]
  },
  {
   "cell_type": "code",
   "execution_count": null,
   "id": "f9d5f44b-1cac-4bcc-aafd-ae19e93a4741",
   "metadata": {},
   "outputs": [],
   "source": [
    "#52.Create a Python class Employee with a class method get_employee_count that returns the total number of employees created?"
   ]
  },
  {
   "cell_type": "code",
   "execution_count": 60,
   "id": "75b9ca43-f96b-4930-90f2-bfdd23c0608a",
   "metadata": {},
   "outputs": [
    {
     "name": "stdout",
     "output_type": "stream",
     "text": [
      "2\n"
     ]
    }
   ],
   "source": [
    "class Employee:\n",
    "    employee_count = 0\n",
    "\n",
    "    def __init__(self):\n",
    "        Employee.employee_count += 1\n",
    "\n",
    "    @classmethod\n",
    "    def get_employee_count(cls):\n",
    "        return cls.employee_count\n",
    "\n",
    "e1 = Employee()\n",
    "e2 = Employee()\n",
    "print(Employee.get_employee_count())\n"
   ]
  },
  {
   "cell_type": "code",
   "execution_count": null,
   "id": "b1e2c476-d6ee-45be-a2a9-4b8b80f563ef",
   "metadata": {},
   "outputs": [],
   "source": [
    "#53.Create a Python class StringFormatter with a static method reverse_string that takes a string as input and returns its reverse?"
   ]
  },
  {
   "cell_type": "code",
   "execution_count": 61,
   "id": "34a6773b-14c9-437e-92d4-7e6bb0688453",
   "metadata": {},
   "outputs": [
    {
     "name": "stdout",
     "output_type": "stream",
     "text": [
      "nohtyP\n"
     ]
    }
   ],
   "source": [
    "class StringFormatter:\n",
    "    @staticmethod\n",
    "    def reverse_string(s):\n",
    "        return s[::-1]\n",
    "\n",
    "print(StringFormatter.reverse_string(\"Python\"))\n"
   ]
  },
  {
   "cell_type": "code",
   "execution_count": null,
   "id": "51b6bbf7-76e8-428a-9cbc-44818588d9ba",
   "metadata": {},
   "outputs": [],
   "source": [
    "#54.Create a Python class Circle with a class method calculate_area that calculates the area of a circle given its radius?"
   ]
  },
  {
   "cell_type": "code",
   "execution_count": 62,
   "id": "812bb71c-f8ff-48e4-9eb5-b4b8baec64bb",
   "metadata": {},
   "outputs": [
    {
     "name": "stdout",
     "output_type": "stream",
     "text": [
      "78.5\n"
     ]
    }
   ],
   "source": [
    "class Circle:\n",
    "    @classmethod\n",
    "    def calculate_area(cls, radius):\n",
    "        return 3.14 * radius ** 2\n",
    "\n",
    "print(Circle.calculate_area(5))\n"
   ]
  },
  {
   "cell_type": "code",
   "execution_count": null,
   "id": "754d6367-431b-47d9-a0a8-1f17a946f332",
   "metadata": {},
   "outputs": [],
   "source": [
    "#55.Create a Python class TemperatureConverter with a static method celsius_to_fahrenheit that converts Celsius to Fahrenheit?"
   ]
  },
  {
   "cell_type": "code",
   "execution_count": 63,
   "id": "85def539-5b59-4c72-8a64-10688bbe85ee",
   "metadata": {},
   "outputs": [
    {
     "name": "stdout",
     "output_type": "stream",
     "text": [
      "77.0\n"
     ]
    }
   ],
   "source": [
    "class TemperatureConverter:\n",
    "    @staticmethod\n",
    "    def celsius_to_fahrenheit(celsius):\n",
    "        return (celsius * 9/5) + 32\n",
    "\n",
    "print(TemperatureConverter.celsius_to_fahrenheit(25))\n"
   ]
  },
  {
   "cell_type": "code",
   "execution_count": null,
   "id": "bf9f2834-0d00-46b1-b668-eb5a907e0711",
   "metadata": {},
   "outputs": [],
   "source": [
    "#56.What is the purpose of the __str__() method in Python classes? Provide an example?"
   ]
  },
  {
   "cell_type": "code",
   "execution_count": null,
   "id": "0ececa6d-bca8-49d9-9285-67606b96b11a",
   "metadata": {},
   "outputs": [],
   "source": [
    "The __str__() method provides a human-readable string representation of an object."
   ]
  },
  {
   "cell_type": "code",
   "execution_count": 64,
   "id": "1db7dc1f-122d-4a2d-9709-d881963fb674",
   "metadata": {},
   "outputs": [
    {
     "name": "stdout",
     "output_type": "stream",
     "text": [
      "Name: Alice, Age: 30\n"
     ]
    }
   ],
   "source": [
    "class Person:\n",
    "    def __init__(self, name, age):\n",
    "        self.name = name\n",
    "        self.age = age\n",
    "\n",
    "    def __str__(self):\n",
    "        return f\"Name: {self.name}, Age: {self.age}\"\n",
    "\n",
    "p = Person(\"Alice\", 30)\n",
    "print(p)\n"
   ]
  },
  {
   "cell_type": "code",
   "execution_count": null,
   "id": "316aec4c-e30d-40ba-8576-fdaea76ae5c9",
   "metadata": {},
   "outputs": [],
   "source": [
    "#57.How does the __len__() method work in Python? Provide an example?"
   ]
  },
  {
   "cell_type": "code",
   "execution_count": null,
   "id": "15075235-191e-486c-a686-c6d25490e040",
   "metadata": {},
   "outputs": [],
   "source": [
    "The __len__() method returns the length of an object.\n"
   ]
  },
  {
   "cell_type": "code",
   "execution_count": 65,
   "id": "bc3f1b62-7354-430d-ab37-c54eeead21e7",
   "metadata": {},
   "outputs": [
    {
     "name": "stdout",
     "output_type": "stream",
     "text": [
      "3\n"
     ]
    }
   ],
   "source": [
    "class CustomList:\n",
    "    def __init__(self, items):\n",
    "        self.items = items\n",
    "\n",
    "    def __len__(self):\n",
    "        return len(self.items)\n",
    "\n",
    "cl = CustomList([1, 2, 3])\n",
    "print(len(cl))\n"
   ]
  },
  {
   "cell_type": "code",
   "execution_count": null,
   "id": "8928e50e-d2ca-4745-a4a8-e976c00169d1",
   "metadata": {},
   "outputs": [],
   "source": [
    "#58.Explain the usage of the __add__() method in Python classes. Provide an example?"
   ]
  },
  {
   "cell_type": "code",
   "execution_count": null,
   "id": "578d9854-1ed2-4c58-a7c1-3a43716a981d",
   "metadata": {},
   "outputs": [],
   "source": [
    "The __add__() method defines the behavior of the + operator for objects."
   ]
  },
  {
   "cell_type": "code",
   "execution_count": 66,
   "id": "fd5c5d73-755b-4a55-bf71-048e6d78a43b",
   "metadata": {},
   "outputs": [
    {
     "name": "stdout",
     "output_type": "stream",
     "text": [
      "15\n"
     ]
    }
   ],
   "source": [
    "class Number:\n",
    "    def __init__(self, value):\n",
    "        self.value = value\n",
    "\n",
    "    def __add__(self, other):\n",
    "        return self.value + other.value\n",
    "\n",
    "n1 = Number(5)\n",
    "n2 = Number(10)\n",
    "print(n1 + n2)\n"
   ]
  },
  {
   "cell_type": "code",
   "execution_count": null,
   "id": "07311ca8-7fa2-4a60-aee9-66654ba2a5d6",
   "metadata": {},
   "outputs": [],
   "source": [
    "#59.What is the purpose of the __getitem__() method in Python? Provide an example?"
   ]
  },
  {
   "cell_type": "code",
   "execution_count": null,
   "id": "e135a117-0500-4508-b071-6229a79b2bc9",
   "metadata": {},
   "outputs": [],
   "source": [
    "The __getitem__() method allows objects to support indexing."
   ]
  },
  {
   "cell_type": "code",
   "execution_count": 67,
   "id": "ef57fdfa-8a34-437c-8960-59752f0a2e49",
   "metadata": {},
   "outputs": [
    {
     "name": "stdout",
     "output_type": "stream",
     "text": [
      "2\n"
     ]
    }
   ],
   "source": [
    "class CustomList:\n",
    "    def __init__(self, items):\n",
    "        self.items = items\n",
    "\n",
    "    def __getitem__(self, index):\n",
    "        return self.items[index]\n",
    "\n",
    "cl = CustomList([1, 2, 3])\n",
    "print(cl[1])\n"
   ]
  },
  {
   "cell_type": "code",
   "execution_count": null,
   "id": "32434e59-0ca3-4659-8d28-15282f23b402",
   "metadata": {},
   "outputs": [],
   "source": [
    "#60.Explain the usage of the __iter__() and __next__() methods in Python. Provide an example using iterators?"
   ]
  },
  {
   "cell_type": "code",
   "execution_count": null,
   "id": "3cf34fed-8df1-4bbb-aefb-90576fe6182b",
   "metadata": {},
   "outputs": [],
   "source": [
    "The __iter__() method makes an object iterable, and the __next__() method returns the next item"
   ]
  },
  {
   "cell_type": "code",
   "execution_count": 68,
   "id": "272f729d-505b-4605-9424-7a401448318f",
   "metadata": {},
   "outputs": [
    {
     "name": "stdout",
     "output_type": "stream",
     "text": [
      "1\n",
      "2\n",
      "3\n"
     ]
    }
   ],
   "source": [
    "class CustomIterator:\n",
    "    def __init__(self, items):\n",
    "        self.items = items\n",
    "        self.index = 0\n",
    "\n",
    "    def __iter__(self):\n",
    "        return self\n",
    "\n",
    "    def __next__(self):\n",
    "        if self.index >= len(self.items):\n",
    "            raise StopIteration\n",
    "        value = self.items[self.index]\n",
    "        self.index += 1\n",
    "        return value\n",
    "\n",
    "iterator = CustomIterator([1, 2, 3])\n",
    "for item in iterator:\n",
    "    print(item)\n"
   ]
  },
  {
   "cell_type": "code",
   "execution_count": null,
   "id": "908c739f-4067-4ac5-816f-f52818f39fc3",
   "metadata": {},
   "outputs": [],
   "source": [
    "#61.What is the purpose of a getter method in Python? Provide an example demonstrating the use of a getter method using property decorators?"
   ]
  },
  {
   "cell_type": "code",
   "execution_count": null,
   "id": "fe976630-5973-4f62-967e-83039fb3ca42",
   "metadata": {},
   "outputs": [],
   "source": [
    "A getter retrieves the value of a private attribute."
   ]
  },
  {
   "cell_type": "code",
   "execution_count": 70,
   "id": "42429885-3069-4d41-a348-24afcf89956c",
   "metadata": {},
   "outputs": [
    {
     "name": "stdout",
     "output_type": "stream",
     "text": [
      "Alice\n"
     ]
    }
   ],
   "source": [
    "class Person:\n",
    "    def __init__(self, name):\n",
    "        self.__name = name\n",
    "\n",
    "    @property\n",
    "    def name(self):\n",
    "        return self.__name\n",
    "\n",
    "p = Person(\"Alice\")\n",
    "print(p.name)\n"
   ]
  },
  {
   "cell_type": "code",
   "execution_count": null,
   "id": "02e8e718-1293-424f-b791-ab5e236c63cc",
   "metadata": {},
   "outputs": [],
   "source": [
    "#62.Explain the role of setter methods in Python. Demonstrate how to use a setter method to modify a class attribute using property decorators?"
   ]
  },
  {
   "cell_type": "markdown",
   "id": "3aba94ac-c8e2-4ace-b0f2-629db404838a",
   "metadata": {},
   "source": [
    "A setter updates the value of a private attribute."
   ]
  },
  {
   "cell_type": "code",
   "execution_count": 71,
   "id": "746f1b91-a6b6-4ab0-8a9f-a642bbb02702",
   "metadata": {},
   "outputs": [
    {
     "name": "stdout",
     "output_type": "stream",
     "text": [
      "Bob\n"
     ]
    }
   ],
   "source": [
    "class Person:\n",
    "    def __init__(self, name):\n",
    "        self.__name = name\n",
    "\n",
    "    @property\n",
    "    def name(self):\n",
    "        return self.__name\n",
    "\n",
    "    @name.setter\n",
    "    def name(self, new_name):\n",
    "        self.__name = new_name\n",
    "\n",
    "p = Person(\"Alice\")\n",
    "p.name = \"Bob\"\n",
    "print(p.name)\n"
   ]
  },
  {
   "cell_type": "code",
   "execution_count": null,
   "id": "b7af048c-5725-49e2-be64-42b2580ed90d",
   "metadata": {},
   "outputs": [],
   "source": [
    "#63.What is the purpose of the @property decorator in Python? Provide an example illustrating its usage?"
   ]
  },
  {
   "cell_type": "code",
   "execution_count": null,
   "id": "8f4ca550-2312-4eb3-a7e4-7d5d8b0fbe0a",
   "metadata": {},
   "outputs": [],
   "source": [
    "The @property decorator provides a way to access methods like attributes."
   ]
  },
  {
   "cell_type": "code",
   "execution_count": 72,
   "id": "21f49e58-0b61-41b4-baed-eefcec894370",
   "metadata": {},
   "outputs": [
    {
     "name": "stdout",
     "output_type": "stream",
     "text": [
      "5\n"
     ]
    }
   ],
   "source": [
    "class Circle:\n",
    "    def __init__(self, radius):\n",
    "        self.__radius = radius\n",
    "\n",
    "    @property\n",
    "    def radius(self):\n",
    "        return self.__radius\n",
    "\n",
    "c = Circle(5)\n",
    "print(c.radius)\n"
   ]
  },
  {
   "cell_type": "code",
   "execution_count": null,
   "id": "1c9f3906-d82e-4a40-99f7-9690d4b35293",
   "metadata": {},
   "outputs": [],
   "source": [
    "#64.Explain the use of the @deleter decorator in Python property decorators. Provide a code example demonstrating its application?"
   ]
  },
  {
   "cell_type": "code",
   "execution_count": null,
   "id": "2b375826-9b1b-4c79-a444-dc02e0850930",
   "metadata": {},
   "outputs": [],
   "source": [
    "The @deleter decorator deletes a private attribute."
   ]
  },
  {
   "cell_type": "code",
   "execution_count": 74,
   "id": "592e3896-6dbc-45c6-8679-16a0022e682b",
   "metadata": {},
   "outputs": [],
   "source": [
    "class Person:\n",
    "    def __init__(self, name):\n",
    "        self.__name = name\n",
    "\n",
    "    @property\n",
    "    def name(self):\n",
    "        return self.__name\n",
    "\n",
    "    @name.deleter\n",
    "    def name(self):\n",
    "        del self.__name\n",
    "\n",
    "p = Person(\"Alice\")\n",
    "del p.name\n"
   ]
  },
  {
   "cell_type": "code",
   "execution_count": null,
   "id": "94ff65cb-a031-47d2-90cd-9f0544ecbe2f",
   "metadata": {},
   "outputs": [],
   "source": [
    "#65.How does encapsulation relate to property decorators in Python? Provide an example showcasing encapsulation using property decorators?"
   ]
  },
  {
   "cell_type": "code",
   "execution_count": null,
   "id": "ba70773f-cf2a-4cd4-b7f3-00dfed365a51",
   "metadata": {},
   "outputs": [],
   "source": [
    "Property decorators help encapsulate private attributes by providing controlled access through getters, setters, and deleters."
   ]
  },
  {
   "cell_type": "code",
   "execution_count": 75,
   "id": "aec86fca-f7d0-463f-995d-698ed37e1f6e",
   "metadata": {},
   "outputs": [
    {
     "name": "stdout",
     "output_type": "stream",
     "text": [
      "200\n"
     ]
    }
   ],
   "source": [
    "class BankAccount:\n",
    "    def __init__(self, balance):\n",
    "        self.__balance = balance\n",
    "\n",
    "    @property\n",
    "    def balance(self):\n",
    "        return self.__balance\n",
    "\n",
    "    @balance.setter\n",
    "    def balance(self, amount):\n",
    "        if amount >= 0:\n",
    "            self.__balance = amount\n",
    "\n",
    "    @balance.deleter\n",
    "    def balance(self):\n",
    "        del self.__balance\n",
    "\n",
    "account = BankAccount(100)\n",
    "account.balance = 200\n",
    "print(account.balance)\n",
    "del account.balance\n"
   ]
  },
  {
   "cell_type": "code",
   "execution_count": null,
   "id": "2a5092ad-13db-476d-accc-4f0fe78d97d8",
   "metadata": {},
   "outputs": [],
   "source": []
  }
 ],
 "metadata": {
  "kernelspec": {
   "display_name": "Python 3 (ipykernel)",
   "language": "python",
   "name": "python3"
  },
  "language_info": {
   "codemirror_mode": {
    "name": "ipython",
    "version": 3
   },
   "file_extension": ".py",
   "mimetype": "text/x-python",
   "name": "python",
   "nbconvert_exporter": "python",
   "pygments_lexer": "ipython3",
   "version": "3.12.4"
  }
 },
 "nbformat": 4,
 "nbformat_minor": 5
}
