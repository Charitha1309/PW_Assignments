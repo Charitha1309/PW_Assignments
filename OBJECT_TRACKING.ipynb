{
 "cells": [
  {
   "cell_type": "code",
   "execution_count": 1,
   "id": "93489eea-3ee9-4e8c-a640-7e5cf4830016",
   "metadata": {},
   "outputs": [
    {
     "data": {
      "text/plain": [
       "'1. What is object tracking, and how does it differ from object detection?\\nObject tracking is the process of following an object across multiple frames in a video. Unlike object detection, which only identifies and localizes objects in a single frame, tracking focuses on maintaining the identity of the object across time. Object tracking algorithms use information like object appearance and motion patterns to maintain consistency even when objects temporarily leave the field of view or overlap with others.'"
      ]
     },
     "execution_count": 1,
     "metadata": {},
     "output_type": "execute_result"
    }
   ],
   "source": [
    "'''1. What is object tracking, and how does it differ from object detection?\n",
    "Object tracking is the process of following an object across multiple frames in a video. Unlike object detection, which only identifies and localizes objects in a single frame, tracking focuses on maintaining the identity of the object across time. Object tracking algorithms use information like object appearance and motion patterns to maintain consistency even when objects temporarily leave the field of view or overlap with others.'''"
   ]
  },
  {
   "cell_type": "code",
   "execution_count": 2,
   "id": "af6b8748-a0cf-4880-9abd-13c35aac5e74",
   "metadata": {},
   "outputs": [
    {
     "data": {
      "text/plain": [
       "'2. Explain the basic working principle of a Kalman Filter.\\nA Kalman Filter is a recursive algorithm used for state estimation in dynamic systems. It consists of two primary steps:\\n\\nPrediction: Estimate the state and uncertainty based on previous state information.\\nUpdate: Incorporate new measurements to correct the predicted state.\\nThis method assumes that noise follows a Gaussian distribution and works by minimizing the mean-squared error between predictions and measurements.'"
      ]
     },
     "execution_count": 2,
     "metadata": {},
     "output_type": "execute_result"
    }
   ],
   "source": [
    "'''2. Explain the basic working principle of a Kalman Filter.\n",
    "A Kalman Filter is a recursive algorithm used for state estimation in dynamic systems. It consists of two primary steps:\n",
    "\n",
    "Prediction: Estimate the state and uncertainty based on previous state information.\n",
    "Update: Incorporate new measurements to correct the predicted state.\n",
    "This method assumes that noise follows a Gaussian distribution and works by minimizing the mean-squared error between predictions and measurements.'''"
   ]
  },
  {
   "cell_type": "code",
   "execution_count": 3,
   "id": "47319674-4107-4998-997d-843e66742928",
   "metadata": {},
   "outputs": [
    {
     "data": {
      "text/plain": [
       "'3. What is YOLO, and why is it popular for object detection in real-time applications?\\nYOLO (You Only Look Once) is a real-time object detection algorithm. It is popular because it divides the input image into a grid and simultaneously predicts bounding boxes and class probabilities. This single-stage detection process makes YOLO extremely fast compared to traditional methods, which use separate region proposal and classification stages. Its speed and accuracy make it suitable for applications like autonomous vehicles and security systems.\\n\\n'"
      ]
     },
     "execution_count": 3,
     "metadata": {},
     "output_type": "execute_result"
    }
   ],
   "source": [
    "'''3. What is YOLO, and why is it popular for object detection in real-time applications?\n",
    "YOLO (You Only Look Once) is a real-time object detection algorithm. It is popular because it divides the input image into a grid and simultaneously predicts bounding boxes and class probabilities. This single-stage detection process makes YOLO extremely fast compared to traditional methods, which use separate region proposal and classification stages. Its speed and accuracy make it suitable for applications like autonomous vehicles and security systems.\n",
    "\n",
    "'''"
   ]
  },
  {
   "cell_type": "code",
   "execution_count": 4,
   "id": "85428d07-8539-4318-bd84-2a18f2938cca",
   "metadata": {},
   "outputs": [
    {
     "data": {
      "text/plain": [
       "'4. How does DeepSORT improve object tracking?\\nDeepSORT (Simple Online and Realtime Tracking) enhances object tracking by combining motion and appearance information. It uses a Kalman Filter to predict object positions and an appearance feature extractor to distinguish between objects with similar motion patterns. The Hungarian algorithm is then applied to associate detections with existing tracks, leading to better handling of occlusions and crowded environments.'"
      ]
     },
     "execution_count": 4,
     "metadata": {},
     "output_type": "execute_result"
    }
   ],
   "source": [
    "'''4. How does DeepSORT improve object tracking?\n",
    "DeepSORT (Simple Online and Realtime Tracking) enhances object tracking by combining motion and appearance information. It uses a Kalman Filter to predict object positions and an appearance feature extractor to distinguish between objects with similar motion patterns. The Hungarian algorithm is then applied to associate detections with existing tracks, leading to better handling of occlusions and crowded environments.'''"
   ]
  },
  {
   "cell_type": "code",
   "execution_count": 5,
   "id": "37761f82-f819-4456-b1e8-df4c182ec021",
   "metadata": {},
   "outputs": [
    {
     "data": {
      "text/plain": [
       "\"5. Explain the concept of state estimation in a Kalman Filter.\\nState estimation involves predicting the state of a dynamic system (e.g., object position and velocity) and correcting it based on measurements. In the context of object tracking, the Kalman Filter maintains an estimate of the object's state over time, accounting for both motion dynamics and noisy measurements. The filter minimizes the estimation error through recursive prediction and update steps.\""
      ]
     },
     "execution_count": 5,
     "metadata": {},
     "output_type": "execute_result"
    }
   ],
   "source": [
    "'''5. Explain the concept of state estimation in a Kalman Filter.\n",
    "State estimation involves predicting the state of a dynamic system (e.g., object position and velocity) and correcting it based on measurements. In the context of object tracking, the Kalman Filter maintains an estimate of the object's state over time, accounting for both motion dynamics and noisy measurements. The filter minimizes the estimation error through recursive prediction and update steps.'''"
   ]
  },
  {
   "cell_type": "code",
   "execution_count": 6,
   "id": "74229baa-4932-4cf2-bbea-30ae3b815d5f",
   "metadata": {},
   "outputs": [
    {
     "data": {
      "text/plain": [
       "'6. What are the challenges in object tracking across multiple frames?\\nChallenges include:\\n\\nOcclusions: Objects partially or completely obscured by other objects.\\nAppearance Changes: Objects changing shape or color.\\nMotion Blur: Fast-moving objects causing blurred images.\\nScene Complexity: Crowded environments with multiple overlapping objects.\\nIdentity Switching: Assigning incorrect IDs when objects intersect or overlap'"
      ]
     },
     "execution_count": 6,
     "metadata": {},
     "output_type": "execute_result"
    }
   ],
   "source": [
    "'''6. What are the challenges in object tracking across multiple frames?\n",
    "Challenges include:\n",
    "\n",
    "Occlusions: Objects partially or completely obscured by other objects.\n",
    "Appearance Changes: Objects changing shape or color.\n",
    "Motion Blur: Fast-moving objects causing blurred images.\n",
    "Scene Complexity: Crowded environments with multiple overlapping objects.\n",
    "Identity Switching: Assigning incorrect IDs when objects intersect or overlap'''"
   ]
  },
  {
   "cell_type": "code",
   "execution_count": 7,
   "id": "6d2b10e2-57f7-4861-9400-19e92dfbd188",
   "metadata": {},
   "outputs": [
    {
     "data": {
      "text/plain": [
       "'7. Describe the role of the Hungarian algorithm in DeepSORT.\\nThe Hungarian algorithm is used in DeepSORT to solve the assignment problem, where detections from the current frame need to be associated with existing object tracks. It finds the optimal assignment that minimizes the total cost (distance) between detections and tracks, enabling accurate tracking even in complex scenarios.'"
      ]
     },
     "execution_count": 7,
     "metadata": {},
     "output_type": "execute_result"
    }
   ],
   "source": [
    "'''7. Describe the role of the Hungarian algorithm in DeepSORT.\n",
    "The Hungarian algorithm is used in DeepSORT to solve the assignment problem, where detections from the current frame need to be associated with existing object tracks. It finds the optimal assignment that minimizes the total cost (distance) between detections and tracks, enabling accurate tracking even in complex scenarios.'''"
   ]
  },
  {
   "cell_type": "code",
   "execution_count": 8,
   "id": "2470910e-d9af-409b-af30-4846f1f68735",
   "metadata": {},
   "outputs": [
    {
     "data": {
      "text/plain": [
       "'8. What are the advantages of using YOLO over traditional object detection methods?\\nSpeed: YOLO performs detection in a single pass, making it faster than multi-stage approaches.\\nEnd-to-End Learning: The model learns bounding box coordinates and class probabilities simultaneously.\\nGeneralization: YOLO generalizes well to new images due to its grid-based approach.\\nReal-Time Capability: Ideal for applications requiring immediate response, like surveillance.'"
      ]
     },
     "execution_count": 8,
     "metadata": {},
     "output_type": "execute_result"
    }
   ],
   "source": [
    "'''8. What are the advantages of using YOLO over traditional object detection methods?\n",
    "Speed: YOLO performs detection in a single pass, making it faster than multi-stage approaches.\n",
    "End-to-End Learning: The model learns bounding box coordinates and class probabilities simultaneously.\n",
    "Generalization: YOLO generalizes well to new images due to its grid-based approach.\n",
    "Real-Time Capability: Ideal for applications requiring immediate response, like surveillance.'''"
   ]
  },
  {
   "cell_type": "code",
   "execution_count": 9,
   "id": "931559db-749e-4929-915c-11a4b24382fa",
   "metadata": {},
   "outputs": [
    {
     "data": {
      "text/plain": [
       "'9. How does the Kalman Filter handle uncertainty in predictions?\\nThe Kalman Filter handles uncertainty by maintaining a covariance matrix representing the uncertainty of the state estimates. The prediction step propagates this uncertainty, while the update step reduces it by incorporating measurement information. This probabilistic approach ensures robustness in noisy environments.'"
      ]
     },
     "execution_count": 9,
     "metadata": {},
     "output_type": "execute_result"
    }
   ],
   "source": [
    "'''9. How does the Kalman Filter handle uncertainty in predictions?\n",
    "The Kalman Filter handles uncertainty by maintaining a covariance matrix representing the uncertainty of the state estimates. The prediction step propagates this uncertainty, while the update step reduces it by incorporating measurement information. This probabilistic approach ensures robustness in noisy environments.'''"
   ]
  },
  {
   "cell_type": "code",
   "execution_count": 10,
   "id": "8660448f-6e7f-44a6-a02a-0159c4c9e96e",
   "metadata": {},
   "outputs": [
    {
     "data": {
      "text/plain": [
       "'10. What is the difference between object tracking and object segmentation?\\nObject tracking focuses on maintaining the identity and position of objects across video frames. In contrast, object segmentation involves delineating the precise pixel boundaries of objects in an image. Segmentation provides more detailed information but is computationally more intensive than tracking.'"
      ]
     },
     "execution_count": 10,
     "metadata": {},
     "output_type": "execute_result"
    }
   ],
   "source": [
    "'''10. What is the difference between object tracking and object segmentation?\n",
    "Object tracking focuses on maintaining the identity and position of objects across video frames. In contrast, object segmentation involves delineating the precise pixel boundaries of objects in an image. Segmentation provides more detailed information but is computationally more intensive than tracking.'''"
   ]
  },
  {
   "cell_type": "code",
   "execution_count": 11,
   "id": "6d7d7ea4-c166-47ae-8808-1555c437c70a",
   "metadata": {},
   "outputs": [
    {
     "data": {
      "text/plain": [
       "\"11. How can YOLO be used in combination with a Kalman Filter for tracking?\\nYOLO can be used to detect objects in each frame, providing initial bounding box coordinates. These detections serve as inputs for the Kalman Filter, which then predicts the objects' future positions and updates them based on new measurements. This combination improves tracking accuracy and robustness.\""
      ]
     },
     "execution_count": 11,
     "metadata": {},
     "output_type": "execute_result"
    }
   ],
   "source": [
    "'''11. How can YOLO be used in combination with a Kalman Filter for tracking?\n",
    "YOLO can be used to detect objects in each frame, providing initial bounding box coordinates. These detections serve as inputs for the Kalman Filter, which then predicts the objects' future positions and updates them based on new measurements. This combination improves tracking accuracy and robustness.'''"
   ]
  },
  {
   "cell_type": "code",
   "execution_count": 12,
   "id": "d33c058e-4d67-4730-bdd7-77104cf3452a",
   "metadata": {},
   "outputs": [
    {
     "data": {
      "text/plain": [
       "'12. What are the key components of DeepSORT?\\nKalman Filter: Predicts object positions.\\nHungarian Algorithm: Associates detections with tracks.\\nAppearance Feature Extractor: Distinguishes objects based on visual features.\\nIoU-Based Matching: Handles occlusions and track fragmentation'"
      ]
     },
     "execution_count": 12,
     "metadata": {},
     "output_type": "execute_result"
    }
   ],
   "source": [
    "'''12. What are the key components of DeepSORT?\n",
    "Kalman Filter: Predicts object positions.\n",
    "Hungarian Algorithm: Associates detections with tracks.\n",
    "Appearance Feature Extractor: Distinguishes objects based on visual features.\n",
    "IoU-Based Matching: Handles occlusions and track fragmentation'''"
   ]
  },
  {
   "cell_type": "code",
   "execution_count": 13,
   "id": "852eead6-0ce1-4a8a-a680-9d90526802d3",
   "metadata": {},
   "outputs": [
    {
     "data": {
      "text/plain": [
       "'13. Explain the process of associating detections with existing tracks in DeepSORT.\\nThe process involves calculating the cost matrix based on motion and appearance similarities. The Hungarian algorithm then finds the optimal assignment between detections and existing tracks. Unmatched tracks are marked for deletion, while unmatched detections create new tracks.'"
      ]
     },
     "execution_count": 13,
     "metadata": {},
     "output_type": "execute_result"
    }
   ],
   "source": [
    "'''13. Explain the process of associating detections with existing tracks in DeepSORT.\n",
    "The process involves calculating the cost matrix based on motion and appearance similarities. The Hungarian algorithm then finds the optimal assignment between detections and existing tracks. Unmatched tracks are marked for deletion, while unmatched detections create new tracks.'''"
   ]
  },
  {
   "cell_type": "code",
   "execution_count": 14,
   "id": "a43e58e8-f6c9-4728-933f-7414ffe1893b",
   "metadata": {},
   "outputs": [
    {
     "data": {
      "text/plain": [
       "'14. Why is real-time tracking important in many applications?\\nReal-time tracking enables immediate responses in dynamic environments, making it essential for applications like:\\n\\nAutonomous vehicles for obstacle avoidance.\\nSurveillance systems for threat detection.\\nSports analytics for player movement tracking.\\nAugmented reality applications.'"
      ]
     },
     "execution_count": 14,
     "metadata": {},
     "output_type": "execute_result"
    }
   ],
   "source": [
    "'''14. Why is real-time tracking important in many applications?\n",
    "Real-time tracking enables immediate responses in dynamic environments, making it essential for applications like:\n",
    "\n",
    "Autonomous vehicles for obstacle avoidance.\n",
    "Surveillance systems for threat detection.\n",
    "Sports analytics for player movement tracking.\n",
    "Augmented reality applications.'''"
   ]
  },
  {
   "cell_type": "code",
   "execution_count": 15,
   "id": "9bc4f7e4-f6c6-45a6-98ca-0d0ccf6b8542",
   "metadata": {},
   "outputs": [
    {
     "data": {
      "text/plain": [
       "'15. Describe the prediction and update steps of a Kalman Filter.\\nPrediction: Estimates the next state and uncertainty based on the current state and system dynamics.\\nUpdate: Incorporates measurements to correct the predicted state and reduce uncertainty by computing a weighted average.'"
      ]
     },
     "execution_count": 15,
     "metadata": {},
     "output_type": "execute_result"
    }
   ],
   "source": [
    "'''15. Describe the prediction and update steps of a Kalman Filter.\n",
    "Prediction: Estimates the next state and uncertainty based on the current state and system dynamics.\n",
    "Update: Incorporates measurements to correct the predicted state and reduce uncertainty by computing a weighted average.'''"
   ]
  },
  {
   "cell_type": "code",
   "execution_count": 16,
   "id": "a76d2cb5-5d2b-47d1-8409-348d930ea955",
   "metadata": {},
   "outputs": [
    {
     "data": {
      "text/plain": [
       "'16. What is a bounding box, and how does it relate to object tracking?\\nA bounding box is a rectangular frame that encloses an object in an image or video frame. It is defined by its top-left coordinates, width, and height. In object tracking, bounding boxes are used to localize and track objects across frames.'"
      ]
     },
     "execution_count": 16,
     "metadata": {},
     "output_type": "execute_result"
    }
   ],
   "source": [
    "'''16. What is a bounding box, and how does it relate to object tracking?\n",
    "A bounding box is a rectangular frame that encloses an object in an image or video frame. It is defined by its top-left coordinates, width, and height. In object tracking, bounding boxes are used to localize and track objects across frames.'''"
   ]
  },
  {
   "cell_type": "code",
   "execution_count": 17,
   "id": "a67cea7a-c469-4b1c-a030-ee406dc89446",
   "metadata": {},
   "outputs": [
    {
     "data": {
      "text/plain": [
       "'17. What is the purpose of combining object detection and tracking in a pipeline?\\nCombining detection and tracking improves performance by reducing the need for continuous detection in every frame. Detection initializes object positions, while tracking maintains their identities across frames. This combination leads to faster and more robust systems.\\n\\n'"
      ]
     },
     "execution_count": 17,
     "metadata": {},
     "output_type": "execute_result"
    }
   ],
   "source": [
    "'''17. What is the purpose of combining object detection and tracking in a pipeline?\n",
    "Combining detection and tracking improves performance by reducing the need for continuous detection in every frame. Detection initializes object positions, while tracking maintains their identities across frames. This combination leads to faster and more robust systems.\n",
    "\n",
    "'''"
   ]
  },
  {
   "cell_type": "code",
   "execution_count": 18,
   "id": "16751041-e4f1-42ff-b670-f33ea1e6dc65",
   "metadata": {},
   "outputs": [
    {
     "data": {
      "text/plain": [
       "'18. What is the role of the appearance feature extractor in DeepSORT?\\nThe appearance feature extractor generates visual features for each detected object, helping to distinguish between similar-looking objects. This aids in maintaining track consistency during occlusions and reducing identity switches.'"
      ]
     },
     "execution_count": 18,
     "metadata": {},
     "output_type": "execute_result"
    }
   ],
   "source": [
    "'''18. What is the role of the appearance feature extractor in DeepSORT?\n",
    "The appearance feature extractor generates visual features for each detected object, helping to distinguish between similar-looking objects. This aids in maintaining track consistency during occlusions and reducing identity switches.'''"
   ]
  },
  {
   "cell_type": "code",
   "execution_count": 19,
   "id": "b92ce0cc-1cba-4d60-a0de-2d48c02cd395",
   "metadata": {},
   "outputs": [
    {
     "data": {
      "text/plain": [
       "\"19. How do occlusions affect object tracking, and how can the Kalman Filter help mitigate this?\\nOcclusions occur when an object is partially or fully hidden by another object. The Kalman Filter helps mitigate this by predicting the object's position during occlusions and updating the state once the object becomes visible again.\""
      ]
     },
     "execution_count": 19,
     "metadata": {},
     "output_type": "execute_result"
    }
   ],
   "source": [
    "'''19. How do occlusions affect object tracking, and how can the Kalman Filter help mitigate this?\n",
    "Occlusions occur when an object is partially or fully hidden by another object. The Kalman Filter helps mitigate this by predicting the object's position during occlusions and updating the state once the object becomes visible again.'''"
   ]
  },
  {
   "cell_type": "code",
   "execution_count": 20,
   "id": "c120355f-2442-4842-a328-56bb07f5be54",
   "metadata": {},
   "outputs": [
    {
     "data": {
      "text/plain": [
       "\"20. Explain how YOLO's architecture is optimized for speed.\\nYOLO's architecture uses a single convolutional neural network (CNN) to predict multiple bounding boxes and class probabilities simultaneously. Its grid-based approach and elimination of region proposal stages significantly reduce computation time, making it fast for real-time applications\""
      ]
     },
     "execution_count": 20,
     "metadata": {},
     "output_type": "execute_result"
    }
   ],
   "source": [
    "'''20. Explain how YOLO's architecture is optimized for speed.\n",
    "YOLO's architecture uses a single convolutional neural network (CNN) to predict multiple bounding boxes and class probabilities simultaneously. Its grid-based approach and elimination of region proposal stages significantly reduce computation time, making it fast for real-time applications'''"
   ]
  },
  {
   "cell_type": "code",
   "execution_count": 21,
   "id": "47154873-56d9-43a1-934f-10fc9c36c4f4",
   "metadata": {},
   "outputs": [
    {
     "data": {
      "text/plain": [
       "'21. What is a motion model, and how does it contribute to object tracking?\\nA motion model predicts the future state of an object based on its current state and dynamics. In tracking systems, motion models help maintain object positions during occlusions and improve the association between detections and tracks.'"
      ]
     },
     "execution_count": 21,
     "metadata": {},
     "output_type": "execute_result"
    }
   ],
   "source": [
    "'''21. What is a motion model, and how does it contribute to object tracking?\n",
    "A motion model predicts the future state of an object based on its current state and dynamics. In tracking systems, motion models help maintain object positions during occlusions and improve the association between detections and tracks.'''"
   ]
  },
  {
   "cell_type": "code",
   "execution_count": 22,
   "id": "795eae37-a5f1-4a32-acc3-f63b102abc4f",
   "metadata": {},
   "outputs": [
    {
     "data": {
      "text/plain": [
       "'22. How can the performance of an object tracking system be evaluated?\\nPerformance can be evaluated using metrics such as:\\n\\nMOTA (Multiple Object Tracking Accuracy)\\nMOTP (Multiple Object Tracking Precision)\\nIdentity Switches: Frequency of incorrect track assignments\\nFrame Rate: Real-time capability\\nOcclusion Handling: Robustness during occlusions.'"
      ]
     },
     "execution_count": 22,
     "metadata": {},
     "output_type": "execute_result"
    }
   ],
   "source": [
    "'''22. How can the performance of an object tracking system be evaluated?\n",
    "Performance can be evaluated using metrics such as:\n",
    "\n",
    "MOTA (Multiple Object Tracking Accuracy)\n",
    "MOTP (Multiple Object Tracking Precision)\n",
    "Identity Switches: Frequency of incorrect track assignments\n",
    "Frame Rate: Real-time capability\n",
    "Occlusion Handling: Robustness during occlusions.'''"
   ]
  },
  {
   "cell_type": "code",
   "execution_count": 23,
   "id": "66fad090-6f14-4db3-a9f8-4f1bb1058292",
   "metadata": {},
   "outputs": [
    {
     "data": {
      "text/plain": [
       "'23. What are the key differences between DeepSORT and traditional tracking algorithms?\\nAppearance Features: DeepSORT uses CNN-based appearance descriptors.\\nBetter Association: Combines motion and appearance for improved detection-track association.\\nOcclusion Handling: Handles complex scenes better.\\nTraditional algorithms often rely solely on motion models and are less robust in crowded environments.'"
      ]
     },
     "execution_count": 23,
     "metadata": {},
     "output_type": "execute_result"
    }
   ],
   "source": [
    "'''23. What are the key differences between DeepSORT and traditional tracking algorithms?\n",
    "Appearance Features: DeepSORT uses CNN-based appearance descriptors.\n",
    "Better Association: Combines motion and appearance for improved detection-track association.\n",
    "Occlusion Handling: Handles complex scenes better.\n",
    "Traditional algorithms often rely solely on motion models and are less robust in crowded environments.'''"
   ]
  },
  {
   "cell_type": "markdown",
   "id": "641a3b35-3d58-41de-80a7-46ad6b757060",
   "metadata": {},
   "source": [
    "# PRACTICAL"
   ]
  },
  {
   "cell_type": "code",
   "execution_count": 24,
   "id": "a9b96e7f-11c4-4795-bb0f-a79527dbd5d2",
   "metadata": {},
   "outputs": [],
   "source": [
    "#1).Implement a Kalman filter to predict and update the state of an object given its measurements.\n",
    "import numpy as np\n",
    "\n",
    "class KalmanFilter:\n",
    "    def __init__(self, state_dim, measurement_dim):\n",
    "        self.state = np.zeros((state_dim, 1))  # Initial state vector\n",
    "        self.covariance = np.eye(state_dim)  # State covariance matrix\n",
    "        self.transition_matrix = np.eye(state_dim)  # State transition matrix\n",
    "        self.measurement_matrix = np.eye(measurement_dim, state_dim)  # Measurement matrix\n",
    "        self.process_noise = np.eye(state_dim) * 0.01  # Process noise covariance\n",
    "        self.measurement_noise = np.eye(measurement_dim) * 0.1  # Measurement noise covariance\n",
    "\n",
    "    def predict(self):\n",
    "        self.state = np.dot(self.transition_matrix, self.state)\n",
    "        self.covariance = np.dot(self.transition_matrix, np.dot(self.covariance, self.transition_matrix.T)) + self.process_noise\n",
    "        return self.state\n",
    "\n",
    "    def update(self, measurement):\n",
    "        measurement_residual = measurement - np.dot(self.measurement_matrix, self.state)\n",
    "        innovation_covariance = np.dot(self.measurement_matrix, np.dot(self.covariance, self.measurement_matrix.T)) + self.measurement_noise\n",
    "        kalman_gain = np.dot(self.covariance, np.dot(self.measurement_matrix.T, np.linalg.inv(innovation_covariance)))\n",
    "        \n",
    "        self.state = self.state + np.dot(kalman_gain, measurement_residual)\n",
    "        self.covariance = self.covariance - np.dot(kalman_gain, np.dot(self.measurement_matrix, self.covariance))\n",
    "        return self.state\n",
    "\n"
   ]
  },
  {
   "cell_type": "code",
   "execution_count": 25,
   "id": "4ef1e333-6125-4497-9a56-1e1e86530d19",
   "metadata": {},
   "outputs": [
    {
     "name": "stdout",
     "output_type": "stream",
     "text": [
      "Normalized Image:\n",
      " [[[0.19607843 0.05098039 0.78823529]\n",
      "  [0.05490196 0.25098039 0.73333333]\n",
      "  [0.76862745 0.83137255 0.98431373]\n",
      "  [0.64313725 0.3254902  0.61960784]]\n",
      "\n",
      " [[0.16470588 0.10196078 0.23529412]\n",
      "  [0.09411765 0.29803922 0.47058824]\n",
      "  [0.24313725 0.67058824 0.81568627]\n",
      "  [0.3254902  0.23921569 0.15294118]]\n",
      "\n",
      " [[0.36078431 0.05490196 0.54117647]\n",
      "  [1.         0.55294118 0.62745098]\n",
      "  [0.34509804 0.64705882 0.85882353]\n",
      "  [0.51764706 0.4        0.41568627]]\n",
      "\n",
      " [[0.14117647 0.78823529 0.55686275]\n",
      "  [0.83137255 0.74117647 0.70588235]\n",
      "  [0.47058824 0.2745098  0.1254902 ]\n",
      "  [0.42745098 0.34509804 0.62352941]]]\n"
     ]
    }
   ],
   "source": [
    "#2)Write a function to normalize an image array such that pixel values are scaled between 0 and 1.\n",
    "import numpy as np\n",
    "\n",
    "def normalize_image(image):\n",
    "    return image / 255.0\n",
    "\n",
    "# Example usage\n",
    "image = np.random.randint(0, 256, (4, 4, 3), dtype=np.uint8)\n",
    "normalized_image = normalize_image(image)\n",
    "print(\"Normalized Image:\\n\", normalized_image)\n"
   ]
  },
  {
   "cell_type": "code",
   "execution_count": 26,
   "id": "24b1c525-5550-4952-ba30-f16c4d531fd4",
   "metadata": {},
   "outputs": [
    {
     "name": "stdout",
     "output_type": "stream",
     "text": [
      "All Detections: [{'bounding_box': [94, 96, 76, 38], 'confidence': 0.437244444967511}, {'bounding_box': [6, 51, 52, 39], 'confidence': 0.413387540135575}, {'bounding_box': [68, 25, 1, 100], 'confidence': 0.29543142435538683}, {'bounding_box': [1, 75, 15, 28], 'confidence': 0.4156626907617267}, {'bounding_box': [78, 25, 10, 63], 'confidence': 0.4674613864033941}]\n",
      "Filtered Detections: []\n"
     ]
    }
   ],
   "source": [
    "#3.Create a function to generate dummy object detection data with confidence scores and bounding boxes.Filter the detections based on a confidence threshold\n",
    "import random\n",
    "\n",
    "def generate_detections(num_detections=5):\n",
    "    detections = [\n",
    "        {\"bounding_box\": [random.randint(0, 100) for _ in range(4)], \"confidence\": random.random()}\n",
    "        for _ in range(num_detections)\n",
    "    ]\n",
    "    return detections\n",
    "\n",
    "def filter_detections(detections, threshold=0.5):\n",
    "    return [d for d in detections if d[\"confidence\"] >= threshold]\n",
    "\n",
    "detections = generate_detections()\n",
    "print(\"All Detections:\", detections)\n",
    "filtered_detections = filter_detections(detections)\n",
    "print(\"Filtered Detections:\", filtered_detections)\n"
   ]
  },
  {
   "cell_type": "code",
   "execution_count": 27,
   "id": "4846a985-e8de-4d5b-97e4-7dbccc7f3af2",
   "metadata": {},
   "outputs": [
    {
     "name": "stdout",
     "output_type": "stream",
     "text": [
      "Feature Vectors: {0: array([0.21001792, 0.38534075, 0.50322288, 0.21383726, 0.82817391,\n",
      "       0.00444354, 0.92030264, 0.51136471, 0.60676742, 0.35714458,\n",
      "       0.68299918, 0.79181842, 0.58356814, 0.73447833, 0.34492207,\n",
      "       0.63791679, 0.75179666, 0.7038804 , 0.23629022, 0.81404387,\n",
      "       0.73805783, 0.26738478, 0.6432675 , 0.03189794, 0.81151284,\n",
      "       0.19129895, 0.35493082, 0.22783309, 0.7672925 , 0.45772721,\n",
      "       0.93942622, 0.51989691, 0.25486065, 0.95643674, 0.901638  ,\n",
      "       0.23100795, 0.21420971, 0.80254246, 0.02253971, 0.19963035,\n",
      "       0.5053473 , 0.23489951, 0.53371274, 0.17193047, 0.13567679,\n",
      "       0.78792618, 0.60778824, 0.29420098, 0.33003423, 0.50631265,\n",
      "       0.1311299 , 0.29186335, 0.8914846 , 0.59415773, 0.59909116,\n",
      "       0.38169899, 0.27956075, 0.47174369, 0.49884473, 0.89052432,\n",
      "       0.20123485, 0.9418536 , 0.36543305, 0.39938922, 0.72598033,\n",
      "       0.06106825, 0.32801609, 0.0890464 , 0.92130952, 0.53795769,\n",
      "       0.81222664, 0.92708217, 0.38641802, 0.34953152, 0.72109946,\n",
      "       0.62036778, 0.62981556, 0.94972346, 0.38315055, 0.13121355,\n",
      "       0.06543381, 0.36820619, 0.54086791, 0.70910891, 0.50132379,\n",
      "       0.41824422, 0.88470562, 0.11479882, 0.98535059, 0.50145597,\n",
      "       0.2031064 , 0.153171  , 0.13667796, 0.5404949 , 0.04700701,\n",
      "       0.67264673, 0.75412476, 0.33514258, 0.01837011, 0.12977487,\n",
      "       0.29694649, 0.85706758, 0.73358465, 0.02466702, 0.17677602,\n",
      "       0.50024817, 0.54013198, 0.67206536, 0.31722795, 0.96439239,\n",
      "       0.5186475 , 0.56244348, 0.9306851 , 0.0548678 , 0.34531085,\n",
      "       0.78280168, 0.2384089 , 0.78442446, 0.24071485, 0.94708431,\n",
      "       0.90153075, 0.4807375 , 0.62190497, 0.30154154, 0.95476789,\n",
      "       0.39459097, 0.51150222, 0.27516866]), 1: array([0.65153647, 0.67139304, 0.00190706, 0.16078608, 0.86006779,\n",
      "       0.01149747, 0.0264035 , 0.34505845, 0.25023805, 0.425527  ,\n",
      "       0.74272565, 0.94345297, 0.45368744, 0.46803159, 0.14042333,\n",
      "       0.16482828, 0.27322853, 0.08733845, 0.26226572, 0.33984826,\n",
      "       0.20872156, 0.47556651, 0.75250523, 0.72357549, 0.11117502,\n",
      "       0.43353752, 0.40495823, 0.88068327, 0.74472194, 0.07534789,\n",
      "       0.90451041, 0.21210831, 0.35646459, 0.83637321, 0.14475469,\n",
      "       0.85759522, 0.56425221, 0.5662975 , 0.43520529, 0.4760398 ,\n",
      "       0.2487518 , 0.80969694, 0.63754848, 0.63942984, 0.89803907,\n",
      "       0.86566112, 0.56207077, 0.24158451, 0.8552375 , 0.50485624,\n",
      "       0.33130887, 0.79730645, 0.67085092, 0.14845929, 0.8451177 ,\n",
      "       0.28240061, 0.34621848, 0.71985804, 0.53904909, 0.75056448,\n",
      "       0.22182066, 0.39684549, 0.77049881, 0.64694417, 0.68296766,\n",
      "       0.14602634, 0.05175876, 0.69670268, 0.25301812, 0.85256422,\n",
      "       0.94122885, 0.49862975, 0.43367948, 0.83532113, 0.39304496,\n",
      "       0.61844511, 0.89296034, 0.74603079, 0.4963335 , 0.10442563,\n",
      "       0.14291799, 0.45945422, 0.23521645, 0.39770767, 0.27192323,\n",
      "       0.7238236 , 0.51665846, 0.75082157, 0.41284341, 0.44338707,\n",
      "       0.4481878 , 0.68441058, 0.30141271, 0.75148157, 0.05182057,\n",
      "       0.42321753, 0.16583468, 0.90494334, 0.33592072, 0.42593359,\n",
      "       0.34761772, 0.72520441, 0.54566441, 0.73473545, 0.03005599,\n",
      "       0.37895171, 0.42322681, 0.15474147, 0.23132494, 0.43831712,\n",
      "       0.41844419, 0.81534261, 0.80140459, 0.61636438, 0.69401067,\n",
      "       0.92955533, 0.57991428, 0.935176  , 0.37752317, 0.46361442,\n",
      "       0.56348091, 0.01582068, 0.24966157, 0.6396907 , 0.2208884 ,\n",
      "       0.05418613, 0.19961964, 0.49457306])}\n"
     ]
    }
   ],
   "source": [
    "#4).Write a function that takes a list of YOLO detections and extracts a random 128-dimensional feature vector for each detection.\n",
    "import numpy as np\n",
    "\n",
    "def extract_features(detections):\n",
    "    return {i: np.random.rand(128) for i in range(len(detections))}\n",
    "\n",
    "detections = [{\"bounding_box\": [10, 20, 50, 60]}, {\"bounding_box\": [30, 40, 90, 120]}]\n",
    "features = extract_features(detections)\n",
    "print(\"Feature Vectors:\", features)\n"
   ]
  },
  {
   "cell_type": "code",
   "execution_count": 28,
   "id": "20298962-4b64-488e-856c-4aa854891429",
   "metadata": {},
   "outputs": [
    {
     "name": "stdout",
     "output_type": "stream",
     "text": [
      "Matched Objects: [(0, 1), (1, 1)]\n"
     ]
    }
   ],
   "source": [
    "#5).Write a function to re-identify objects by matching feature vectors based on Euclidean distance.\n",
    "from scipy.spatial.distance import euclidean\n",
    "\n",
    "def reidentify_objects(features_1, features_2):\n",
    "    matches = []\n",
    "    for obj_1, vec_1 in features_1.items():\n",
    "        best_match = min(features_2.items(), key=lambda item: euclidean(vec_1, item[1]))\n",
    "        matches.append((obj_1, best_match[0]))\n",
    "    return matches\n",
    "\n",
    "features_1 = {0: np.random.rand(128), 1: np.random.rand(128)}\n",
    "features_2 = {0: np.random.rand(128), 1: np.random.rand(128)}\n",
    "matches = reidentify_objects(features_1, features_2)\n",
    "print(\"Matched Objects:\", matches)\n"
   ]
  },
  {
   "cell_type": "code",
   "execution_count": 29,
   "id": "7930e51c-3e78-4323-a32f-bb69d794ed7d",
   "metadata": {},
   "outputs": [
    {
     "name": "stdout",
     "output_type": "stream",
     "text": [
      "Tracked Positions: [array([[13.64864865],\n",
      "       [22.74774775],\n",
      "       [ 0.        ],\n",
      "       [ 0.        ]]), array([[21.86463469],\n",
      "       [36.44105782],\n",
      "       [ 0.        ],\n",
      "       [ 0.        ]])]\n"
     ]
    }
   ],
   "source": [
    "#6)Write a function to track object positions using YOLO detections and a Kalman Filter\n",
    "class SimpleKalmanFilter:\n",
    "    def __init__(self):\n",
    "        self.kf = KalmanFilter(4, 2)\n",
    "    \n",
    "    def track_objects(self, detections):\n",
    "        tracks = []\n",
    "        for detection in detections:\n",
    "            x, y = detection[\"bounding_box\"][:2]\n",
    "            state = self.kf.predict()\n",
    "            updated_state = self.kf.update(np.array([[x], [y]]))\n",
    "            tracks.append(updated_state)\n",
    "        return tracks\n",
    "\n",
    "detections = [{\"bounding_box\": [15, 25]}, {\"bounding_box\": [30, 50]}]\n",
    "kf_tracker = SimpleKalmanFilter()\n",
    "tracked_positions = kf_tracker.track_objects(detections)\n",
    "print(\"Tracked Positions:\", tracked_positions)\n"
   ]
  },
  {
   "cell_type": "code",
   "execution_count": 31,
   "id": "fe6b289a-6810-484e-bee4-2c165aee4e69",
   "metadata": {},
   "outputs": [
    {
     "data": {
      "image/png": "[encoded data removed]",
      "text/plain": [
       "<Figure size 640x480 with 1 Axes>"
      ]
     },
     "metadata": {},
     "output_type": "display_data"
    }
   ],
   "source": [
    "#7).Implement a simple Kalman Filter to track an object's position in a 2D space (simulate the object's movement with random noise).\n",
    "\n",
    "import numpy as np\n",
    "import matplotlib.pyplot as plt\n",
    "\n",
    "class KalmanFilter:\n",
    "    def __init__(self, state_dim, measurement_dim):\n",
    "        self.state = np.zeros((state_dim, 1))  # Initial state vector\n",
    "        self.covariance = np.eye(state_dim)  # State covariance matrix\n",
    "        self.transition_matrix = np.eye(state_dim)  # State transition matrix\n",
    "        self.measurement_matrix = np.eye(measurement_dim, state_dim)  # Measurement matrix\n",
    "        self.process_noise = np.eye(state_dim) * 0.01  # Process noise covariance\n",
    "        self.measurement_noise = np.eye(measurement_dim) * 0.1  # Measurement noise covariance\n",
    "\n",
    "    def predict(self):\n",
    "        self.state = np.dot(self.transition_matrix, self.state)\n",
    "        self.covariance = np.dot(self.transition_matrix, np.dot(self.covariance, self.transition_matrix.T)) + self.process_noise\n",
    "        return self.state\n",
    "\n",
    "    def update(self, measurement):\n",
    "        measurement_residual = measurement - np.dot(self.measurement_matrix, self.state)\n",
    "        innovation_covariance = np.dot(self.measurement_matrix, np.dot(self.covariance, self.measurement_matrix.T)) + self.measurement_noise\n",
    "        kalman_gain = np.dot(self.covariance, np.dot(self.measurement_matrix.T, np.linalg.inv(innovation_covariance)))\n",
    "        \n",
    "        self.state = self.state + np.dot(kalman_gain, measurement_residual)\n",
    "        self.covariance = self.covariance - np.dot(kalman_gain, np.dot(self.measurement_matrix, self.covariance))\n",
    "        return self.state\n",
    "\n",
    "def simulate_kalman_tracking():\n",
    "    kf = KalmanFilter(4, 2)\n",
    "    true_positions = []\n",
    "    estimated_positions = []\n",
    "\n",
    "    position = np.array([[0.0], [0.0]])  # Ensure the initial position is a float array\n",
    "    for step in range(50):\n",
    "        position += np.random.randn(2, 1) * 2  # Simulated noisy movement\n",
    "        true_positions.append(position.flatten())\n",
    "        \n",
    "        kf.predict()\n",
    "        estimated_position = kf.update(position + np.random.randn(2, 1) * 0.5)  # Noisy measurement\n",
    "        estimated_positions.append(estimated_position[:2].flatten())\n",
    "\n",
    "    true_positions = np.array(true_positions)\n",
    "    estimated_positions = np.array(estimated_positions)\n",
    "    \n",
    "    plt.plot(true_positions[:, 0], true_positions[:, 1], label='True Position', marker='o')\n",
    "    plt.plot(estimated_positions[:, 0], estimated_positions[:, 1], label='Estimated Position', marker='x')\n",
    "    plt.legend()\n",
    "    plt.show()\n",
    "\n",
    "simulate_kalman_tracking()\n"
   ]
  },
  {
   "cell_type": "code",
   "execution_count": null,
   "id": "ad17c867-2f79-4c78-8e66-824acb3cb7ee",
   "metadata": {},
   "outputs": [],
   "source": []
  }
 ],
 "metadata": {
  "kernelspec": {
   "display_name": "Python 3 (ipykernel)",
   "language": "python",
   "name": "python3"
  },
  "language_info": {
   "codemirror_mode": {
    "name": "ipython",
    "version": 3
   },
   "file_extension": ".py",
   "mimetype": "text/x-python",
   "name": "python",
   "nbconvert_exporter": "python",
   "pygments_lexer": "ipython3",
   "version": "3.12.5"
  }
 },
 "nbformat": 4,
 "nbformat_minor": 5
}
